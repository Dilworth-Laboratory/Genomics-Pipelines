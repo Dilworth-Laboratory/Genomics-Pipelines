{
 "cells": [
  {
   "cell_type": "markdown",
   "id": "ed7762ba",
   "metadata": {},
   "source": [
    "# <center><title>Single-Cell Analysis & Exploration Notebook</title></center>"
   ]
  },
  {
   "cell_type": "markdown",
   "id": "f92378cb",
   "metadata": {},
   "source": [
    "## <center>Preface</center>  \n",
    "<p style=\"font-size:20px;\">This Notebook provides: \n",
    "    <li style=\"font-size:16px;\">an interactive way to process, analyze, and view single-cell RNA sequenced data  \n",
    "    <li style=\"font-size:16px;\">suggested steps by growing standard practices for single-cell analysis  \n",
    "    <li style=\"font-size:16px;\">guided control over how each step is implemented  \n",
    "</p>  \n",
    "\n",
    "<p>  \n",
    "    <em>Currently based in a Python environment.  \n",
    "    </em>  \n",
    "</p>  \n",
    "<p>  \n",
    "    <em>Contact earezza@ohri.ca for any assistance required.  \n",
    "    </em>  \n",
    "</p> \n",
    "\n",
    "<div class=\"alert alert-block alert-info\">  \n",
    "    <p>  \n",
    "        <em>  \n",
    "            <center>Note 1:</center>  \n",
    "            <p>It is assumed that the raw sequencing data has already been preprocessed to produce a count matrix. It is from this count matrix data that we will begin our analysis.  \n",
    "            </p>  \n",
    "        </em>  \n",
    "    </p>  \n",
    "</div>  \n",
    "\n",
    "\n",
    "<div class=\"alert alert-block alert-warning\">  \n",
    "    <p>  \n",
    "        <em>  \n",
    "            <center>Note 2:</center>  \n",
    "            <p>Despite following the framework below, it is up to <strong>you</strong> to determine which steps or values to change or ignore based on your knowledge of experimental details in obtaining data and your overall analysis goals.  \n",
    "            </p>  \n",
    "        </em>  \n",
    "    </p>  \n",
    "</div>  \n"
   ]
  },
  {
   "cell_type": "markdown",
   "id": "5671d295",
   "metadata": {},
   "source": [
    "### <div class=\"alert alert-block alert-danger\"><center>DO NOT MAKE CHANGES TO THIS NOTEBOOK, USE ONLY AS A REFERENCE TEMPLATE!</center><br><center>ON THE JUPYTER HOME PAGE CLICK THE CHECKBOX BESIDE THIS NOTEBOOK, THEN CLICK DUPLICATE (change name if desired) AND OPEN THE NEW NOTEBOOK TO WORK IN</center></div>  "
   ]
  },
  {
   "cell_type": "markdown",
   "id": "a92f656c",
   "metadata": {},
   "source": [
    "#### Reference Docs  \n",
    "> <a href=\"https://docs.jupyter.org/en/latest/\"><strong>Jupyter Notebooks</strong></a>   \n",
    "> <a href=\"https://scanpy.readthedocs.io/en/stable/index.html\"><strong>Scanpy</strong></a>  \n",
    "> <a href=\"https://github.com/dpeerlab/Palantir/\"><strong>Palantir</strong></a>  \n",
    "> <a href=\"https://scvelo.readthedocs.io/getting_started/#alignment\"><strong>scVelo</strong></a> (_Currently not supported_)  \n",
    "\n",
    "##### Additional Resources  \n",
    "> <a href=\"https://www.10xgenomics.com/resources/analysis-guides\">_10X Genomics Analysis Guides_</a>  \n",
    "> <a href=\"https://www.10xgenomics.com/resources/analysis-guides/web-resources-for-cell-type-annotation\">_10X Genomics Web Resources for Cell Type Annotation_</a>  \n",
    "> <a href=\"https://www.singlecellcourse.org/\">_University of Cambridge scRNAseq Course_</a>  \n",
    "> <a href=\"https://satijalab.org/seurat/\">_Seurat_</a>  \n",
    "> <a href=\"https://bioconductor.org/books/3.14/OSCA.workflows/\">_Examples in R_</a>  \n",
    "> <a href=\"https://blog.bioturing.com/2022/06/13/single-cell-rna-seq-trajectory-analysis-review/\">_Single Cell Trajectory Analysis_</a>  "
   ]
  },
  {
   "cell_type": "markdown",
   "id": "4b6db191",
   "metadata": {},
   "source": [
    "## Single-Cell Analysis Workflow  \n",
    "<ol>\n",
    "    <li>Data Loading & Preprocessing</li>\n",
    "    <li>Data Cleaning & Quality Control</li>\n",
    "    <li>Normalization & Batch Correction</li>\n",
    "    <li>Dimensionality Reduction & Clustering</li>\n",
    "    <li>Differential Gene Expression & Cell Type Annotation</li>\n",
    "    <li>Trajectory Inference</li>\n",
    "</ol>"
   ]
  },
  {
   "cell_type": "markdown",
   "id": "b1453ee0",
   "metadata": {},
   "source": [
    "#### Double-click this cell for Anaconda environment requirements  \n",
    "<style>\n",
    "<div.input {display:none; \n",
    "name: scENV\n",
    "channels:\n",
    "  - bioconda\n",
    "  - conda-forge\n",
    "  - defaults\n",
    "dependencies:\n",
    "  - alabaster=0.7.12=py_0\n",
    "  - anndata=0.8.0=py39hcbf5309_0\n",
    "  - appdirs=1.4.4=pyhd3eb1b0_0\n",
    "  - argon2-cffi=21.3.0=pyhd3eb1b0_0\n",
    "  - argon2-cffi-bindings=21.2.0=py39h2bbff1b_0\n",
    "  - arrow=1.2.2=pyhd3eb1b0_0\n",
    "  - astroid=2.6.6=py39haa95532_0\n",
    "  - asttokens=2.0.5=pyhd3eb1b0_0\n",
    "  - atomicwrites=1.4.0=py_0\n",
    "  - attrs=21.4.0=pyhd3eb1b0_0\n",
    "  - autopep8=1.6.0=pyhd3eb1b0_0\n",
    "  - babel=2.10.3=pyhd8ed1ab_0\n",
    "  - backcall=0.2.0=pyhd3eb1b0_0\n",
    "  - bcrypt=3.2.0=py39h196d8e1_0\n",
    "  - beautifulsoup4=4.11.1=py39haa95532_0\n",
    "  - binaryornot=0.4.4=pyhd3eb1b0_1\n",
    "  - black=19.10b0=py_0\n",
    "  - bleach=4.1.0=pyhd3eb1b0_0\n",
    "  - bokeh=2.4.2=py39haa95532_1\n",
    "  - brotli=1.0.9=h8ffe710_7\n",
    "  - brotli-bin=1.0.9=h8ffe710_7\n",
    "  - brotlipy=0.7.0=py39hb82d6ee_1004\n",
    "  - ca-certificates=2022.6.15=h5b45459_0\n",
    "  - cached-property=1.5.2=hd8ed1ab_1\n",
    "  - cached_property=1.5.2=pyha770c72_1\n",
    "  - certifi=2022.6.15=py39haa95532_0\n",
    "  - cffi=1.15.0=py39h0878f49_0\n",
    "  - chardet=4.0.0=py39haa95532_1003\n",
    "  - charset-normalizer=2.0.12=pyhd8ed1ab_0\n",
    "  - click=8.0.4=py39haa95532_0\n",
    "  - cloudpickle=2.0.0=pyhd3eb1b0_0\n",
    "  - colorama=0.4.5=pyhd8ed1ab_0\n",
    "  - cookiecutter=1.7.3=pyhd3eb1b0_0\n",
    "  - cryptography=37.0.2=py39h7bc7c5c_0\n",
    "  - cycler=0.11.0=pyhd8ed1ab_0\n",
    "  - debugpy=1.5.1=py39hd77b12b_0\n",
    "  - decorator=5.1.1=pyhd3eb1b0_0\n",
    "  - defusedxml=0.7.1=pyhd3eb1b0_0\n",
    "  - diff-match-patch=20200713=pyhd3eb1b0_0\n",
    "  - docutils=0.18.1=py39hcbf5309_1\n",
    "  - entrypoints=0.4=py39haa95532_0\n",
    "  - executing=0.8.3=pyhd3eb1b0_0\n",
    "  - fa2=0.3.5=py39hb82d6ee_1\n",
    "  - flake8=3.9.2=pyhd3eb1b0_0\n",
    "  - fonttools=4.33.3=py39hb82d6ee_0\n",
    "  - freetype=2.10.4=h546665d_1\n",
    "  - future=0.18.2=py39hcbf5309_5\n",
    "  - glpk=4.65=h8ffe710_1004\n",
    "  - h5py=3.7.0=nompi_py39hd4deaf1_100\n",
    "  - hdf5=1.12.1=nompi_h2a0e4a3_104\n",
    "  - icu=58.2=ha925a31_3\n",
    "  - idna=3.3=pyhd8ed1ab_0\n",
    "  - igraph=0.9.9=h89236e6_0\n",
    "  - imagesize=1.3.0=pyhd8ed1ab_0\n",
    "  - importlib-metadata=4.11.4=py39hcbf5309_0\n",
    "  - importlib_metadata=4.11.4=hd8ed1ab_0\n",
    "  - inflection=0.5.1=py39haa95532_0\n",
    "  - intel-openmp=2022.1.0=h57928b3_3787\n",
    "  - intervaltree=3.1.0=pyhd3eb1b0_0\n",
    "  - ipykernel=6.9.1=py39haa95532_0\n",
    "  - ipython=8.3.0=py39haa95532_0\n",
    "  - ipython_genutils=0.2.0=pyhd3eb1b0_1\n",
    "  - ipywidgets=7.6.5=pyhd3eb1b0_1\n",
    "  - isort=5.9.3=pyhd3eb1b0_0\n",
    "  - jedi=0.18.1=py39haa95532_1\n",
    "  - jinja2=3.1.2=pyhd8ed1ab_1\n",
    "  - jinja2-time=0.2.0=pyhd3eb1b0_3\n",
    "  - joblib=1.1.0=pyhd8ed1ab_0\n",
    "  - jpeg=9e=h8ffe710_1\n",
    "  - jsonschema=4.4.0=py39haa95532_0\n",
    "  - jupyter=1.0.0=py39haa95532_7\n",
    "  - jupyter_client=6.1.12=pyhd3eb1b0_0\n",
    "  - jupyter_console=6.4.0=pyhd3eb1b0_0\n",
    "  - jupyter_core=4.10.0=py39haa95532_0\n",
    "  - jupyterlab_pygments=0.1.2=py_0\n",
    "  - jupyterlab_widgets=1.0.0=pyhd3eb1b0_1\n",
    "  - keyring=23.4.0=py39haa95532_0\n",
    "  - kiwisolver=1.4.3=py39h2e07f2f_0\n",
    "  - krb5=1.19.3=h1176d77_0\n",
    "  - lazy-object-proxy=1.6.0=py39h2bbff1b_0\n",
    "  - lcms2=2.12=h2a16943_0\n",
    "  - leidenalg=0.8.10=py39h5cc5705_0\n",
    "  - lerc=3.0=h0e60522_0\n",
    "  - libblas=3.9.0=15_win64_mkl\n",
    "  - libbrotlicommon=1.0.9=h8ffe710_7\n",
    "  - libbrotlidec=1.0.9=h8ffe710_7\n",
    "  - libbrotlienc=1.0.9=h8ffe710_7\n",
    "  - libcblas=3.9.0=15_win64_mkl\n",
    "  - libcurl=7.83.1=h789b8ee_0\n",
    "  - libdeflate=1.12=h8ffe710_0\n",
    "  - libiconv=1.16=he774522_0\n",
    "  - liblapack=3.9.0=15_win64_mkl\n",
    "  - liblapacke=3.9.0=15_win64_mkl\n",
    "  - libpng=1.6.37=h1d00b33_2\n",
    "  - libspatialindex=1.9.3=h6c2663c_0\n",
    "  - libssh2=1.10.0=h680486a_2\n",
    "  - libtiff=4.4.0=h2ed3b44_1\n",
    "  - libwebp=1.2.2=h57928b3_0\n",
    "  - libwebp-base=1.2.2=h8ffe710_1\n",
    "  - libxcb=1.13=hcd874cb_1004\n",
    "  - libxml2=2.9.14=hf5bbc77_0\n",
    "  - libzlib=1.2.12=h8ffe710_1\n",
    "  - llvmlite=0.38.1=py39ha0cd8c8_0\n",
    "  - loompy=2.0.16=py_0\n",
    "  - louvain=0.7.1=py39h5cc5705_2\n",
    "  - lz4-c=1.9.3=h8ffe710_1\n",
    "  - m2w64-gcc-libgfortran=5.3.0=6\n",
    "  - m2w64-gcc-libs=5.3.0=7\n",
    "  - m2w64-gcc-libs-core=5.3.0=7\n",
    "  - m2w64-gmp=6.1.0=2\n",
    "  - m2w64-libwinpthread-git=5.0.0.4634.697f757=2\n",
    "  - markupsafe=2.1.1=py39hb82d6ee_1\n",
    "  - matplotlib-base=3.5.2=py39h581301d_0\n",
    "  - matplotlib-inline=0.1.2=pyhd3eb1b0_2\n",
    "  - mccabe=0.6.1=py39haa95532_1\n",
    "  - mistune=0.8.4=py39h2bbff1b_1000\n",
    "  - mkl=2022.1.0=h6a75c08_874\n",
    "  - mpir=3.0.0=he025d50_1002\n",
    "  - msys2-conda-epoch=20160418=1\n",
    "  - multicore-tsne=0.1_d4ff4aab=py39hefe7e4c_2\n",
    "  - munkres=1.1.4=pyh9f0ad1d_0\n",
    "  - mypy_extensions=0.4.3=py39haa95532_1\n",
    "  - natsort=8.1.0=pyhd8ed1ab_0\n",
    "  - nbclient=0.5.13=py39haa95532_0\n",
    "  - nbconvert=6.4.4=py39haa95532_0\n",
    "  - nbformat=5.3.0=py39haa95532_0\n",
    "  - nest-asyncio=1.5.5=py39haa95532_0\n",
    "  - networkx=2.8.4=pyhd8ed1ab_0\n",
    "  - notebook=6.4.11=py39haa95532_0\n",
    "  - numba=0.55.2=py39hb8cd55e_0\n",
    "  - numpy=1.22.3=py39h0948cea_2\n",
    "  - numpydoc=1.2=pyhd3eb1b0_0\n",
    "  - openjpeg=2.4.0=hb211442_1\n",
    "  - openssl=1.1.1q=h8ffe710_0\n",
    "  - packaging=21.3=pyhd8ed1ab_0\n",
    "  - pandas=1.4.3=py39h2e25243_0\n",
    "  - pandocfilters=1.5.0=pyhd3eb1b0_0\n",
    "  - paramiko=2.8.1=pyhd3eb1b0_0\n",
    "  - parso=0.8.3=pyhd3eb1b0_0\n",
    "  - pathspec=0.7.0=py_0\n",
    "  - patsy=0.5.2=pyhd8ed1ab_0\n",
    "  - pexpect=4.8.0=pyhd3eb1b0_3\n",
    "  - pickleshare=0.7.5=pyhd3eb1b0_1003\n",
    "  - pillow=9.1.1=py39ha53f419_1\n",
    "  - pip=21.2.4=py39haa95532_0\n",
    "  - pluggy=1.0.0=py39haa95532_1\n",
    "  - poyo=0.5.0=pyhd3eb1b0_0\n",
    "  - progressbar2=4.0.0=pyhd8ed1ab_0\n",
    "  - prometheus_client=0.13.1=pyhd3eb1b0_0\n",
    "  - prompt-toolkit=3.0.20=pyhd3eb1b0_0\n",
    "  - prompt_toolkit=3.0.20=hd3eb1b0_0\n",
    "  - pthread-stubs=0.4=hcd874cb_1001\n",
    "  - ptyprocess=0.7.0=pyhd3eb1b0_2\n",
    "  - pure_eval=0.2.2=pyhd3eb1b0_0\n",
    "  - pycodestyle=2.7.0=pyhd3eb1b0_0\n",
    "  - pycparser=2.21=pyhd8ed1ab_0\n",
    "  - pydocstyle=6.1.1=pyhd3eb1b0_0\n",
    "  - pyflakes=2.3.1=pyhd3eb1b0_0\n",
    "  - pygam=0.8.0=py_0\n",
    "  - pygments=2.12.0=pyhd8ed1ab_0\n",
    "  - pylint=2.9.6=py39haa95532_1\n",
    "  - pyls-spyder=0.4.0=pyhd3eb1b0_0\n",
    "  - pynacl=1.4.0=py39hbd8134f_1\n",
    "  - pynndescent=0.5.7=pyh6c4a22f_0\n",
    "  - pyopenssl=22.0.0=pyhd8ed1ab_0\n",
    "  - pyparsing=3.0.9=pyhd8ed1ab_0\n",
    "  - pyqt=5.9.2=py39hd77b12b_6\n",
    "  - pyrsistent=0.18.0=py39h196d8e1_0\n",
    "  - pysocks=1.7.1=py39hcbf5309_5\n",
    "  - python=3.9.12=h6244533_0\n",
    "  - python-dateutil=2.8.2=pyhd8ed1ab_0\n",
    "  - python-fastjsonschema=2.15.1=pyhd3eb1b0_0\n",
    "  - python-igraph=0.9.11=py39h4a3397e_0\n",
    "  - python-lsp-black=1.0.0=pyhd3eb1b0_0\n",
    "  - python-lsp-jsonrpc=1.0.0=pyhd3eb1b0_0\n",
    "  - python-lsp-server=1.2.4=pyhd3eb1b0_0\n",
    "  - python-slugify=5.0.2=pyhd3eb1b0_0\n",
    "  - python-utils=3.3.3=pyhd8ed1ab_0\n",
    "  - python_abi=3.9=2_cp39\n",
    "  - pytz=2022.1=pyhd8ed1ab_0\n",
    "  - pywin32=302=py39h2bbff1b_2\n",
    "  - pywin32-ctypes=0.2.0=py39haa95532_1000\n",
    "  - pywinpty=2.0.2=py39h5da7b33_0\n",
    "  - pyyaml=6.0=py39h2bbff1b_1\n",
    "  - pyzmq=22.3.0=py39hd77b12b_2\n",
    "  - qdarkstyle=3.0.2=pyhd3eb1b0_0\n",
    "  - qstylizer=0.1.10=pyhd3eb1b0_0\n",
    "  - qt=5.9.7=vc14h73c81de_0\n",
    "  - qtawesome=1.0.3=pyhd3eb1b0_0\n",
    "  - qtconsole=5.3.0=pyhd3eb1b0_0\n",
    "  - qtpy=2.0.1=pyhd3eb1b0_0\n",
    "  - regex=2022.3.15=py39h2bbff1b_0\n",
    "  - requests=2.28.0=pyhd8ed1ab_1\n",
    "  - rope=0.22.0=pyhd3eb1b0_0\n",
    "  - rtree=0.9.7=py39h2eaa2aa_1\n",
    "  - scanpy=1.9.1=pyhd8ed1ab_0\n",
    "  - scikit-learn=1.1.1=py39he931e04_0\n",
    "  - scipy=1.8.1=py39hc0c34ad_0\n",
    "  - scvelo=0.2.4=pyhdfd78af_0\n",
    "  - seaborn=0.11.2=hd8ed1ab_0\n",
    "  - seaborn-base=0.11.2=pyhd8ed1ab_0\n",
    "  - send2trash=1.8.0=pyhd3eb1b0_1\n",
    "  - session-info=1.0.0=pyhd8ed1ab_0\n",
    "  - setuptools=61.2.0=py39haa95532_0\n",
    "  - sip=4.19.13=py39hd77b12b_0\n",
    "  - six=1.16.0=pyh6c4a22f_0\n",
    "  - snowballstemmer=2.2.0=pyhd8ed1ab_0\n",
    "  - sortedcontainers=2.4.0=pyhd3eb1b0_0\n",
    "  - soupsieve=2.3.1=pyhd3eb1b0_0\n",
    "  - sphinx=5.0.2=pyh6c4a22f_0\n",
    "  - sphinxcontrib-applehelp=1.0.2=py_0\n",
    "  - sphinxcontrib-devhelp=1.0.2=py_0\n",
    "  - sphinxcontrib-htmlhelp=2.0.0=pyhd8ed1ab_0\n",
    "  - sphinxcontrib-jsmath=1.0.1=py_0\n",
    "  - sphinxcontrib-qthelp=1.0.3=py_0\n",
    "  - sphinxcontrib-serializinghtml=1.1.5=pyhd8ed1ab_2\n",
    "  - spyder=5.1.5=py39haa95532_1\n",
    "  - spyder-kernels=2.1.3=py39haa95532_0\n",
    "  - sqlite=3.38.5=h2bbff1b_0\n",
    "  - stack_data=0.2.0=pyhd3eb1b0_0\n",
    "  - statsmodels=0.13.2=py39h5d4886f_0\n",
    "  - stdlib-list=0.7.0=py_2\n",
    "  - suitesparse=5.4.0=h5d0cbe0_1\n",
    "  - tbb=2021.5.0=h2d74725_1\n",
    "  - terminado=0.13.1=py39haa95532_0\n",
    "  - testpath=0.6.0=py39haa95532_0\n",
    "  - text-unidecode=1.3=pyhd3eb1b0_0\n",
    "  - textdistance=4.2.1=pyhd3eb1b0_0\n",
    "  - texttable=1.6.4=pyhd8ed1ab_0\n",
    "  - threadpoolctl=3.1.0=pyh8a188c0_0\n",
    "  - three-merge=0.1.1=pyhd3eb1b0_0\n",
    "  - tinycss=0.4=pyhd3eb1b0_1002\n",
    "  - tk=8.6.12=h8ffe710_0\n",
    "  - toml=0.10.2=pyhd3eb1b0_0\n",
    "  - tornado=6.1=py39h2bbff1b_0\n",
    "  - tqdm=4.64.0=pyhd8ed1ab_0\n",
    "  - traitlets=5.1.1=pyhd3eb1b0_0\n",
    "  - typed-ast=1.4.3=py39h2bbff1b_1\n",
    "  - typing=3.10.0.0=py39haa95532_0\n",
    "  - typing-extensions=4.1.1=hd3eb1b0_0\n",
    "  - typing_extensions=4.1.1=pyh06a4308_0\n",
    "  - ujson=5.1.0=py39hd77b12b_0\n",
    "  - umap-learn=0.5.3=py39hcbf5309_0\n",
    "  - unicodedata2=14.0.0=py39hb82d6ee_1\n",
    "  - unidecode=1.2.0=pyhd3eb1b0_0\n",
    "  - urllib3=1.26.9=pyhd8ed1ab_0\n",
    "  - vc=14.2=h21ff451_1\n",
    "  - vs2015_runtime=14.27.29016=h5e58377_2\n",
    "  - watchdog=2.1.6=py39haa95532_0\n",
    "  - wcwidth=0.2.5=pyhd3eb1b0_0\n",
    "  - webencodings=0.5.1=py39haa95532_1\n",
    "  - wheel=0.37.1=pyhd3eb1b0_0\n",
    "  - widgetsnbextension=3.5.2=py39haa95532_0\n",
    "  - win_inet_pton=1.1.0=py39hcbf5309_4\n",
    "  - wincertstore=0.2=py39haa95532_2\n",
    "  - winpty=0.4.3=4\n",
    "  - wrapt=1.12.1=py39h196d8e1_1\n",
    "  - xorg-libxau=1.0.9=hcd874cb_0\n",
    "  - xorg-libxdmcp=1.1.3=hcd874cb_0\n",
    "  - xz=5.2.5=h62dcd97_1\n",
    "  - yaml=0.2.5=he774522_0\n",
    "  - yapf=0.31.0=pyhd3eb1b0_0\n",
    "  - zipp=3.8.0=pyhd8ed1ab_0\n",
    "  - zlib=1.2.12=h8ffe710_1\n",
    "  - zstd=1.5.2=h6255e5f_1\n",
    "  - pip:\n",
    "    - cmake==3.22.5\n",
    "    - cython==0.29.30\n",
    "    - fcsparser==0.2.4\n",
    "    - numexpr==2.8.3\n",
    "    - palantir==1.0.1\n",
    "    - phenograph==1.5.7\n",
    "    - psutil==5.9.1\n",
    "    - pytz-deprecation-shim==0.1.0.post0\n",
    "    - tables==3.7.0\n",
    "    - tzdata==2022.1\n",
    "    - tzlocal==4.2\n",
    "           }></div>\n",
    "    </style>\n",
    "           "
   ]
  },
  {
   "cell_type": "markdown",
   "id": "7a0563e2",
   "metadata": {},
   "source": [
    "#### Double-click this cell for Virtualenv environment requirements (remove +computecanada if on local machine)  \n",
    "<style>\n",
    "<div.input {display:none; \n",
    "anndata==0.7.5+computecanada  \n",
    "arff==0.9+computecanada  \n",
    "argon2_cffi==21.3.0+computecanada  \n",
    "argon2_cffi_bindings==21.2.0+computecanada  \n",
    "async_generator==1.10+computecanada  \n",
    "attrs==21.4.0+computecanada  \n",
    "backcall==0.2.0+computecanada  \n",
    "backports.shutil_get_terminal_size==1.0.0+computecanada  \n",
    "backports.zoneinfo==0.2.1  \n",
    "backports_abc==0.5+computecanada  \n",
    "bcrypt==3.2.0+computecanada  \n",
    "bitstring==3.1.9+computecanada  \n",
    "bleach==4.1.0+computecanada  \n",
    "bokeh==2.4.2+computecanada  \n",
    "certifi==2021.10.8+computecanada  \n",
    "cffi==1.15.0+computecanada  \n",
    "chardet==4.0.0+computecanada  \n",
    "charset_normalizer==2.0.11+computecanada  \n",
    "click==8.1.3+computecanada  \n",
    "cmake==3.21.3+computecanada  \n",
    "cryptography==36.0.1+computecanada  \n",
    "cycler==0.11.0+computecanada  \n",
    "Cython==0.29.27+computecanada  \n",
    "deap==1.0.1+computecanada  \n",
    "debugpy==1.5.1+computecanada  \n",
    "decorator==5.1.1+computecanada  \n",
    "defusedxml==0.7.1+computecanada  \n",
    "dnspython==2.2.0+computecanada  \n",
    "ecdsa==0.17.0+computecanada  \n",
    "entrypoints==0.4+computecanada  \n",
    "fa2==0.3.5+computecanada  \n",
    "fcsparser==0.2.4  \n",
    "fonttools==4.29.1+computecanada  \n",
    "forceatlas2-python==1.1+computecanada  \n",
    "funcsigs==1.0.2+computecanada  \n",
    "future==0.18.2+computecanada  \n",
    "h5py==3.6.0+computecanada  \n",
    "idna==3.3+computecanada  \n",
    "igraph==0.9.11  \n",
    "importlib_metadata==4.10.1+computecanada  \n",
    "importlib_resources==5.4.0+computecanada  \n",
    "iniconfig==1.1.1+computecanada  \n",
    "ipykernel==6.0.3+computecanada  \n",
    "ipython==7.31.1+computecanada  \n",
    "ipython_genutils==0.2.0+computecanada  \n",
    "ipywidgets==7.6.5+computecanada  \n",
    "jedi==0.18.1+computecanada  \n",
    "Jinja2==3.1.2+computecanada  \n",
    "joblib==1.1.0+computecanada  \n",
    "jsonschema==4.4.0+computecanada  \n",
    "jupyter==1.0.0+computecanada  \n",
    "jupyter-client==6.1.12+computecanada  \n",
    "jupyter-console==6.4.0+computecanada  \n",
    "jupyter_core==4.9.1+computecanada  \n",
    "jupyterlab_pygments==0.1.2+computecanada  \n",
    "jupyterlab_widgets==1.0.2+computecanada  \n",
    "kiwisolver==1.3.2+computecanada  \n",
    "leidenalg==0.8.10  \n",
    "llvmlite==0.38.1+computecanada  \n",
    "lockfile==0.12.2+computecanada  \n",
    "loompy==3.0.6+computecanada  \n",
    "louvain==0.7.1  \n",
    "MarkupSafe==2.0.1+computecanada  \n",
    "matplotlib==3.5.1+computecanada  \n",
    "matplotlib_inline==0.1.3+computecanada  \n",
    "mistune==0.8.4+computecanada  \n",
    "mock==4.0.3+computecanada  \n",
    "mpmath==1.2.1+computecanada  \n",
    "natsort==8.1.0+computecanada  \n",
    "nbclient==0.5.10+computecanada  \n",
    "nbconvert==6.4.2+computecanada  \n",
    "nbformat==5.1.3+computecanada  \n",
    "nest_asyncio==1.5.4+computecanada  \n",
    "netaddr==0.8.0+computecanada  \n",
    "netifaces==0.11.0+computecanada  \n",
    "networkx==2.8.4+computecanada  \n",
    "nose==1.3.7+computecanada  \n",
    "notebook==6.4.8+computecanada  \n",
    "numba==0.55.2+computecanada  \n",
    "numexpr==2.8.1+computecanada  \n",
    "numpy==1.22.2+computecanada  \n",
    "numpy-groupies==0.9.10+computecanada  \n",
    "packaging==21.3+computecanada  \n",
    "palantir==1.0.1  \n",
    "pandas==1.4.1+computecanada  \n",
    "pandocfilters==1.5.0+computecanada  \n",
    "paramiko==2.9.2+computecanada  \n",
    "parso==0.8.3+computecanada  \n",
    "path==16.3.0+computecanada  \n",
    "path.py==12.5.0+computecanada  \n",
    "pathlib2==2.3.6+computecanada  \n",
    "patsy==0.5.2+computecanada  \n",
    "paycheck==1.0.2+computecanada  \n",
    "pbr==5.8.1+computecanada  \n",
    "pexpect==4.8.0+computecanada  \n",
    "PhenoGraph==1.5.7  \n",
    "pickleshare==0.7.5+computecanada  \n",
    "Pillow==9.0.1+computecanada  \n",
    "pluggy==1.0.0+computecanada  \n",
    "progressbar2==4.0.0  \n",
    "prometheus_client==0.13.1+computecanada  \n",
    "prompt_toolkit==3.0.26+computecanada  \n",
    "psutil==5.9.0+computecanada  \n",
    "ptyprocess==0.7.0+computecanada  \n",
    "py==1.11.0+computecanada  \n",
    "pycparser==2.21+computecanada  \n",
    "pygam==0.8.0  \n",
    "Pygments==2.11.2+computecanada  \n",
    "PyNaCl==1.5.0+computecanada  \n",
    "pynndescent==0.5.2+computecanada  \n",
    "pyparsing==3.0.9+computecanada  \n",
    "pyrsistent==0.18.1+computecanada  \n",
    "pysam==0.19.1+computecanada  \n",
    "pytest==7.1.2+computecanada  \n",
    "python-dateutil==2.8.2+computecanada  \n",
    "python-utils==3.3.3  \n",
    "pytz==2022.1+computecanada  \n",
    "pytz-deprecation-shim==0.1.0.post0  \n",
    "PyYAML==6.0+computecanada  \n",
    "pyzmq==22.3.0+computecanada  \n",
    "qtconsole==5.1.1+computecanada  \n",
    "QtPy==2.1.0+computecanada  \n",
    "requests==2.27.1+computecanada  \n",
    "rpy2==3.1.0+computecanada  \n",
    "scanpy==1.8.2+computecanada  \n",
    "scikit_learn==1.0.2+computecanada  \n",
    "scipy==1.8.0+computecanada  \n",
    "scvelo==0.2.2+computecanada  \n",
    "seaborn==0.11.2+computecanada  \n",
    "Send2Trash==1.8.0+computecanada  \n",
    "simplegeneric==0.8.1+computecanada  \n",
    "sinfo==0.3.1+computecanada  \n",
    "singledispatch==3.7.0+computecanada  \n",
    "six==1.16.0+computecanada  \n",
    "statsmodels==0.13.2+computecanada  \n",
    "stdlib-list==0.7.0+computecanada  \n",
    "sympy==1.9+computecanada  \n",
    "tables==3.7.0+computecanada  \n",
    "terminado==0.13.1+computecanada  \n",
    "testpath==0.5.0+computecanada  \n",
    "texttable==1.6.4+computecanada  \n",
    "threadpoolctl==3.1.0+computecanada  \n",
    "tomli==2.0.1+computecanada  \n",
    "tornado==6.1+computecanada  \n",
    "tqdm==4.64.0+computecanada  \n",
    "traitlets==5.0.5+computecanada  \n",
    "typing_extensions==4.2.0+computecanada  \n",
    "tzdata==2022.1  \n",
    "tzlocal==4.2  \n",
    "umap-learn==0.5.1+computecanada  \n",
    "urllib3==1.26.8+computecanada  \n",
    "velocyto==0.17.17  \n",
    "wcwidth==0.2.5+computecanada  \n",
    "webencodings==0.5.1+computecanada  \n",
    "widgetsnbextension==3.5.2+computecanada  \n",
    "zipp==3.7.0+computecanada  \n",
    "}>\n",
    "    </div>\n",
    "</style>"
   ]
  },
  {
   "cell_type": "markdown",
   "id": "81d3b474",
   "metadata": {},
   "source": [
    "___  \n",
    "# <center>BEGIN</center>  \n",
    "___  "
   ]
  },
  {
   "cell_type": "markdown",
   "id": "dc0e7193",
   "metadata": {},
   "source": [
    "<p style=\"color:black;font-size:16px\">Notebook Color Legend:  \n",
    "    <ul>\n",
    "        <li style=\"color:black\">BLACK - Descriptions, hints, etc...</li>\n",
    "        <li style=\"color:green\">GREEN - The following step changes/adds/removes variables in the current data object</li>  \n",
    "        <li style=\"color:darkviolet\">VIOLET - The following step is for visualization/inspection and does not change the current data object</li>  \n",
    "    </ul>\n",
    "</p>"
   ]
  },
  {
   "cell_type": "markdown",
   "id": "e1dd336b",
   "metadata": {},
   "source": [
    "## Load libraries/packages/modules"
   ]
  },
  {
   "cell_type": "code",
   "execution_count": null,
   "id": "a1843aad",
   "metadata": {
    "scrolled": true
   },
   "outputs": [],
   "source": [
    "import itertools\n",
    "import scanpy as sc\n",
    "import seaborn as sns\n",
    "import pandas as pd\n",
    "import numpy as np\n",
    "import anndata as ad\n",
    "import palantir\n",
    "#import scvelo as scv # Currently not supported\n",
    "import matplotlib.pyplot as plt\n",
    "import warnings\n",
    "warnings.filterwarnings(\"ignore\", category=FutureWarning)"
   ]
  },
  {
   "cell_type": "markdown",
   "id": "3de32a8d",
   "metadata": {},
   "source": [
    "Enable notebook visualizations"
   ]
  },
  {
   "cell_type": "code",
   "execution_count": null,
   "id": "5ad00bc8",
   "metadata": {
    "scrolled": true
   },
   "outputs": [],
   "source": [
    "# for quick static visualization\n",
    "%matplotlib inline\n",
    "# for adjustable visualizations\n",
    "#%matplotlib notebook"
   ]
  },
  {
   "cell_type": "markdown",
   "id": "c6f57b33",
   "metadata": {},
   "source": [
    "### Define some commonly used variables"
   ]
  },
  {
   "cell_type": "code",
   "execution_count": null,
   "id": "5c3d7002",
   "metadata": {
    "scrolled": true
   },
   "outputs": [],
   "source": [
    "# Taken from R package Seurat cc.genes\n",
    "cell_cycle_genes = {'S': [\"MCM5\", \"PCNA\", \"TYMS\", \"FEN1\", \"MCM2\", \"MCM4\", \"RRM1\", \"UNG\", \"GINS2\", \"MCM6\",\n",
    "                          \"CDCA7\", \"DTL\", \"PRIM1\", \"UHRF1\", \"MLF1IP\", \"HELLS\", \"RFC2\", \"RPA2\", \"NASP\", \"RAD51AP1\",\n",
    "                          \"GMNN\", \"WDR76\", \"SLBP\", \"CCNE2\", \"UBR7\", \"POLD3\", \"MSH2\", \"ATAD2\", \"RAD51\", \"RRM2\",\n",
    "                          \"CDC45\", \"CDC6\" , \"EXO1\", \"TIPIN\", \"DSCC1\", \"BLM\", \"CASP8AP2\", \"USP1\", \"CLSPN\", \"POLA1\",\n",
    "                          \"CHAF1B\", \"BRIP1\", \"E2F8\"\n",
    "                          ],\n",
    "                    'G2M': [\"HMGB2\", \"CDK1\", \"NUSAP1\", \"UBE2C\", \"BIRC5\", \"TPX2\", \"TOP2A\", \"NDC80\", \"CKS2\", \"NUF2\", \"CKS1B\",\n",
    "                            \"MKI67\", \"TMPO\", \"CENPF\", \"TACC3\", \"FAM64A\", \"SMC4\", \"CCNB2\", \"CKAP2L\", \"CKAP2\", \"AURKB\", \"BUB1\",\n",
    "                            \"KIF11\", \"ANP32E\", \"TUBB4B\", \"GTSE1\", \"KIF20B\", \"HJURP\", \"CDCA3\", \"HN1\", \"CDC20\", \"TTK\", \"CDC25C\",\n",
    "                            \"KIF2C\", \"RANGAP1\", \"NCAPD2\", \"DLGAP5\", \"CDCA2\", \"CDCA8\", \"ECT2\", \"KIF23\", \"HMMR\", \"AURKA\", \"PSRC1\",\n",
    "                            \"ANLN\", \"LBR\", \"CKAP5\", \"CENPE\", \"CTCF\", \"NEK2\", \"G2E3\", \"GAS2L3\", \"CBX5\", \"CENPA\"\n",
    "                            ]\n",
    "                    }\n",
    "cell_cycle_genes_update2019 = {'S': [\"MCM5\", \"PCNA\", \"TYMS\", \"FEN1\", \"MCM7\", \"MCM4\", \"RRM1\", \"UNG\", \"GINS2\", \"MCM6\",\n",
    "                          \"CDCA7\", \"DTL\", \"PRIM1\", \"UHRF1\", \"CENPU\", \"HELLS\", \"RFC2\", \"POLR1B\", \"NASP\", \"RAD51AP1\",\n",
    "                          \"GMNN\", \"WDR76\", \"SLBP\", \"CCNE2\", \"UBR7\", \"POLD3\", \"MSH2\", \"ATAD2\", \"RAD51\", \"RRM2\",\n",
    "                          \"CDC45\", \"CDC6\" , \"EXO1\", \"TIPIN\", \"DSCC1\", \"BLM\", \"CASP8AP2\", \"USP1\", \"CLSPN\", \"POLA1\",\n",
    "                          \"CHAF1B\", \"MRPL36\", \"E2F8\"\n",
    "                          ],\n",
    "                    'G2M': [\"HMGB2\", \"CDK1\", \"NUSAP1\", \"UBE2C\", \"BIRC5\", \"TPX2\", \"TOP2A\", \"NDC80\", \"CKS2\", \"NUF2\", \"CKS1B\",\n",
    "                            \"MKI67\", \"TMPO\", \"CENPF\", \"TACC3\", \"PIMREG\", \"SMC4\", \"CCNB2\", \"CKAP2L\", \"CKAP2\", \"AURKB\", \"BUB1\",\n",
    "                            \"KIF11\", \"ANP32E\", \"TUBB4B\", \"GTSE1\", \"KIF20B\", \"HJURP\", \"CDCA3\", \"JPT1\", \"CDC20\", \"TTK\", \"CDC25C\",\n",
    "                            \"KIF2C\", \"RANGAP1\", \"NCAPD2\", \"DLGAP5\", \"CDCA2\", \"CDCA8\", \"ECT2\", \"KIF23\", \"HMMR\", \"AURKA\", \"PSRC1\",\n",
    "                            \"ANLN\", \"LBR\", \"CKAP5\", \"CENPE\", \"CTCF\", \"NEK2\", \"G2E3\", \"GAS2L3\", \"CBX5\", \"CENPA\"\n",
    "                            ]\n",
    "                    }\n",
    "# Format according to data's gene naming\n",
    "for i in range(0, len(cell_cycle_genes['S'])):\n",
    "    cell_cycle_genes['S'][i] = cell_cycle_genes['S'][i].lower().capitalize()\n",
    "for i in range(0, len(cell_cycle_genes['G2M'])):\n",
    "    cell_cycle_genes['G2M'][i] = cell_cycle_genes['G2M'][i].lower().capitalize()\n",
    "for i in range(0, len(cell_cycle_genes_update2019['S'])):\n",
    "    cell_cycle_genes_update2019['S'][i] = cell_cycle_genes_update2019['S'][i].lower().capitalize()\n",
    "for i in range(0, len(cell_cycle_genes_update2019['G2M'])):\n",
    "    cell_cycle_genes_update2019['G2M'][i] = cell_cycle_genes_update2019['G2M'][i].lower().capitalize()"
   ]
  },
  {
   "cell_type": "markdown",
   "id": "614192da",
   "metadata": {},
   "source": [
    "#### Define any marker genes associated with cell types"
   ]
  },
  {
   "cell_type": "code",
   "execution_count": null,
   "id": "12cd0646",
   "metadata": {
    "scrolled": true
   },
   "outputs": [],
   "source": [
    "# Change according to data analysis...e.g. 'Cell Type': ['list', 'of', 'gene', 'markers']\n",
    "markers = {'MSC': ['Lepr', 'Cxcl12', 'Adipoq', 'Kitl', 'Angpt1', 'Nt5e', 'Vcam1', 'Eng', 'Grem1'],\n",
    "           'OLC': ['Bglap'],\n",
    "           'Chondrocyte': ['Col2a1', 'Acan'],\n",
    "           'Fibroblast': ['S100a4'],\n",
    "           'BMEC': ['Cdh5'],\n",
    "           'Pericyte': ['Acta2']\n",
    "          }\n",
    "genes = list(itertools.chain(*list(markers.values())))"
   ]
  },
  {
   "cell_type": "markdown",
   "id": "934420db",
   "metadata": {},
   "source": [
    "___\n",
    "# <center>Data Loading & Preprocessing</center>  \n",
    "<center>Read count matrix file(s), add annotations, compute stats</center>  \n",
    "\n",
    "___"
   ]
  },
  {
   "cell_type": "markdown",
   "id": "fb6a2345",
   "metadata": {},
   "source": [
    "<p style=\"font-size:16px;\"><strong>Choose the appropriate Scanpy function to <a href=\"https://scanpy.readthedocs.io/en/stable/api.html#reading\">read different file formats.</a></strong></p>  "
   ]
  },
  {
   "cell_type": "markdown",
   "id": "3ec64f21",
   "metadata": {},
   "source": [
    "#### If you have a single dataset under investigation  \n",
    "\n",
    "> Load count matrix  \n",
    "> ```python  \n",
    "> data = read_h5ad('dataset.h5ad')  \n",
    "> ```  \n",
    "\n",
    "#### If you have multiple datasets (e.g. different sample types, experimental conditions, etc...)  \n",
    "\n",
    "> Load count matrix for each  \n",
    "> ```python  \n",
    "> data_1 = read_h5ad('dataset_1.h5ad')  \n",
    "> data_2 = read_h5ad('dataset_2.h5ad')\n",
    "> ```  \n",
    "> Annotate each sample and combine them into a single dataset  \n",
    "> ```python  \n",
    "> data_1.obs['sample'] = 'first'  \n",
    "> data_2.obs['sample'] = 'second'  \n",
    "> data_3.obs['sample'] = 'third'  \n",
    "> data = data_1.concatenate(data_2, data_3)\n",
    "> ```  "
   ]
  },
  {
   "cell_type": "markdown",
   "id": "bd07c318",
   "metadata": {},
   "source": [
    "<p>In this example, two datasets were produced from an experiment. One dataset contains wild type (\"WT\") samples and the other contains gene knock-out (\"KO\") samples. These datasets were produced as 10X formatted matrix data (i.e. filtered_feature_bc_matrix/ containing barcodes.tsv.gz, features.tsv.gz matrix.mtx.gz), so we'll load them using the sc.read_10x_mtx() function.</p>"
   ]
  },
  {
   "cell_type": "markdown",
   "id": "48743bb2",
   "metadata": {},
   "source": [
    "<p style=\"color:green;font-size:16px;\">Load count matrices</p>  "
   ]
  },
  {
   "cell_type": "code",
   "execution_count": null,
   "id": "e8b1c331",
   "metadata": {
    "scrolled": true
   },
   "outputs": [],
   "source": [
    "ko = sc.read_10x_mtx('filtered_feature_bc_matrix_Ko/', cache=True)\n",
    "wt = sc.read_10x_mtx('filtered_feature_bc_matrix_Wt/', cache=True)                              \n",
    "ko.var_names_make_unique()  \n",
    "wt.var_names_make_unique() "
   ]
  },
  {
   "cell_type": "markdown",
   "id": "6bae3d8f",
   "metadata": {},
   "source": [
    "<p style=\"color:green;;font-size:16px;\">Annotate samples and combine into a single dataset</p>  "
   ]
  },
  {
   "cell_type": "code",
   "execution_count": null,
   "id": "77f7b255",
   "metadata": {
    "scrolled": true
   },
   "outputs": [],
   "source": [
    "ko.obs['sample'] = \"KO\"\n",
    "wt.obs['sample'] = \"WT\"\n",
    "data = ko.concatenate(wt)\n",
    "del ko, wt  # delete no longer used variables to save memory  "
   ]
  },
  {
   "cell_type": "markdown",
   "id": "78ea5a3d",
   "metadata": {},
   "source": [
    "<p style=\"color:darkviolet\">Show annotated data where n_obs = number of cells and n_var = number of genes</p>"
   ]
  },
  {
   "cell_type": "code",
   "execution_count": null,
   "id": "28e2ff68",
   "metadata": {
    "scrolled": true
   },
   "outputs": [],
   "source": [
    "data"
   ]
  },
  {
   "cell_type": "markdown",
   "id": "8cff32c7",
   "metadata": {},
   "source": [
    "<p style=\"color:darkviolet\">Peak at the data values</p>  "
   ]
  },
  {
   "cell_type": "code",
   "execution_count": null,
   "id": "b50269ba",
   "metadata": {
    "scrolled": true
   },
   "outputs": [],
   "source": [
    "data.obs"
   ]
  },
  {
   "cell_type": "code",
   "execution_count": null,
   "id": "85158151",
   "metadata": {
    "scrolled": true
   },
   "outputs": [],
   "source": [
    "data.var"
   ]
  },
  {
   "cell_type": "markdown",
   "id": "0ac20198",
   "metadata": {},
   "source": [
    "If cells and genes need to be swapped, uncomment and run the following cell to transpose the count matrix:"
   ]
  },
  {
   "cell_type": "code",
   "execution_count": null,
   "id": "2be4eca6",
   "metadata": {
    "scrolled": true
   },
   "outputs": [],
   "source": [
    "#sc.AnnData(data.X.T)\n",
    "#data.write('data.h5ad')\n",
    "#data.read_h5ad('data.h5ad')"
   ]
  },
  {
   "cell_type": "markdown",
   "id": "f5dee81f",
   "metadata": {},
   "source": [
    "<p style=\"color:green;;font-size:16px;\">Annotate any groups of genes:  \n",
    "    <ul style=\"color:green;\">  \n",
    "        <li>Mitochondrial genes as 'mt'</li>  \n",
    "        <li>Ribosomal genes as 'ribo'</li>  \n",
    "        <li>Etc...</li>  \n",
    "    </ul>  \n",
    "</p>  \n",
    "(Note how these genes are named from above data.var, e.g. mitochondrial genes start with 'MT-', not 'mito-', not 'mt-')"
   ]
  },
  {
   "cell_type": "code",
   "execution_count": null,
   "id": "1fa6bcdd",
   "metadata": {
    "scrolled": true
   },
   "outputs": [],
   "source": [
    "data.var['mt'] = data.var_names.str.startswith('MT-')\n",
    "data.var['ribo'] = data.var_names.str.startswith('ribo-')"
   ]
  },
  {
   "cell_type": "markdown",
   "id": "3a36ddf7",
   "metadata": {},
   "source": [
    "<p style=\"color:green;font-size:16px;\">Calculate quality control metrics for dataset (and independently for any gene groups in qc_vars)</p>  "
   ]
  },
  {
   "cell_type": "code",
   "execution_count": null,
   "id": "7281dd05",
   "metadata": {
    "scrolled": true
   },
   "outputs": [],
   "source": [
    "sc.pp.calculate_qc_metrics(data, qc_vars=['mt', 'ribo'], percent_top=None, log1p=False, inplace=True) # Insert any names of groups defined above\n",
    "#sc.pp.calculate_qc_metrics(data, percent_top=None, log1p=False, inplace=True) # If no gene groups defined, run this instead"
   ]
  },
  {
   "cell_type": "markdown",
   "id": "78315fb8",
   "metadata": {},
   "source": [
    "___\n",
    "# <center>Data Cleaning & Quality Control</center>  \n",
    "<center>Plot and view data, filter out cells and genes</center>  \n",
    "\n",
    "___"
   ]
  },
  {
   "cell_type": "markdown",
   "id": "04fc9a65",
   "metadata": {},
   "source": [
    "<p style=\"color:darkviolet\">Observe the current state of data object</p>  "
   ]
  },
  {
   "cell_type": "code",
   "execution_count": null,
   "id": "dbacb886",
   "metadata": {
    "scrolled": true
   },
   "outputs": [],
   "source": [
    "data"
   ]
  },
  {
   "cell_type": "markdown",
   "id": "0cdb6ff2",
   "metadata": {},
   "source": [
    "<p style=\"color:darkviolet;\">View overall sequence depth quality of data</p>  \n",
    "(An ideal scatter would follow the diagonal regression line indicating equal sequencing depth of genes among cells)"
   ]
  },
  {
   "cell_type": "code",
   "execution_count": null,
   "id": "b99a19f1",
   "metadata": {
    "scrolled": true
   },
   "outputs": [],
   "source": [
    "sns.jointplot(\n",
    "    data=data.obs,\n",
    "    x=\"total_counts\",\n",
    "    y=\"n_genes_by_counts\",\n",
    "    kind=\"reg\",\n",
    "    marginal_ticks=True,\n",
    "    color='indigo',\n",
    "    height=7, # changes size of plot\n",
    ").fig.suptitle(\"%s cells\"%data.obs.shape[0])"
   ]
  },
  {
   "cell_type": "markdown",
   "id": "6a4c5450",
   "metadata": {},
   "source": [
    "<p style=\"color:darkviolet;\">Observe percent of counts that are mitochondrial genes expressed</p>  \n",
    "(Here, mitochondrial genes have already been filtered from the raw data beforehand, hence the 0% across data points)"
   ]
  },
  {
   "cell_type": "code",
   "execution_count": null,
   "id": "0821cc0f",
   "metadata": {
    "scrolled": true
   },
   "outputs": [],
   "source": [
    "sns.scatterplot(data=data.obs, x='total_counts', y='pct_counts_mt', color='indigo')"
   ]
  },
  {
   "cell_type": "markdown",
   "id": "8d84bae3",
   "metadata": {},
   "source": [
    "<p style=\"color:darkviolet;\">Observe percent of counts that are ribosomal genes expressed</p>"
   ]
  },
  {
   "cell_type": "code",
   "execution_count": null,
   "id": "ba26769c",
   "metadata": {
    "scrolled": true
   },
   "outputs": [],
   "source": [
    "sns.scatterplot(data=data.obs, x='total_counts', y='pct_counts_ribo', color='indigo')"
   ]
  },
  {
   "cell_type": "markdown",
   "id": "7a5c1519",
   "metadata": {},
   "source": [
    "<p style=\"color:darkviolet;\">Repeat for any other grouped genes expressed, if annotated above (change \"GROUP\" in y value)</p>"
   ]
  },
  {
   "cell_type": "code",
   "execution_count": null,
   "id": "5b7c041e",
   "metadata": {
    "scrolled": true
   },
   "outputs": [],
   "source": [
    "# sns.scatterplot(data=data.obs, x='total_counts', y='pct_counts_GROUP', color='indigo')"
   ]
  },
  {
   "cell_type": "markdown",
   "id": "107e4117",
   "metadata": {},
   "source": [
    "<p style=\"color:darkviolet;\">Observe distribution of cells by their gene counts</p>"
   ]
  },
  {
   "cell_type": "code",
   "execution_count": null,
   "id": "c2cd2a29",
   "metadata": {
    "scrolled": true
   },
   "outputs": [],
   "source": [
    "sc.pl.violin(data, ['n_genes_by_counts', 'total_counts'], jitter=0.4, multi_panel=True, color='indigo')"
   ]
  },
  {
   "cell_type": "markdown",
   "id": "57ddd3c9",
   "metadata": {},
   "source": [
    "<p style=\"font-size:16px\">Filter out low-quality data points produced by inevitable instrumentation/procedural/technical flaws when the data was obtained:\n",
    "    <ul>\n",
    "        <li>Remove droplets captured that contain dead cells characterized by high mitochondrial gene expression counts.</li>  \n",
    "        <li>Remove empty droplets captured characterized by little/no relative gene expression counts.</li>  \n",
    "        <li>Remove droplets captured containing multiple cells characterized by very high relative gene expression counts.</li>\n",
    "        <li>Remove genes expressed by very few cells.</li>\n",
    "        <li>Remove any other specific genes from the dataset.</li>\n",
    "    </ul>\n",
    "</p>"
   ]
  },
  {
   "cell_type": "markdown",
   "id": "481a8806",
   "metadata": {},
   "source": [
    "<p style=\"color:green;font-size:16px;\">Remove data points of dead cells</p>  \n",
    "(Based on visual inspection of the above scatter plot...)\n"
   ]
  },
  {
   "cell_type": "code",
   "execution_count": null,
   "id": "0654dd75",
   "metadata": {
    "scrolled": true
   },
   "outputs": [],
   "source": [
    "data = data[data.obs.pct_counts_mt < 5, :] # keeps all cells where < 5% of expression counts are mitochondrial genes"
   ]
  },
  {
   "cell_type": "markdown",
   "id": "fd338901",
   "metadata": {},
   "source": [
    "<p style=\"color:green;font-size:16px;\">Remove data points similarly for other annotated gene groups, as desired.</p>  \n",
    "(Based on visual inspection of above scatter plot...)"
   ]
  },
  {
   "cell_type": "code",
   "execution_count": null,
   "id": "4e3a0614",
   "metadata": {
    "scrolled": true
   },
   "outputs": [],
   "source": [
    "# data = data[data.obs.pct_counts_ribo > 5, :] # keeps all cells where > 5% of expression counts are ribosomal genes"
   ]
  },
  {
   "cell_type": "markdown",
   "id": "2098f743",
   "metadata": {},
   "source": [
    "<p style=\"color:green;font-size:16px;\">Remove data points with exceptionally low and high gene counts\n",
    "</p>\n",
    "(Based on visual inspection of above scatter plot...)  \n",
    "\n",
    "Instead of choosing thresholds based on above scatter plots, here we filter based on quantiles of gene expression, e.g. removing the bottom 1% and top 1% outliers"
   ]
  },
  {
   "cell_type": "code",
   "execution_count": null,
   "id": "eb38eac6",
   "metadata": {
    "scrolled": true
   },
   "outputs": [],
   "source": [
    "min_num_genes = data.obs['n_genes_by_counts'].quantile(q=0.01, interpolation='lower')\n",
    "max_num_genes = data.obs['n_genes_by_counts'].quantile(q=0.99, interpolation='higher')\n",
    "print('Minimum number of genes = %s'%min_num_genes)\n",
    "print('Maxmium number of genes = %s'%max_num_genes)"
   ]
  },
  {
   "cell_type": "code",
   "execution_count": null,
   "id": "7ce6f60d",
   "metadata": {
    "scrolled": true
   },
   "outputs": [],
   "source": [
    "sc.pp.filter_cells(data, min_genes=min_num_genes) # Filter out low gene expressions\n",
    "sc.pp.filter_cells(data, max_genes=max_num_genes) # Filter out high gene expressions"
   ]
  },
  {
   "cell_type": "markdown",
   "id": "c4afd0e6",
   "metadata": {},
   "source": [
    "<p style=\"color:green;font-size:16px;\">Remove genes with low number of cells expressing them\n",
    "</p>"
   ]
  },
  {
   "cell_type": "code",
   "execution_count": null,
   "id": "3075bffb",
   "metadata": {
    "scrolled": true
   },
   "outputs": [],
   "source": [
    "sc.pp.filter_genes(data, min_cells=3) # Filter out genes with < 3 cells expressing them"
   ]
  },
  {
   "cell_type": "markdown",
   "id": "98006158",
   "metadata": {},
   "source": [
    "<p style=\"color:green;font-size:16px;\">Remove cell-cycle genes, if desired\n",
    "</p>"
   ]
  },
  {
   "cell_type": "code",
   "execution_count": null,
   "id": "44626acf",
   "metadata": {
    "scrolled": true
   },
   "outputs": [],
   "source": [
    "data = data[:, ~data.var_names.isin(cell_cycle_genes['S'])]\n",
    "data = data[:, ~data.var_names.isin(cell_cycle_genes['G2M'])]\n",
    "data = data[:, ~data.var_names.isin(cell_cycle_genes_update2019['S'])]\n",
    "data = data[:, ~data.var_names.isin(cell_cycle_genes_update2019['G2M'])]"
   ]
  },
  {
   "cell_type": "markdown",
   "id": "c24abc9d",
   "metadata": {},
   "source": [
    "<p style=\"color:darkviolet;\">Observe new distribution of cells by their gene counts</p>"
   ]
  },
  {
   "cell_type": "code",
   "execution_count": null,
   "id": "c689b46b",
   "metadata": {
    "scrolled": true
   },
   "outputs": [],
   "source": [
    "sc.pl.violin(data, ['n_genes_by_counts', 'total_counts'], jitter=0.4, multi_panel=True, color='indigo')"
   ]
  },
  {
   "cell_type": "markdown",
   "id": "1af57dfc",
   "metadata": {},
   "source": [
    "<p style=\"color:darkviolet\">Observe the current state of data object</p>  "
   ]
  },
  {
   "cell_type": "code",
   "execution_count": null,
   "id": "b47daf00",
   "metadata": {
    "scrolled": true
   },
   "outputs": [],
   "source": [
    "data"
   ]
  },
  {
   "cell_type": "markdown",
   "id": "f10cf1b0",
   "metadata": {},
   "source": [
    "___\n",
    "# <center>Normalization and Batch Correction</center>  \n",
    "<center>Make cell gene expression counts relative to each other between cells to avoid misinterpreting deeper-sequenced cells/genes as being differentially expressed from others downstream.\n",
    "Apply batch-correction to reduce batch effects between sample sets, e.g. normalize between WT and KO</center>  \n",
    "\n",
    "___"
   ]
  },
  {
   "cell_type": "markdown",
   "id": "b4c26fea",
   "metadata": {},
   "source": [
    "<p style=\"color:green;font-size:16px;\">Log-Normalize data</p>"
   ]
  },
  {
   "cell_type": "code",
   "execution_count": null,
   "id": "0b9560ce",
   "metadata": {
    "scrolled": true
   },
   "outputs": [],
   "source": [
    "sc.pp.normalize_total(data, target_sum=1e4)\n",
    "sc.pp.log1p(data)"
   ]
  },
  {
   "cell_type": "markdown",
   "id": "df8e9dfb",
   "metadata": {},
   "source": [
    "<p style=\"color:green;font-size:16px;\">Obtain highly variable genes</p>  \n",
    "<a href=\"https://scanpy.readthedocs.io/en/stable/generated/scanpy.pp.highly_variable_genes.html\">See API for options</a>  "
   ]
  },
  {
   "cell_type": "code",
   "execution_count": null,
   "id": "0663d224",
   "metadata": {
    "scrolled": true
   },
   "outputs": [],
   "source": [
    "# sc.pp.highly_variable_genes(data, flavor='seurat', min_mean=0.0125, max_mean=3, min_disp=0.5) # Use if single sample loaded in dataset\n",
    "sc.pp.highly_variable_genes(data, flavor='seurat', min_mean=0.0125, max_mean=3, min_disp=0.5, batch_key='sample') # Use if multiple samples loaded in dataset"
   ]
  },
  {
   "cell_type": "markdown",
   "id": "862cf21a",
   "metadata": {},
   "source": [
    "<p style=\"color:darkviolet\">Observe highly variable genes plot</p>  "
   ]
  },
  {
   "cell_type": "code",
   "execution_count": null,
   "id": "83e29828",
   "metadata": {
    "scrolled": true
   },
   "outputs": [],
   "source": [
    "sc.pl.highly_variable_genes(data)"
   ]
  },
  {
   "cell_type": "markdown",
   "id": "676fef6c",
   "metadata": {},
   "source": [
    "<p style=\"color:darkviolet\">Observe highly variable genes</p>  \n",
    "Highly variable genes found between KO and WT samples (batches)"
   ]
  },
  {
   "cell_type": "code",
   "execution_count": null,
   "id": "7fe36cd8",
   "metadata": {
    "scrolled": true
   },
   "outputs": [],
   "source": [
    "var_genes = data.var[data.var['highly_variable_nbatches'] > 1] # highly variable among >1 batches (here, >1 is both samples, i.e. nbatches=2)\n",
    "var_genes"
   ]
  },
  {
   "cell_type": "markdown",
   "id": "c45240ed",
   "metadata": {},
   "source": [
    "<p style=\"color:darkviolet\">Observe current state of data object</p>  "
   ]
  },
  {
   "cell_type": "code",
   "execution_count": null,
   "id": "2a524f6d",
   "metadata": {
    "scrolled": true
   },
   "outputs": [],
   "source": [
    "data"
   ]
  },
  {
   "cell_type": "markdown",
   "id": "860dbef3",
   "metadata": {},
   "source": [
    "<p style=\"color:green;font-size:16px;\">Save filtered and normalized data</p>"
   ]
  },
  {
   "cell_type": "code",
   "execution_count": null,
   "id": "04584d7d",
   "metadata": {
    "scrolled": true
   },
   "outputs": [],
   "source": [
    "data.raw = data\n",
    "data.write('data_clean.h5ad')"
   ]
  },
  {
   "cell_type": "markdown",
   "id": "ce593482",
   "metadata": {},
   "source": [
    "<p style=\"font-size:16px\"><strong>Checkpoint!</strong></p>  \n",
    "<p>(Skip batch-correction if not necessary)</p>  "
   ]
  },
  {
   "cell_type": "markdown",
   "id": "f9bd37f8",
   "metadata": {},
   "source": [
    "<div class=\"alert alert-block alert-warning\">  \n",
    "    <p>\n",
    "        <strong>Warning!</strong> Performing batch correction using ComBat below requires large memory consumption (depending on size of dataset) and may cause progress thus far to be terminated by the notebook crashing. In this case, close the notebook and restart.\n",
    "    </p>\n",
    "    <p>It is recommended to perform this on a computer/computing platform that can handle this operation.\n",
    "    </p>\n",
    "    <p>One suggestion is to send the current \"data_clean.h5ad\" file to a more powerful computer to perform batch correction, save results to a new file, and re-load the batch corrected file to continue analysis.\n",
    "    </p>\n",
    "    <p>The batch-correction step may be first skipped to determine if it may be required. This can be discovered after visualizing t-SNE or UMAP plots in the subsequence steps. A high separation between WT and KO clustering can indicate that batch-correction should be used prior to dimensionality reduction and clustering.\n",
    "    </p>\n",
    "</div>"
   ]
  },
  {
   "cell_type": "markdown",
   "id": "6f23379b",
   "metadata": {},
   "source": [
    "<p style=\"color:green;font-size:16px;\">Load previously saved data</p>"
   ]
  },
  {
   "cell_type": "code",
   "execution_count": null,
   "id": "9bfc89d0",
   "metadata": {
    "scrolled": true
   },
   "outputs": [],
   "source": [
    "data = sc.read('data_clean.h5ad')"
   ]
  },
  {
   "cell_type": "markdown",
   "id": "e018b3e4",
   "metadata": {},
   "source": [
    "<p style=\"color:green;font-size:16px;\">Store pre-corrected data to raw</p>"
   ]
  },
  {
   "cell_type": "code",
   "execution_count": null,
   "id": "088baeff",
   "metadata": {
    "scrolled": true
   },
   "outputs": [],
   "source": [
    "data_batch_corrected = sc.AnnData(X=data.raw.X, var=data.raw.var, obs = data.obs)\n",
    "data_batch_corrected.raw = data_batch_corrected"
   ]
  },
  {
   "cell_type": "markdown",
   "id": "97825030",
   "metadata": {},
   "source": [
    "<p style=\"color:green;font-size:16px;\">Apply batch correction for KO + WT data integration</p>  \n",
    "<a href=https://scanpy.readthedocs.io/en/stable/external.html#data-integration>See API for methods</a>  "
   ]
  },
  {
   "cell_type": "code",
   "execution_count": null,
   "id": "cfd3ba6d",
   "metadata": {
    "scrolled": true
   },
   "outputs": [],
   "source": [
    "sc.pp.combat(data_batch_corrected, key='sample')\n",
    "\n",
    "# Other batch correction methods, if used instead of ComBat, these may require additional package installation\n",
    "#sc.external.pp.bbknn(data_batch_corrected, key='sample')\n",
    "#sc.external.pp.harmony_integrate(data_batch_corrected, key='sample')\n",
    "#sc.external.pp.mnn_correct(data_batch_corrected, key='sample')\n",
    "#sc.external.pp.scanorama_integrate(data_batch_corrected, key='sample')"
   ]
  },
  {
   "cell_type": "markdown",
   "id": "c51b6d87",
   "metadata": {},
   "source": [
    "<p style=\"color:green;font-size:16px;\">Store log-normalized, unscaled data</p>"
   ]
  },
  {
   "cell_type": "code",
   "execution_count": null,
   "id": "bcc225fc",
   "metadata": {
    "scrolled": true
   },
   "outputs": [],
   "source": [
    "data_batch_corrected.raw = data_batch_corrected"
   ]
  },
  {
   "cell_type": "markdown",
   "id": "4456918a",
   "metadata": {},
   "source": [
    "<p style=\"color:green;font-size:16px;\">Scale data, to be used in subsequent steps...</p>"
   ]
  },
  {
   "cell_type": "code",
   "execution_count": null,
   "id": "0178822b",
   "metadata": {
    "scrolled": true
   },
   "outputs": [],
   "source": [
    "sc.pp.scale(data_batch_corrected, max_value=10)"
   ]
  },
  {
   "cell_type": "markdown",
   "id": "f76d6c43",
   "metadata": {},
   "source": [
    "<p style=\"color:green;font-size:16px;\">Save batch-corrected data to file</p>"
   ]
  },
  {
   "cell_type": "code",
   "execution_count": null,
   "id": "9c6c6bf3",
   "metadata": {
    "scrolled": true
   },
   "outputs": [],
   "source": [
    "data_batch_corrected.write('data_batch_corrected.h5ad')"
   ]
  },
  {
   "cell_type": "markdown",
   "id": "5b37b2b4",
   "metadata": {},
   "source": [
    "___\n",
    "# <center>Dimensionality Reduction & Clustering</center>  \n",
    "<center>Apply PCA, compute neighborhood graph, compute embedding, and cluster cells</center>\n",
    "\n",
    "___"
   ]
  },
  {
   "cell_type": "markdown",
   "id": "6fcbecc2",
   "metadata": {},
   "source": [
    "<p style=\"font-size:16px\"><strong>Checkpoint start!</strong></p>"
   ]
  },
  {
   "cell_type": "markdown",
   "id": "dd89492b",
   "metadata": {},
   "source": [
    "<p style=\"color:green;font-size:16px;\">Load data from file</p>  "
   ]
  },
  {
   "cell_type": "code",
   "execution_count": null,
   "id": "25f0b998",
   "metadata": {
    "scrolled": true
   },
   "outputs": [],
   "source": [
    "#data = sc.read('data_batch_corrected.h5ad')\n",
    "data = sc.read('data_clean.h5ad')"
   ]
  },
  {
   "cell_type": "markdown",
   "id": "aee70ec2",
   "metadata": {},
   "source": [
    "<p style=\"color:darkviolet\">Observe current state of data object</p>  "
   ]
  },
  {
   "cell_type": "code",
   "execution_count": null,
   "id": "5c2b5b15",
   "metadata": {
    "scrolled": true
   },
   "outputs": [],
   "source": [
    "data"
   ]
  },
  {
   "cell_type": "markdown",
   "id": "6823c6b0",
   "metadata": {},
   "source": [
    "<p style=\"color:green;font-size:16px;\">Compute principle components for dimensionality reduction</p>  \n",
    "<a href=https://scanpy.readthedocs.io/en/stable/generated/scanpy.tl.pca.html>See API for options</a>  "
   ]
  },
  {
   "cell_type": "code",
   "execution_count": null,
   "id": "6845368a",
   "metadata": {
    "scrolled": true
   },
   "outputs": [],
   "source": [
    "sc.tl.pca(data, n_comps=50, svd_solver='arpack', random_state=2022)"
   ]
  },
  {
   "cell_type": "markdown",
   "id": "e99b378b",
   "metadata": {},
   "source": [
    "<p style=\"color:darkviolet\">Observe PC plot (not necessary)</p>"
   ]
  },
  {
   "cell_type": "code",
   "execution_count": null,
   "id": "6a4069b9",
   "metadata": {
    "scrolled": true
   },
   "outputs": [],
   "source": [
    "sc.pl.pca(data)"
   ]
  },
  {
   "cell_type": "markdown",
   "id": "5fa59871",
   "metadata": {},
   "source": [
    "<p style=\"color:darkviolet\">Observe PCs by their variance ratio</p>  \n",
    "Elbow of the curve indicates where more PCs contribute less to dimensionality reduction of the data"
   ]
  },
  {
   "cell_type": "code",
   "execution_count": null,
   "id": "23eebed1",
   "metadata": {
    "scrolled": true
   },
   "outputs": [],
   "source": [
    "sc.pl.pca_variance_ratio(data, log=True)"
   ]
  },
  {
   "cell_type": "markdown",
   "id": "e54a230c",
   "metadata": {},
   "source": [
    "<p style=\"color:green;font-size:16px;\">Compute neighborhood graph</p>  \n",
    "<a href=\"https://scanpy.readthedocs.io/en/stable/generated/scanpy.pp.neighbors.html#scanpy.pp.neighbors\">See API for options</a>  \n",
    "\n",
    "n_pcs can be chosen based on elbow from above plot (choose value greater than elbow point)  "
   ]
  },
  {
   "cell_type": "code",
   "execution_count": null,
   "id": "e3f70c25",
   "metadata": {
    "scrolled": true
   },
   "outputs": [],
   "source": [
    "sc.pp.neighbors(data, knn=True, n_neighbors=10, n_pcs=40, random_state=2022)"
   ]
  },
  {
   "cell_type": "markdown",
   "id": "82e89a02",
   "metadata": {},
   "source": [
    "<p style=\"color:green;font-size:16px;\">Embed the neighborhood graph with a 2-D projection</p>  \n",
    "<a href=\"https://scanpy.readthedocs.io/en/stable/api.html#embeddings\">See API for options</a>  \n",
    "\n",
    "Choose 1 from below or all three for comparisons"
   ]
  },
  {
   "cell_type": "code",
   "execution_count": null,
   "id": "d6726ca5",
   "metadata": {
    "scrolled": true
   },
   "outputs": [],
   "source": [
    "sc.tl.tsne(data, n_pcs=50, use_fast_tsne=False, random_state=2022) # May take a minute..."
   ]
  },
  {
   "cell_type": "code",
   "execution_count": null,
   "id": "90a9bc8d",
   "metadata": {
    "scrolled": true
   },
   "outputs": [],
   "source": [
    "sc.tl.umap(data, random_state=2022) # recommended"
   ]
  },
  {
   "cell_type": "code",
   "execution_count": null,
   "id": "388d1350",
   "metadata": {
    "scrolled": true
   },
   "outputs": [],
   "source": [
    "sc.tl.draw_graph(data, random_state=2022)"
   ]
  },
  {
   "cell_type": "markdown",
   "id": "bacb4146",
   "metadata": {},
   "source": [
    "<p style=\"color:green;font-size:16px;\">Cluster the graph</p>  \n",
    "<a href=\"https://scanpy.readthedocs.io/en/stable/api.html#clustering-and-trajectory-inference\">See API for options</a>  \n",
    "\n",
    "Choose 1 from below or both for comparisons"
   ]
  },
  {
   "cell_type": "code",
   "execution_count": null,
   "id": "a19802c9",
   "metadata": {
    "scrolled": true
   },
   "outputs": [],
   "source": [
    "sc.tl.louvain(data, resolution=1.0, random_state=2022) # recommended"
   ]
  },
  {
   "cell_type": "code",
   "execution_count": null,
   "id": "2f97388a",
   "metadata": {
    "scrolled": true
   },
   "outputs": [],
   "source": [
    "sc.tl.leiden(data, resolution=1.0, random_state=2022)"
   ]
  },
  {
   "cell_type": "markdown",
   "id": "5d5e1ba4",
   "metadata": {},
   "source": [
    "<p style=\"color:darkviolet\">Observe current state of data object</p>  "
   ]
  },
  {
   "cell_type": "code",
   "execution_count": null,
   "id": "58f38195",
   "metadata": {
    "scrolled": true
   },
   "outputs": [],
   "source": [
    "data"
   ]
  },
  {
   "cell_type": "markdown",
   "id": "84962a47",
   "metadata": {},
   "source": [
    "<p style=\"color:darkviolet\">Observe projection(s) of data</p>  "
   ]
  },
  {
   "cell_type": "code",
   "execution_count": null,
   "id": "ea567a9e",
   "metadata": {
    "scrolled": true
   },
   "outputs": [],
   "source": [
    "sc.pl.tsne(data, color=[\"louvain\"], legend_loc='on data', color_map='viridis')"
   ]
  },
  {
   "cell_type": "code",
   "execution_count": null,
   "id": "0e5deb0d",
   "metadata": {
    "scrolled": true
   },
   "outputs": [],
   "source": [
    "sc.pl.umap(data, color=[\"louvain\"], legend_loc='on data', color_map='viridis')"
   ]
  },
  {
   "cell_type": "code",
   "execution_count": null,
   "id": "80e61c39",
   "metadata": {
    "scrolled": true
   },
   "outputs": [],
   "source": [
    "sc.pl.draw_graph(data, color=[\"louvain\"], legend_loc='on data', color_map='viridis')"
   ]
  },
  {
   "cell_type": "markdown",
   "id": "6b650d33",
   "metadata": {},
   "source": [
    "Provide genes to plot in addition to the desired clustering. Note: if gene doesn't exist in data (by experimentation or through filtering), then no plot will be generated."
   ]
  },
  {
   "cell_type": "code",
   "execution_count": null,
   "id": "a6503c28",
   "metadata": {
    "scrolled": true
   },
   "outputs": [],
   "source": [
    "genes = ['provide', 'list', 'of', 'genes', 'to', 'see', 'here']"
   ]
  },
  {
   "cell_type": "markdown",
   "id": "086b36fb",
   "metadata": {},
   "source": [
    "<p style=\"color:darkviolet\">Observe gene expression levels</p> "
   ]
  },
  {
   "cell_type": "code",
   "execution_count": null,
   "id": "d667df71",
   "metadata": {
    "scrolled": true
   },
   "outputs": [],
   "source": [
    "sc.pl.tsne(data, color=genes, legend_loc='on data', color_map='viridis')"
   ]
  },
  {
   "cell_type": "code",
   "execution_count": null,
   "id": "77d6fcb9",
   "metadata": {
    "scrolled": true
   },
   "outputs": [],
   "source": [
    "sc.pl.umap(data, color=genes, legend_loc='on data', color_map='viridis')"
   ]
  },
  {
   "cell_type": "code",
   "execution_count": null,
   "id": "c5ad63f7",
   "metadata": {
    "scrolled": true
   },
   "outputs": [],
   "source": [
    "sc.pl.draw_graph(data, color=genes, legend_loc='on data', color_map='viridis')"
   ]
  },
  {
   "cell_type": "code",
   "execution_count": null,
   "id": "ac647e82",
   "metadata": {
    "scrolled": true
   },
   "outputs": [],
   "source": [
    "sc.pl.violin(data, genes, group='louvain')"
   ]
  },
  {
   "cell_type": "markdown",
   "id": "d0881a6f",
   "metadata": {},
   "source": [
    "<p style=\"font-size:16px\"><strong>Checkpoint!</strong></p>"
   ]
  },
  {
   "cell_type": "markdown",
   "id": "95679c7d",
   "metadata": {},
   "source": [
    "(Optional)  \n",
    "If you want to extract cells of certain clusters to look at more closely, define clusters below and save to file. Then you can load data and re-run steps as above, e.g. perform dimensionality reduction and clustering again to obtain further localized sub-clusters."
   ]
  },
  {
   "cell_type": "code",
   "execution_count": null,
   "id": "45abd4ff",
   "metadata": {
    "scrolled": true
   },
   "outputs": [],
   "source": [
    "clusters = ['2', '3', '4', '5', '7', '9', '13', '15'] # Change values to desired clusters\n",
    "sub_data = data[data.obs['louvain'].isin(clusters)]\n",
    "# Extract matrix\n",
    "adata = sc.AnnData(sub_data.X)\n",
    "adata.obs = sc.get.obs_df(sub_data)\n",
    "adata.var = sc.get.var_df(sub_data)\n",
    "# Keep global clustering annotations\n",
    "adata.obs['louvain_global'] = sub_data[sub_data.obs_names.isin(adata.obs_names)].obs['louvain']"
   ]
  },
  {
   "cell_type": "code",
   "execution_count": null,
   "id": "f45242a2",
   "metadata": {
    "scrolled": true
   },
   "outputs": [],
   "source": [
    "# Save to file\n",
    "adata.write_h5ad('sub_data.h5ad')"
   ]
  },
  {
   "cell_type": "markdown",
   "id": "aa9c0d48",
   "metadata": {},
   "source": [
    "___\n",
    "# <center>Differential Gene Expression & Cell Type Annotation</center>  \n",
    "<center>Obtain differentially expressed genes between cell clusters, annotate cell types</center>  \n",
    "\n",
    "___"
   ]
  },
  {
   "cell_type": "markdown",
   "id": "7e274d31",
   "metadata": {},
   "source": [
    "Define cell types. Obtain Differential gene expressions."
   ]
  },
  {
   "cell_type": "markdown",
   "id": "fff86608",
   "metadata": {},
   "source": [
    "<p style=\"color:green;font-size:16px;\">Rank gene expression in each cluster</p>  \n",
    "<a href=\"https://scanpy.readthedocs.io/en/stable/generated/scanpy.tl.rank_genes_groups.html\">See API for options</a>  "
   ]
  },
  {
   "cell_type": "code",
   "execution_count": null,
   "id": "941604f2",
   "metadata": {
    "scrolled": true
   },
   "outputs": [],
   "source": [
    "sc.tl.rank_genes_groups(data, 'louvain', method='wilcoxon', random_state=2022)"
   ]
  },
  {
   "cell_type": "markdown",
   "id": "18ce773c",
   "metadata": {},
   "source": [
    "Store gene rankings into DataFrames (can be saved to file later)"
   ]
  },
  {
   "cell_type": "code",
   "execution_count": null,
   "id": "0e13e93a",
   "metadata": {
    "scrolled": true
   },
   "outputs": [],
   "source": [
    "ranked_genes_in_clusters = pd.DataFrame(data.uns['rank_genes_groups']['names'])\n",
    "result = data.uns['rank_genes_groups']\n",
    "groups = result['names'].dtype.names\n",
    "groups_pval = pd.DataFrame(\n",
    "    {group + '_' + key[:1]: result[key][group]\n",
    "    for group in groups for key in ['names', 'pvals']})"
   ]
  },
  {
   "cell_type": "markdown",
   "id": "4245d925",
   "metadata": {},
   "source": [
    "<p style=\"color:darkviolet\">Observe gene rankings in clusters</p>  "
   ]
  },
  {
   "cell_type": "code",
   "execution_count": null,
   "id": "e895dfb0",
   "metadata": {
    "scrolled": true
   },
   "outputs": [],
   "source": [
    "ranked_genes_in_clusters.head(n=10) # See highest top 10 expressed genes for each cluster"
   ]
  },
  {
   "cell_type": "code",
   "execution_count": null,
   "id": "40e90b7a",
   "metadata": {
    "scrolled": true
   },
   "outputs": [],
   "source": [
    "groups_pval.head(n=10) # See highest top 10 expressed genes for each cluster with p-values & details"
   ]
  },
  {
   "cell_type": "markdown",
   "id": "8eafaf40",
   "metadata": {},
   "source": [
    "(Optional) Save gene rankings to file"
   ]
  },
  {
   "cell_type": "code",
   "execution_count": null,
   "id": "68041e40",
   "metadata": {
    "scrolled": true
   },
   "outputs": [],
   "source": [
    "groups_pval.to_csv('ranked_genes.csv', header=True, index=True, sep=',')"
   ]
  },
  {
   "cell_type": "markdown",
   "id": "1d09ad62",
   "metadata": {},
   "source": [
    "<p style=\"color:darkviolet\">Observe gene rankings across clusters</p>  "
   ]
  },
  {
   "cell_type": "code",
   "execution_count": null,
   "id": "858c8011",
   "metadata": {
    "scrolled": true
   },
   "outputs": [],
   "source": [
    "sc.pl.rank_genes_groups(data, n_genes=25, sharey=False)"
   ]
  },
  {
   "cell_type": "markdown",
   "id": "235fd764",
   "metadata": {},
   "source": [
    "<p style=\"color:green;font-size:16px;\">Compute comparison of gene rankings between two groups</p>  "
   ]
  },
  {
   "cell_type": "code",
   "execution_count": null,
   "id": "cbc22d2e",
   "metadata": {},
   "outputs": [],
   "source": [
    "sc.tl.rank_genes_groups(data, 'louvain', groups=['0'], reference='1', method='wilcoxon')"
   ]
  },
  {
   "cell_type": "markdown",
   "id": "0dc52398",
   "metadata": {},
   "source": [
    "<p style=\"color:darkviolet\">Observe gene rankings of one cluster compared to another</p>"
   ]
  },
  {
   "cell_type": "code",
   "execution_count": null,
   "id": "7691b269",
   "metadata": {
    "scrolled": true
   },
   "outputs": [],
   "source": [
    "sc.pl.rank_genes_groups(data, groups=['0'], n_genes=20)"
   ]
  },
  {
   "cell_type": "code",
   "execution_count": null,
   "id": "635b9418",
   "metadata": {},
   "outputs": [],
   "source": [
    "sc.pl.rank_genes_groups_violin(data, groups='0', n_genes=8)"
   ]
  },
  {
   "cell_type": "markdown",
   "id": "38effbaa",
   "metadata": {},
   "source": [
    "(Optional) Define renaming for clusters/groups  \n",
    "_Note: number of names in list should equal number of clusters and listed in the same numerical order_  "
   ]
  },
  {
   "cell_type": "code",
   "execution_count": null,
   "id": "a198e386",
   "metadata": {},
   "outputs": [],
   "source": [
    "new_cluster_names = ['CD4 T', 'CD14 Monocytes', 'B', 'CD8 T', 'NK', \n",
    "                     'FCGR3A Monocytes', 'Dendritic', 'Megakaryocytes'\n",
    "                    ]"
   ]
  },
  {
   "cell_type": "markdown",
   "id": "b3a8885d",
   "metadata": {},
   "source": [
    "<p style=\"color:green;font-size:16px;\">(Optional) Annotate cell types</p>  "
   ]
  },
  {
   "cell_type": "code",
   "execution_count": null,
   "id": "2c501aca",
   "metadata": {},
   "outputs": [],
   "source": [
    "data.rename_categories('louvain', new_cluster_names)"
   ]
  },
  {
   "cell_type": "markdown",
   "id": "ab150077",
   "metadata": {},
   "source": [
    "<p style=\"color:darkviolet\">Observe gene expression in clusters</p>  "
   ]
  },
  {
   "cell_type": "code",
   "execution_count": null,
   "id": "9466de7e",
   "metadata": {},
   "outputs": [],
   "source": [
    "sc.pl.dotplot(data, genes, groupby='louvain')"
   ]
  },
  {
   "cell_type": "code",
   "execution_count": null,
   "id": "2d5287a9",
   "metadata": {
    "scrolled": true
   },
   "outputs": [],
   "source": [
    "sc.pl.stacked_violin(data, genes, groupby='louvain', rotation=90)"
   ]
  },
  {
   "cell_type": "markdown",
   "id": "22462e17",
   "metadata": {},
   "source": [
    "<p style=\"font-size:16px\"><strong>Checkpoint!</strong></p>"
   ]
  },
  {
   "cell_type": "markdown",
   "id": "b78da2a4",
   "metadata": {},
   "source": [
    "___\n",
    "# <center>Trajectory Inference</center>  \n",
    "<center>Predict cell differentiation pathways based on gene expression</center>\n",
    "\n",
    "___"
   ]
  },
  {
   "cell_type": "markdown",
   "id": "caceeb16",
   "metadata": {},
   "source": [
    "### Using Palantir (recommended)  "
   ]
  },
  {
   "cell_type": "markdown",
   "id": "20a52241",
   "metadata": {},
   "source": [
    "<p style=\"color:green;font-size:16px;\">Compute Palantir diffusion mappings, MAGIC imputation, multiscaling</p>  \n",
    "<a href=\"https://scanpy.readthedocs.io/en/stable/generated/scanpy.external.tl.palantir.html\">See API for options</a>  "
   ]
  },
  {
   "cell_type": "code",
   "execution_count": null,
   "id": "c41e9d48",
   "metadata": {
    "scrolled": true
   },
   "outputs": [],
   "source": [
    "sc.external.tl.palantir(data,  n_components=5, knn=30)\n",
    "dm_res = {'T': data.obsp['palantir_diff_op'].T, \n",
    "          'EigenVectors': pd.DataFrame(data.obsm['X_palantir_diff_comp'], index=data.obs_names), \n",
    "          'EigenValues': pd.Series(data.uns['palantir_EigenValues']), \n",
    "          'kernel': data.obsp['palantir_diff_op']}\n",
    "ms_data = pd.DataFrame(data.obsm['X_palantir_multiscale'], index=data.obs_names)"
   ]
  },
  {
   "cell_type": "markdown",
   "id": "6fdaf027",
   "metadata": {},
   "source": [
    "<p style=\"color:darkviolet\">Observe current state of data object</p>  "
   ]
  },
  {
   "cell_type": "code",
   "execution_count": null,
   "id": "2ecaf560",
   "metadata": {
    "scrolled": true
   },
   "outputs": [],
   "source": [
    "data"
   ]
  },
  {
   "cell_type": "markdown",
   "id": "b50e04c7",
   "metadata": {},
   "source": [
    "<p style=\"color:green;font-size:16px;\">Re-map t-SNE projection using Palantir's multiscale representation</p>  "
   ]
  },
  {
   "cell_type": "code",
   "execution_count": null,
   "id": "efab4fe2",
   "metadata": {
    "scrolled": true
   },
   "outputs": [],
   "source": [
    "sc.tl.tsne(data, n_pcs=2, use_rep='X_palantir_multiscale', perplexity=150, random_state=2022)"
   ]
  },
  {
   "cell_type": "markdown",
   "id": "d1515fa2",
   "metadata": {},
   "source": [
    "<p style=\"color:darkviolet\">Observe projection(s) of data with imputations</p>  "
   ]
  },
  {
   "cell_type": "code",
   "execution_count": null,
   "id": "59166b31",
   "metadata": {
    "scrolled": true
   },
   "outputs": [],
   "source": [
    "sc.pl.tsne(data, layer='palantir_imp', color=[\"louvain\"], legend_loc='on data', color_map='viridis')"
   ]
  },
  {
   "cell_type": "code",
   "execution_count": null,
   "id": "f02e9194",
   "metadata": {
    "scrolled": true
   },
   "outputs": [],
   "source": [
    "sc.pl.umap(data, layer='palantir_imp', color=[\"louvain\"], legend_loc='on data', color_map='viridis')"
   ]
  },
  {
   "cell_type": "code",
   "execution_count": null,
   "id": "d27ff624",
   "metadata": {
    "scrolled": true
   },
   "outputs": [],
   "source": [
    "sc.pl.draw_graph(data, layer='palantir_imp', color=[\"louvain\"], legend_loc='on data', color_map='viridis')"
   ]
  },
  {
   "cell_type": "markdown",
   "id": "603ed7ac",
   "metadata": {},
   "source": [
    "Provide genes to plot in addition to the desired clustering. Note: if gene doesn't exist in data (by experimentation or through filtering), then no plot will be generated."
   ]
  },
  {
   "cell_type": "code",
   "execution_count": null,
   "id": "0eab5c39",
   "metadata": {
    "scrolled": true
   },
   "outputs": [],
   "source": [
    "genes = ['provide', 'list', 'of', 'genes', 'to', 'see', 'here']"
   ]
  },
  {
   "cell_type": "markdown",
   "id": "3c07e03c",
   "metadata": {},
   "source": [
    "<p style=\"color:darkviolet\">Observe gene expression levels</p> "
   ]
  },
  {
   "cell_type": "code",
   "execution_count": null,
   "id": "7157a611",
   "metadata": {
    "scrolled": true
   },
   "outputs": [],
   "source": [
    "sc.pl.tsne(data, layer='palantir_imp', color=genes, legend_loc='on data', color_map='viridis')"
   ]
  },
  {
   "cell_type": "code",
   "execution_count": null,
   "id": "f3bc46b5",
   "metadata": {
    "scrolled": true
   },
   "outputs": [],
   "source": [
    "sc.pl.umap(data, layer='palantir_imp', color=genes, legend_loc='on data', color_map='viridis')"
   ]
  },
  {
   "cell_type": "code",
   "execution_count": null,
   "id": "2e5963bc",
   "metadata": {
    "scrolled": true
   },
   "outputs": [],
   "source": [
    "sc.pl.draw_graph(data, layer='palantir_imp', color=genes, legend_loc='on data', color_map='viridis')"
   ]
  },
  {
   "cell_type": "markdown",
   "id": "fb18cb9f",
   "metadata": {},
   "source": [
    "<p>Store projections into DataFrames (only run those which have been computed above).</p>"
   ]
  },
  {
   "cell_type": "code",
   "execution_count": null,
   "id": "c332d43b",
   "metadata": {
    "scrolled": true
   },
   "outputs": [],
   "source": [
    "tsne = pd.DataFrame(data.obsm['X_tsne'], index=data.obs_names)\n",
    "tsne.rename(columns={0: 'x', 1: 'y'}, inplace=True)"
   ]
  },
  {
   "cell_type": "code",
   "execution_count": null,
   "id": "de76b02c",
   "metadata": {
    "scrolled": true
   },
   "outputs": [],
   "source": [
    "umap = pd.DataFrame(data.obsm['X_umap'], index=data.obs_names)\n",
    "umap.rename(columns={0: 'x', 1: 'y'}, inplace=True)"
   ]
  },
  {
   "cell_type": "code",
   "execution_count": null,
   "id": "a6251175",
   "metadata": {
    "scrolled": true
   },
   "outputs": [],
   "source": [
    "fa = pd.DataFrame(data.obsm['X_draw_graph_fa'], index=data.obs_names)\n",
    "fa.rename(columns={0: 'x', 1: 'y'}, inplace=True)"
   ]
  },
  {
   "cell_type": "markdown",
   "id": "7b082e95",
   "metadata": {},
   "source": [
    "<p style=\"color:darkviolet\">Observe diffusion components</p> "
   ]
  },
  {
   "cell_type": "code",
   "execution_count": null,
   "id": "f1ae8350",
   "metadata": {
    "scrolled": true
   },
   "outputs": [],
   "source": [
    "palantir.plot.plot_diffusion_components(tsne, dm_res)"
   ]
  },
  {
   "cell_type": "code",
   "execution_count": null,
   "id": "92f21c14",
   "metadata": {
    "scrolled": true
   },
   "outputs": [],
   "source": [
    "palantir.plot.plot_diffusion_components(umap, dm_res)"
   ]
  },
  {
   "cell_type": "code",
   "execution_count": null,
   "id": "4d53de83",
   "metadata": {
    "scrolled": true
   },
   "outputs": [],
   "source": [
    "palantir.plot.plot_diffusion_components(fa, dm_res)"
   ]
  },
  {
   "cell_type": "markdown",
   "id": "3f634e04",
   "metadata": {},
   "source": [
    "<p>Define the \"early\" cell to be used as the start of the trajectory</p>  \n",
    "<p>Here, we take the cell with the highest Sox9 gene expression</p>"
   ]
  },
  {
   "cell_type": "code",
   "execution_count": null,
   "id": "01bf0860",
   "metadata": {
    "scrolled": true
   },
   "outputs": [],
   "source": [
    "early_cell = pd.DataFrame(data[:, ['Sox9']].layers['palantir_imp'], index=data.obs_names, columns=['Sox9']).idxmax().values[0] # for max expression\n",
    "#early_cell = pd.DataFrame(data[:, ['Sox9']].layers['palantir_imp'], index=data.obs_names, columns=['Sox9']).idxmin().values[0] # for min expression"
   ]
  },
  {
   "cell_type": "markdown",
   "id": "f3900886",
   "metadata": {},
   "source": [
    "<p>(Optional) Define the terminating cell(s), if known or speculated, to be used as endpoints of the trajectory</p>  \n",
    "<p>Here, we do not define any terminal cells</p>"
   ]
  },
  {
   "cell_type": "code",
   "execution_count": null,
   "id": "7f6040cc",
   "metadata": {
    "scrolled": true
   },
   "outputs": [],
   "source": [
    "#terminal_cells = pd.DataFrame(data[:, ['Sox9']].layers['palantir_imp'], index=data.obs_names, columns=['Sox9']).idxmax().values # for max expression\n",
    "#terminal_cell = pd.DataFrame(data[:, ['Sox9']].layers['palantir_imp'], index=data.obs_names, columns=['Sox9']).idxmin().values # for min expression"
   ]
  },
  {
   "cell_type": "markdown",
   "id": "f4ba0ae3",
   "metadata": {},
   "source": [
    "<p>Define the number of waypoints to compute trajectory probabilities</p>\n",
    "<p>Here, we are simply selecting a value of ~5% of the total number of cells in the data</p>"
   ]
  },
  {
   "cell_type": "code",
   "execution_count": null,
   "id": "62212002",
   "metadata": {
    "scrolled": true
   },
   "outputs": [],
   "source": [
    "num_waypoints = int(0.05*data.n_obs)"
   ]
  },
  {
   "cell_type": "markdown",
   "id": "fc8dab8f",
   "metadata": {},
   "source": [
    "<p style=\"color:green;font-size:16px;\">Compute Palantir trajectory results</p>  \n",
    "<a href=\"https://scanpy.readthedocs.io/en/stable/generated/scanpy.external.tl.palantir_results.html\">See API for options</a>  "
   ]
  },
  {
   "cell_type": "code",
   "execution_count": null,
   "id": "297c5d4b",
   "metadata": {
    "scrolled": true
   },
   "outputs": [],
   "source": [
    "pr_res = sc.external.tl.palantir_results(data, early_cell, ms_data='X_palantir_multiscale', num_waypoints=num_waypoints, use_early_cell_as_start=True)#, terminal_states=terminal_states.index)"
   ]
  },
  {
   "cell_type": "markdown",
   "id": "913cf128",
   "metadata": {},
   "source": [
    "<p style=\"color:darkviolet\">Observe Palantir results</p> "
   ]
  },
  {
   "cell_type": "code",
   "execution_count": null,
   "id": "273d0657",
   "metadata": {
    "scrolled": true
   },
   "outputs": [],
   "source": [
    "palantir.plot.plot_palantir_results(pr_res, tsne)"
   ]
  },
  {
   "cell_type": "code",
   "execution_count": null,
   "id": "0d8ffba7",
   "metadata": {
    "scrolled": true
   },
   "outputs": [],
   "source": [
    "palantir.plot.plot_palantir_results(pr_res, umap)"
   ]
  },
  {
   "cell_type": "code",
   "execution_count": null,
   "id": "7148f820",
   "metadata": {
    "scrolled": true
   },
   "outputs": [],
   "source": [
    "palantir.plot.plot_palantir_results(pr_res, fa)"
   ]
  },
  {
   "cell_type": "markdown",
   "id": "4b5c5eeb",
   "metadata": {},
   "source": [
    "<p style=\"color:darkviolet\">Observe terminal state probabilities for cells</p> "
   ]
  },
  {
   "cell_type": "code",
   "execution_count": null,
   "id": "6a4f1404",
   "metadata": {
    "scrolled": true
   },
   "outputs": [],
   "source": [
    "cells = pr_res.branch_probs.columns.values.tolist()\n",
    "cells.append(early_cell)\n",
    "palantir.plot.plot_terminal_state_probs(pr_res, cells)"
   ]
  },
  {
   "cell_type": "markdown",
   "id": "26163292",
   "metadata": {},
   "source": [
    "<p style=\"color:darkviolet\">Observe locations of early and terminal cells</p> "
   ]
  },
  {
   "cell_type": "code",
   "execution_count": null,
   "id": "cda2601b",
   "metadata": {
    "scrolled": true
   },
   "outputs": [],
   "source": [
    "palantir.plot.highlight_cells_on_tsne(tsne, cells)"
   ]
  },
  {
   "cell_type": "code",
   "execution_count": null,
   "id": "5b57c386",
   "metadata": {
    "scrolled": true
   },
   "outputs": [],
   "source": [
    "palantir.plot.highlight_cells_on_tsne(umap, cells)"
   ]
  },
  {
   "cell_type": "code",
   "execution_count": null,
   "id": "f000b2d2",
   "metadata": {
    "scrolled": true
   },
   "outputs": [],
   "source": [
    "palantir.plot.highlight_cells_on_tsne(fa, cells)"
   ]
  },
  {
   "cell_type": "markdown",
   "id": "62d8f323",
   "metadata": {},
   "source": [
    "<p>Define genes for plotting gene expression trends between early and terminating cells</p>"
   ]
  },
  {
   "cell_type": "code",
   "execution_count": null,
   "id": "18cd0bbe",
   "metadata": {
    "scrolled": true
   },
   "outputs": [],
   "source": [
    "genes = ['provide', 'list', 'of', 'genes', 'to', 'see', 'here']"
   ]
  },
  {
   "cell_type": "markdown",
   "id": "0efd8355",
   "metadata": {},
   "source": [
    "<p style=\"color:green;font-size:16px;\">Compute gene trends</p>  "
   ]
  },
  {
   "cell_type": "code",
   "execution_count": null,
   "id": "c606a532",
   "metadata": {
    "scrolled": true
   },
   "outputs": [],
   "source": [
    "imp_df = pd.DataFrame(data[:, genes].layers['palantir_imp'], index=data.obs_names, columns=genes) # Store imputed data into DataFrame\n",
    "gene_trends = palantir.presults.compute_gene_trends(pr_res, imp_df.loc[:, genes])"
   ]
  },
  {
   "cell_type": "markdown",
   "id": "3eef7d0d",
   "metadata": {},
   "source": [
    "<p style=\"color:darkviolet\">Observe gene trends</p> "
   ]
  },
  {
   "cell_type": "code",
   "execution_count": null,
   "id": "ef8b6299",
   "metadata": {
    "scrolled": true
   },
   "outputs": [],
   "source": [
    "palantir.plot.plot_gene_trends(gene_trends)"
   ]
  },
  {
   "cell_type": "code",
   "execution_count": null,
   "id": "7f696874",
   "metadata": {
    "scrolled": true
   },
   "outputs": [],
   "source": [
    "palantir.plot.plot_gene_trend_heatmaps(gene_trends)"
   ]
  },
  {
   "cell_type": "markdown",
   "id": "d84a6856",
   "metadata": {},
   "source": [
    "<p style=\"color:green;font-size:16px;\">Compute gene trends for 1000 genes (example)</p>  "
   ]
  },
  {
   "cell_type": "code",
   "execution_count": null,
   "id": "db6c31bd",
   "metadata": {
    "scrolled": true
   },
   "outputs": [],
   "source": [
    "imp_df_first1000 = pd.DataFrame(data[:, data.var_names.values[0:1000]].layers['palantir_imp'],\n",
    "                     index=data.obs_names, columns=data.var_names.values[0:1000]) # Store imputed data into DataFrame\n",
    "gene_trends_first1000 = palantir.presults.compute_gene_trends(pr_res, imp_df_first1000.iloc[:, 0:1000], )"
   ]
  },
  {
   "cell_type": "markdown",
   "id": "fc6e0e32",
   "metadata": {},
   "source": [
    "<p style=\"color:darkviolet\">Observe trends for clusters of genes</p> "
   ]
  },
  {
   "cell_type": "code",
   "execution_count": null,
   "id": "18cde10b",
   "metadata": {
    "scrolled": true
   },
   "outputs": [],
   "source": [
    "for c in range(0, len(cells)-1):\n",
    "    trends = gene_trends_first1000[cells[c]]['trends']\n",
    "    gene_clusters = palantir.presults.cluster_gene_trends(trends)\n",
    "    palantir.plot.plot_gene_trend_clusters(trends, gene_clusters)"
   ]
  },
  {
   "cell_type": "markdown",
   "id": "583ac29e",
   "metadata": {},
   "source": [
    "### Using PAGA"
   ]
  },
  {
   "cell_type": "markdown",
   "id": "fee13b27",
   "metadata": {},
   "source": [
    "<p style=\"color:green;font-size:16px;\">Compute force-directed graph (if not done above)</p>  "
   ]
  },
  {
   "cell_type": "code",
   "execution_count": null,
   "id": "a40ccf78",
   "metadata": {},
   "outputs": [],
   "source": [
    "sc.tl.draw_graph(data) # takes time..."
   ]
  },
  {
   "cell_type": "markdown",
   "id": "1e796ea7",
   "metadata": {},
   "source": [
    "<p style=\"color:darkviolet\">Observe embedding</p>  "
   ]
  },
  {
   "cell_type": "code",
   "execution_count": null,
   "id": "abd0c4e4",
   "metadata": {},
   "outputs": [],
   "source": [
    "sc.pl.draw_graph(data, legend_loc='on data')"
   ]
  },
  {
   "cell_type": "markdown",
   "id": "0b567c39",
   "metadata": {},
   "source": [
    "<p style=\"color:green;font-size:16px;\">Compute PAGA graph</p>  "
   ]
  },
  {
   "cell_type": "code",
   "execution_count": null,
   "id": "887ca5e6",
   "metadata": {},
   "outputs": [],
   "source": [
    "sc.tl.paga(data, groups='louvain') # Assumes louvain method was used above clustering"
   ]
  },
  {
   "cell_type": "markdown",
   "id": "2a082c60",
   "metadata": {},
   "source": [
    "<p style=\"color:darkviolet\">Observe PAGA graph</p>  "
   ]
  },
  {
   "cell_type": "code",
   "execution_count": null,
   "id": "cd29955f",
   "metadata": {
    "scrolled": true
   },
   "outputs": [],
   "source": [
    "sc.pl.paga(data, color=['louvain'])"
   ]
  },
  {
   "cell_type": "code",
   "execution_count": null,
   "id": "1beb88e5",
   "metadata": {},
   "outputs": [],
   "source": [
    "sc.pl.paga(data, color=genes)"
   ]
  },
  {
   "cell_type": "markdown",
   "id": "45a53398",
   "metadata": {
    "scrolled": true
   },
   "source": [
    "Annotate the louvain groups (should have same number of groups defined)"
   ]
  },
  {
   "cell_type": "code",
   "execution_count": null,
   "id": "059ab8d1",
   "metadata": {},
   "outputs": [],
   "source": [
    "data.obs['louvain'].cat.categories"
   ]
  },
  {
   "cell_type": "code",
   "execution_count": null,
   "id": "0691758d",
   "metadata": {},
   "outputs": [],
   "source": [
    "data.obs['louvain_anno'] = data.obs['louvain']\n",
    "data.obs['louvain_anno'].cat.categories = ['0', '1', '2', '3', '4', '5', '6', '7', '8', '9', '10/Ery', '11', '12',\n",
    "       '13', '14', '15', '16/Stem', '17', '18', '19/Neu', '20/Mk', '21', '22/Baso', '23', '24/Mo']"
   ]
  },
  {
   "cell_type": "markdown",
   "id": "221b1a85",
   "metadata": {},
   "source": [
    "<p style=\"color:green;font-size:16px;\">Re-compute PAGA graph with annotations</p>  "
   ]
  },
  {
   "cell_type": "code",
   "execution_count": null,
   "id": "0a67ffed",
   "metadata": {},
   "outputs": [],
   "source": [
    "sc.tl.paga(data, groups='louvain_anno') # Assumes louvain method was used above clustering"
   ]
  },
  {
   "cell_type": "markdown",
   "id": "56232e19",
   "metadata": {},
   "source": [
    "<p style=\"color:darkviolet\">Observe embedding with annotations</p>  "
   ]
  },
  {
   "cell_type": "code",
   "execution_count": null,
   "id": "16066a26",
   "metadata": {},
   "outputs": [],
   "source": [
    "sc.pl.draw_graph(data, legend_loc='on data')"
   ]
  },
  {
   "cell_type": "markdown",
   "id": "542cf106",
   "metadata": {},
   "source": [
    "<p style=\"color:green;font-size:16px;\">Re-compute graph with PAGA initialization</p>  "
   ]
  },
  {
   "cell_type": "code",
   "execution_count": null,
   "id": "ba0755a2",
   "metadata": {},
   "outputs": [],
   "source": [
    "sc.tl.draw_graph(data, init_pos='paga')"
   ]
  },
  {
   "cell_type": "markdown",
   "id": "09f4d93b",
   "metadata": {},
   "source": [
    "<p style=\"color:darkviolet\">Observe embedding with annotations</p>  "
   ]
  },
  {
   "cell_type": "code",
   "execution_count": null,
   "id": "3dbd2348",
   "metadata": {},
   "outputs": [],
   "source": [
    "sc.pl.draw_graph(data, color=['louvain_anno'], legend_loc='on data')"
   ]
  },
  {
   "cell_type": "code",
   "execution_count": null,
   "id": "6d10ede8",
   "metadata": {},
   "outputs": [],
   "source": [
    "sc.pl.draw_graph(data, color=genes, legend_loc='on data')"
   ]
  },
  {
   "cell_type": "markdown",
   "id": "de541029",
   "metadata": {},
   "source": [
    "View palette colors, these can be used to define colors for trajectories"
   ]
  },
  {
   "cell_type": "code",
   "execution_count": null,
   "id": "c52105c4",
   "metadata": {},
   "outputs": [],
   "source": [
    "pl.figure(figsize=(8, 2))\n",
    "for i in range(28):\n",
    "    pl.scatter(i, 1, c=sc.pl.palettes.zeileis_28[i], s=200)\n",
    "pl.show()"
   ]
  },
  {
   "cell_type": "code",
   "execution_count": null,
   "id": "9bcce105",
   "metadata": {},
   "outputs": [],
   "source": [
    "zeileis_colors = np.array(sc.pl.palettes.zeileis_28)\n",
    "new_colors = np.array(adata.uns['louvain_anno_colors'])"
   ]
  },
  {
   "cell_type": "markdown",
   "id": "c62bc26f",
   "metadata": {},
   "source": [
    "Define colors used for visualizing trajectory, new_colors value indicates cluster"
   ]
  },
  {
   "cell_type": "code",
   "execution_count": null,
   "id": "5ba01b4a",
   "metadata": {},
   "outputs": [],
   "source": [
    "new_colors[[16]] = zeileis_colors[[12]]  # Stem colors / green\n",
    "new_colors[[10, 17, 5, 3, 15, 6, 18, 13, 7, 12]] = zeileis_colors[[5, 5, 5, 5, 11, 11, 10, 9, 21, 21]]  # Ery colors / red\n",
    "new_colors[[20, 8]] = zeileis_colors[[17, 16]]  # Mk early Ery colors / yellow\n",
    "new_colors[[4, 0]] = zeileis_colors[[2, 8]]  # lymph progenitors / grey\n",
    "new_colors[[22]] = zeileis_colors[[18]]  # Baso / turquoise\n",
    "new_colors[[19, 14, 2]] = zeileis_colors[[6, 6, 6]]  # Neu / light blue\n",
    "new_colors[[24, 9, 1, 11]] = zeileis_colors[[0, 0, 0, 0]]  # Mo / dark blue\n",
    "new_colors[[21, 23]] = zeileis_colors[[25, 25]]  # outliers / grey"
   ]
  },
  {
   "cell_type": "markdown",
   "id": "bfc3a486",
   "metadata": {},
   "source": [
    "<p style=\"color:green;font-size:16px;\">Apply colors</p>  "
   ]
  },
  {
   "cell_type": "code",
   "execution_count": null,
   "id": "ceefe7fd",
   "metadata": {},
   "outputs": [],
   "source": [
    "data.uns['louvain_anno_colors'] = new_colors"
   ]
  },
  {
   "cell_type": "markdown",
   "id": "a093fad6",
   "metadata": {},
   "source": [
    "<p style=\"color:darkviolet\">Observe embedding with new colors</p>  "
   ]
  },
  {
   "cell_type": "code",
   "execution_count": null,
   "id": "74a63534",
   "metadata": {},
   "outputs": [],
   "source": [
    "sc.pl.paga_compare(data, threshold=0.03, title='', right_margin=0.2, size=10, edge_width_scale=0.5, legend_fontsize=12, fontsize=12, frameon=False, edges=True, save=False)"
   ]
  },
  {
   "cell_type": "markdown",
   "id": "b74b0945",
   "metadata": {},
   "source": [
    "<p style=\"color:green;font-size:16px;\">Define starting cell for trajectory</p>  "
   ]
  },
  {
   "cell_type": "code",
   "execution_count": null,
   "id": "7e22f10d",
   "metadata": {},
   "outputs": [],
   "source": [
    "data.uns['iroot'] = np.flatnonzero(data.obs['louvain_anno']  == '16/Stem')[0]"
   ]
  },
  {
   "cell_type": "markdown",
   "id": "e0ed2df1",
   "metadata": {},
   "source": [
    "<p style=\"color:green;font-size:16px;\">Compute diffusion pseudotime</p>  "
   ]
  },
  {
   "cell_type": "code",
   "execution_count": null,
   "id": "bc93c74f",
   "metadata": {},
   "outputs": [],
   "source": [
    "sc.tl.dpt(data)"
   ]
  },
  {
   "cell_type": "markdown",
   "id": "9cf0dca6",
   "metadata": {},
   "source": [
    "Define marker genes"
   ]
  },
  {
   "cell_type": "code",
   "execution_count": null,
   "id": "e3bf6ab6",
   "metadata": {},
   "outputs": [],
   "source": [
    "gene_names = ['Gata2', 'Gata1', 'Klf1', 'Epor', 'Hba-a2',  # erythroid\n",
    "              'Elane', 'Cebpe', 'Gfi1',                    # neutrophil\n",
    "              'Irf8', 'Csf1r', 'Ctsg']                     # monocyte"
   ]
  },
  {
   "cell_type": "markdown",
   "id": "0cd4f5f4",
   "metadata": {},
   "source": [
    "<p style=\"color:darkviolet\">Observe embedding and diffusion pseudotime</p>  "
   ]
  },
  {
   "cell_type": "code",
   "execution_count": null,
   "id": "4860ecfe",
   "metadata": {},
   "outputs": [],
   "source": [
    "sc.pl.draw_graph(data, color=['louvain_anno', 'dpt_pseudotime'], legend_loc='on data')"
   ]
  },
  {
   "cell_type": "markdown",
   "id": "1756ee1f",
   "metadata": {},
   "source": [
    "Define paths for each cell type based on above plots"
   ]
  },
  {
   "cell_type": "code",
   "execution_count": null,
   "id": "5b5ec5de",
   "metadata": {},
   "outputs": [],
   "source": [
    "paths = [('erythrocytes', [16, 12, 7, 13, 18, 6, 5, 10]),\n",
    "         ('neutrophils', [16, 0, 4, 2, 14, 19]),\n",
    "         ('monocytes', [16, 0, 4, 11, 1, 9, 24])]"
   ]
  },
  {
   "cell_type": "markdown",
   "id": "eaa56467",
   "metadata": {},
   "source": [
    "<p style=\"color:green;font-size:16px;\">(Re-)Define variables</p>  "
   ]
  },
  {
   "cell_type": "code",
   "execution_count": null,
   "id": "caeb00d6",
   "metadata": {},
   "outputs": [],
   "source": [
    "data.obs['distance'] = data.obs['dpt_pseudotime']\n",
    "data.obs['clusters'] = data.obs['louvain_anno']  # just a cosmetic change\n",
    "data.uns['clusters_colors'] = data.uns['louvain_anno_colors']"
   ]
  },
  {
   "cell_type": "markdown",
   "id": "c9bfdfa6",
   "metadata": {},
   "source": [
    "<p style=\"color:darkviolet\">Observe gene expression heatmaps for defined cell paths</p>  "
   ]
  },
  {
   "cell_type": "code",
   "execution_count": null,
   "id": "be3d8247",
   "metadata": {},
   "outputs": [],
   "source": [
    "_, axs = pl.subplots(ncols=3, figsize=(6, 2.5), gridspec_kw={'wspace': 0.05, 'left': 0.12})\n",
    "pl.subplots_adjust(left=0.05, right=0.98, top=0.82, bottom=0.2)\n",
    "for ipath, (descr, path) in enumerate(paths):\n",
    "    _, path_data = sc.pl.paga_path(\n",
    "        data, path, gene_names,\n",
    "        show_node_names=False,\n",
    "        ax=axs[ipath],\n",
    "        ytick_fontsize=12,\n",
    "        left_margin=0.15,\n",
    "        n_avg=50,\n",
    "        annotations=['distance'],\n",
    "        show_yticks=True if ipath==0 else False,\n",
    "        show_colorbar=False,\n",
    "        color_map='Greys',\n",
    "        groups_key='clusters',\n",
    "        color_maps_annotations={'distance': 'viridis'},\n",
    "        title='{} path'.format(descr),\n",
    "        return_data=True,\n",
    "        show=False)\n",
    "    #path_data.to_csv('./write/paga_path_{}.csv'.format(descr))"
   ]
  },
  {
   "cell_type": "markdown",
   "id": "20c30106",
   "metadata": {},
   "source": [
    "___  \n",
    "# <center>END</center>  \n",
    "___  "
   ]
  }
 ],
 "metadata": {
  "kernelspec": {
   "display_name": "Python 3 (ipykernel)",
   "language": "python",
   "name": "python3"
  },
  "language_info": {
   "codemirror_mode": {
    "name": "ipython",
    "version": 3
   },
   "file_extension": ".py",
   "mimetype": "text/x-python",
   "name": "python",
   "nbconvert_exporter": "python",
   "pygments_lexer": "ipython3",
   "version": "3.9.12"
  }
 },
 "nbformat": 4,
 "nbformat_minor": 5
}
