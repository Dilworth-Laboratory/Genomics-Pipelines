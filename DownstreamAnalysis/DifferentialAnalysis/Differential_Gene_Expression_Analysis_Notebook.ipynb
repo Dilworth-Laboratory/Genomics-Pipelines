{
 "cells": [
  {
   "cell_type": "markdown",
   "id": "f10c1ed7",
   "metadata": {},
   "source": [
    "# <center> RNA-Seq Differential Gene Expression Notebook </center>"
   ]
  },
  {
   "cell_type": "markdown",
   "id": "2aa91750",
   "metadata": {},
   "source": [
    "## <center>Preface</center>  \n",
    "<p><center>This Notebook provides an interactive way to process, analyze, and view differential gene expressions from next-generation sequencing data.<br>The following steps serve as a guide, however, care should be taken when executing and interpreting results.</center><br>This notebook uses the following R packages: <li> - <a href=\"https://bioconductor.org/packages/release/bioc/html/Rsubread.html\"><strong>Rsubread</strong></a> to produce a count matrix from provided .bam files using featureCounts (if matrix not already created). <br>- <a href=\"https://bioconductor.org/packages/release/bioc/html/DESeq2.html\"><strong>DESeq2</strong></a> to process the count matrix and produce differential gene expression statistics. <br>- <a href=\"https://bioconductor.org/packages/release/bioc/html/clusterProfiler.html\"><strong>clusterProfiler</strong></a> to annotate genes (GO, GSEA, KEGG) using database packages for mappings. </li><center><br><em>Note that despite following the framework below, it is up to <strong>you</strong> to determine which steps or values to change or ignore based on your knowledge of experimental details in obtaining data and your analysis goals.</em></center></p>"
   ]
  },
  {
   "cell_type": "markdown",
   "id": "a0563cf6",
   "metadata": {},
   "source": [
    "### sessionInfo()"
   ]
  },
  {
   "cell_type": "markdown",
   "id": "5ef8bc78",
   "metadata": {},
   "source": [
    "R version 4.3.1 (2023-06-16 ucrt)\n",
    "Platform: x86_64-w64-mingw32/x64 (64-bit)\n",
    "Running under: Windows 10 x64 (build 19045)\n",
    "\n",
    "Matrix products: default\n",
    "\n",
    "\n",
    "locale:\n",
    "[1] LC_COLLATE=English_Canada.utf8  LC_CTYPE=English_Canada.utf8    LC_MONETARY=English_Canada.utf8\n",
    "[4] LC_NUMERIC=C                    LC_TIME=English_Canada.utf8    \n",
    "\n",
    "time zone: America/Toronto\n",
    "tzcode source: internal\n",
    "\n",
    "attached base packages:\n",
    "[1] grid      stats4    stats     graphics  grDevices utils     datasets  methods   base     \n",
    "\n",
    "other attached packages:\n",
    " [1] optparse_1.7.5              qvalue_2.32.0               reticulate_1.39.0          \n",
    " [4] pheatmap_1.0.12             RColorBrewer_1.1-3          EnhancedVolcano_1.18.0     \n",
    " [7] ggrepel_0.9.6               ggplot2_3.5.1               clusterProfiler_4.8.3      \n",
    "[10] edgeR_3.42.4                limma_3.56.2                DESeq2_1.40.2              \n",
    "[13] SummarizedExperiment_1.30.2 Biobase_2.60.0              MatrixGenerics_1.12.3      \n",
    "[16] matrixStats_1.4.1           GenomicRanges_1.52.0        GenomeInfoDb_1.36.4        \n",
    "[19] IRanges_2.34.1              S4Vectors_0.38.1            BiocGenerics_0.46.0        \n",
    "[22] Rsubread_2.14.2            \n",
    "\n",
    "loaded via a namespace (and not attached):\n",
    " [1] DBI_1.2.3               bitops_1.0-8            gson_0.1.0              shadowtext_0.1.4       \n",
    " [5] gridExtra_2.3           rlang_1.1.4             magrittr_2.0.3          DOSE_3.26.2            \n",
    " [9] compiler_4.3.1          RSQLite_2.3.7           png_0.1-8               vctrs_0.6.5            \n",
    "[13] reshape2_1.4.4          stringr_1.5.1           pkgconfig_2.0.3         crayon_1.5.3           \n",
    "[17] fastmap_1.2.0           XVector_0.40.0          ggraph_2.2.1            utf8_1.2.4             \n",
    "[21] HDO.db_0.99.1           enrichplot_1.20.3       purrr_1.0.2             bit_4.5.0              \n",
    "[25] zlibbioc_1.46.0         cachem_1.1.0            aplot_0.2.3             jsonlite_1.8.9         \n",
    "[29] blob_1.2.4              DelayedArray_0.26.6     BiocParallel_1.34.2     tweenr_2.0.3           \n",
    "[33] parallel_4.3.1          R6_2.5.1                stringi_1.8.4           GOSemSim_2.26.1        \n",
    "[37] Rcpp_1.0.13             downloader_0.4          Matrix_1.5-4.1          splines_4.3.1          \n",
    "[41] igraph_2.0.3            tidyselect_1.2.1        rstudioapi_0.16.0       viridis_0.6.5          \n",
    "[45] codetools_0.2-19        lattice_0.21-8          tibble_3.2.1            plyr_1.8.9             \n",
    "[49] treeio_1.24.3           withr_3.0.1             KEGGREST_1.40.1         gridGraphics_0.5-1     \n",
    "[53] getopt_1.20.4           scatterpie_0.2.4        polyclip_1.10-7         Biostrings_2.68.1      \n",
    "[57] ggtree_3.8.2            pillar_1.9.0            ggfun_0.1.6             generics_0.1.3         \n",
    "[61] RCurl_1.98-1.16         tidytree_0.4.6          munsell_0.5.1           scales_1.3.0           \n",
    "[65] glue_1.7.0              lazyeval_0.2.2          tools_4.3.1             data.table_1.16.0      \n",
    "[69] fgsea_1.26.0            locfit_1.5-9.10         fs_1.6.4                graphlayouts_1.2.0     \n",
    "[73] fastmatch_1.1-4         tidygraph_1.3.1         cowplot_1.1.3           ape_5.8                \n",
    "[77] tidyr_1.3.1             AnnotationDbi_1.62.2    colorspace_2.1-1        nlme_3.1-162           \n",
    "[81] patchwork_1.3.0         GenomeInfoDbData_1.2.10 ggforce_0.4.2           cli_3.6.1              \n",
    "[85] fansi_1.0.6             S4Arrays_1.0.4          viridisLite_0.4.2       dplyr_1.1.4            \n",
    "[89] gtable_0.3.5            yulab.utils_0.1.7       digest_0.6.37           ggplotify_0.1.2        \n",
    "[93] farver_2.1.2            memoise_2.0.1           lifecycle_1.0.4         httr_1.4.7             \n",
    "[97] GO.db_3.17.0            bit64_4.5.2             MASS_7.3-60"
   ]
  },
  {
   "cell_type": "markdown",
   "id": "2f24f257",
   "metadata": {},
   "source": [
    "### Required:\n",
    "<br><strong>1) A <u>COUNT MATRIX FILE</u> produced by featureCounts and/or htseq-count which should be comma-separated (.csv), example formatted as follows:</strong><br>\n",
    "<table style=’float:left;’>\n",
    "    <tr>\n",
    "        <th>GeneID</th>\n",
    "        <th>BamSample 1</th>\n",
    "        <th>BamSample 2</th>\n",
    "        <th>BamSample 3</th>\n",
    "        <th>BamSample N</th>\n",
    "    </tr>\n",
    "    <tr>\n",
    "        <td>gene1</td>\n",
    "        <td>123</td>\n",
    "        <td>456</td>\n",
    "        <td>78</td>\n",
    "        <td>89</td>\n",
    "    </tr>\n",
    "    <tr>\n",
    "        <td>gene2</td>\n",
    "        <td>321</td>\n",
    "        <td>654</td>\n",
    "        <td>45</td>\n",
    "        <td>12</td>\n",
    "    </tr>\n",
    "    <tr>\n",
    "        <td>gene3</td>\n",
    "        <td>456</td>\n",
    "        <td>741</td>\n",
    "        <td>0</td>\n",
    "        <td>0</td>\n",
    "    </tr>\n",
    "    <tr>\n",
    "        <td>geneN</td>\n",
    "        <td>369</td>\n",
    "        <td>987</td>\n",
    "        <td>100</td>\n",
    "        <td>200</td>\n",
    "    </tr>\n",
    "</table><br>\n",
    "&emsp;<strong>There should be no duplicated gene IDs in the first column.</strong><br>\n",
    "&emsp;<strong>---This file may be produced using this notebook below with the provided .bam files...or using <a href=\"https://github.com/earezza/Genomics-Pipelines/blob/main/DownstreamAnalysis/DifferentialAnalysis/get_rnaseq_counts.R\">get_rnaseq_counts.R</a>---</strong>\n",
    "<br><br>\n",
    "<strong>2) A <u>SAMPLE INFO FILE</u> is also required and should be comma-separated (.csv), example formatted as follows:</strong><br>\n",
    "<table style=’float:left;’>\n",
    "    <tr>\n",
    "        <th>Sample</th>\n",
    "        <th>Condition</th>\n",
    "    </tr>\n",
    "    <tr>\n",
    "        <td>BamSample 1</td>\n",
    "        <td>control</td>\n",
    "    </tr>\n",
    "    <tr>\n",
    "        <td>BamSample 2</td>\n",
    "        <td>control</td>\n",
    "    </tr>\n",
    "    <tr>\n",
    "        <td>BamSample 3</td>\n",
    "        <td>treatment</td>\n",
    "    </tr>\n",
    "    <tr>\n",
    "        <td>BamSample N</td>\n",
    "        <td>treatment</td>\n",
    "    </tr>\n",
    "</table><br>\n",
    "&emsp;<strong>Must contain a column with the header named \"Condition\" for grouping samples.</strong><br>\n",
    "&emsp;<strong>There must be more than 1 sample for each condition.</strong><br>\n",
    "&emsp;<strong>Row order does not matter.</strong><br>\n",
    "&emsp;<strong>May contain multiple conditions. Pair-wise comparisons are performed for differential gene expressions between each pair combination.</strong>"
   ]
  },
  {
   "cell_type": "markdown",
   "id": "2964963f",
   "metadata": {},
   "source": [
    "## <center> ======= Load Packages ======= </center>"
   ]
  },
  {
   "cell_type": "code",
   "execution_count": null,
   "id": "7e76db7f",
   "metadata": {
    "vscode": {
     "languageId": "r"
    }
   },
   "outputs": [],
   "source": [
    "# ======= Load Packages =======\n",
    "suppressWarnings(suppressPackageStartupMessages({\n",
    "  library(Rsubread)\n",
    "  library(DESeq2)\n",
    "  library(edgeR)\n",
    "  library(clusterProfiler)\n",
    "  library(ggplot2)\n",
    "  library(EnhancedVolcano)\n",
    "  #library(ensembldb)\n",
    "  library(RColorBrewer)\n",
    "  library(pheatmap)\n",
    "  library(grid)\n",
    "  library(reticulate)\n",
    "  library(qvalue)\n",
    "  library(optparse)\n",
    "}))"
   ]
  },
  {
   "cell_type": "markdown",
   "id": "865fd09a",
   "metadata": {},
   "source": [
    "## <center> =========== Define Functions ============ </center>"
   ]
  },
  {
   "cell_type": "code",
   "execution_count": null,
   "id": "b9122d66",
   "metadata": {
    "vscode": {
     "languageId": "r"
    }
   },
   "outputs": [],
   "source": [
    "# Load annotation database according to input params\n",
    "load_annotation <- function(assembly, database){\n",
    "  # ========= Get database references for annotations =========\n",
    "  if (assembly == \"mm10\" | assembly == \"mm9\"){\n",
    "    library(org.Mm.eg.db)\n",
    "    annoDb <- \"org.Mm.eg.db\"\n",
    "    keggOrg <- \"mmu\"\n",
    "    if (database == \"ucsc\"){\n",
    "      if (assembly == \"mm10\"){\n",
    "        library(TxDb.Mmusculus.UCSC.mm10.knownGene)\n",
    "        txdb <- TxDb.Mmusculus.UCSC.mm10.knownGene\n",
    "      }else if (assembly == \"mm9\"){\n",
    "        library(TxDb.Mmusculus.UCSC.mm9.knownGene)\n",
    "        txdb <- TxDb.Mmusculus.UCSC.mm9.knownGene\n",
    "      }\n",
    "    }else if (database == \"ensemble\"){\n",
    "      library(EnsDb.Mmusculus.v79)\n",
    "      txdb <- EnsDb.Mmusculus.v79\n",
    "      seqlevelsStyle(txdb) <- \"UCSC\" # format ensembl genes using UCSC style\n",
    "    }\n",
    "    else{\n",
    "      stop(\"Invalid choice of annotation database\")\n",
    "    }\n",
    "  } else if (assembly == \"hg38\" | assembly == \"hg19\"){\n",
    "    library(org.Hs.eg.db)\n",
    "    annoDb <- \"org.Hs.eg.db\"\n",
    "    keggOrg <- \"hsa\"\n",
    "    if (database == \"ucsc\"){\n",
    "      if (assembly == \"hg38\"){\n",
    "        library(TxDb.Hsapiens.UCSC.hg38.knownGene)\n",
    "        txdb <- TxDb.Hsapiens.UCSC.hg38.knownGene\n",
    "      }else if (assembly == \"hg19\"){\n",
    "        library(TxDb.Hsapiens.UCSC.hg19.knownGene)\n",
    "        txdb <- TxDb.Hsapiens.UCSC.hg19.knownGene\n",
    "      }\n",
    "    }else if (database == \"ensemble\"){\n",
    "      library(EnsDb.Hsapiens.v86)\n",
    "      txdb <- EnsDb.Hsapiens.v86\n",
    "      seqlevelsStyle(txdb) <- \"UCSC\" # format ensembl genes using UCSC style\n",
    "    } \n",
    "    else{\n",
    "      stop(\"Invalid choice of annotation database\")\n",
    "    }\n",
    "  } else if (assembly == \"rn6\"){\n",
    "    library(TxDb.Rnorvegicus.UCSC.rn6.refGene)\n",
    "    library(org.Rn.eg.db)\n",
    "    annoDb <- \"org.Rn.eg.db\"\n",
    "    keggOrg <- \"rno\"\n",
    "    if (database == \"ucsc\"){\n",
    "      txdb <- TxDb.Rnorvegicus.UCSC.rn6.refGene\n",
    "    }else if (database == \"ensemble\"){\n",
    "      library(EnsDb.Rnorvegicus.v79)\n",
    "      txdb <- EnsDb.Rnorvegicus.v79\n",
    "      seqlevelsStyle(txdb) <- \"UCSC\" # format ensembl genes using UCSC style\n",
    "    } \n",
    "    else{\n",
    "      stop(\"Invalid choice of annotation database\")\n",
    "    }\n",
    "  } else{\n",
    "    stop(\"Invalid choice of assembly\")\n",
    "  }\n",
    "  \n",
    "  anno_ref <- list(\"txdb\"=txdb, \"annoDb\"=annoDb, \"keggOrg\"=keggOrg)\n",
    "  \n",
    "  return(anno_ref)\n",
    "}"
   ]
  },
  {
   "cell_type": "code",
   "execution_count": null,
   "id": "84eac48b",
   "metadata": {
    "vscode": {
     "languageId": "r"
    }
   },
   "outputs": [],
   "source": [
    "# Dotplots for GO/KEGG pathway analysis\n",
    "make_dotplot <- function(df, title=\"\", ylabel=\"Description\", colour=\"#56B1F7\", n=15){\n",
    "  df$ycolour <- \"black\"\n",
    "  if (\"ONTOLOGY\" %in% colnames(df)){\n",
    "    df$Description <- paste(df$ONTOLOGY, df$Description, sep=' - ')\n",
    "    df$ycolour <- ifelse(grepl(\"BP -\", df$Description), 'blue', df$ycolour)\n",
    "    df$ycolour <- ifelse(grepl(\"CC -\", df$Description), 'red', df$ycolour)\n",
    "    df$ycolour <- ifelse(grepl(\"MF -\", df$Description), 'darkgreen', df$ycolour)\n",
    "  }\n",
    "  df <- df[order(df$p.adjust, decreasing=FALSE),]\n",
    "  \n",
    "  # Re-format y-axis labels to not squish graph\n",
    "  for (d in 1:length(df$Description)){\n",
    "    i <- 1\n",
    "    s <- df$Description[d]\n",
    "    s <- str_remove(s, \" - Mus musculus \\\\(house mouse\\\\)\")\n",
    "    df$Description[d] <- \"\"\n",
    "    while (i < length(strsplit(s, ' ')[[1]]) + 1){\n",
    "      df$Description[d] <- paste(df$Description[d], paste(strsplit(s, ' ')[[1]][i:(i+5)], collapse = ' '), sep='\\n')\n",
    "      i <- (i+6)\n",
    "    }\n",
    "    df$Description[d] <- gsub(\" NA\", \"\", df$Description[d])\n",
    "    df$Description[d] <- substring(df$Description[d], 2, nchar(df$Description[d]))\n",
    "  }\n",
    "  # Plot\n",
    "  plt <- ggplot() +\n",
    "    geom_point(data=head(df, n=n),\n",
    "               aes(x = -log(p.adjust), \n",
    "                   y = reorder(Description, -p.adjust), \n",
    "                   colour = Count, \n",
    "                   size = unname(unlist(sapply(GeneRatio, function(x) eval(parse(text=x)))))*100,\n",
    "               ),\n",
    "    ) + \n",
    "    theme_classic() +\n",
    "    theme(axis.text.y = element_text(colour=rev(head(df$ycolour, n=n)))) +\n",
    "    scale_color_gradient(low = \"black\", high = colour) +\n",
    "    ggtitle(title)\n",
    "  plt$labels$x <- \"-log(p.adjust)\"\n",
    "  plt$labels$y <- ylabel\n",
    "  plt$labels$size <- \"GenePercentage\"\n",
    "  plt$labels$colour <- \"GeneCount\"\n",
    "  return(plt)\n",
    "}\n"
   ]
  },
  {
   "cell_type": "markdown",
   "id": "4d8a525e",
   "metadata": {},
   "source": [
    "---"
   ]
  },
  {
   "cell_type": "code",
   "execution_count": null,
   "id": "fdfe3982",
   "metadata": {
    "vscode": {
     "languageId": "r"
    }
   },
   "outputs": [],
   "source": [
    "# Volcano plots for DEGs\n",
    "make_volcanoplot <- function(res, condition1, condition2, lfc_threshold, padj_threshold, subtitle=''){\n",
    "  df <- as.data.frame(res)\n",
    "  \n",
    "  keyvals <- ifelse(df$log2FoldChange <= (0-lfc_threshold), 'darkred', 'black')\n",
    "  keyvals <- ifelse(df$log2FoldChange <= (0-lfc_threshold) & df$padj <= padj_threshold, 'red', keyvals)\n",
    "  keyvals <- ifelse(df$log2FoldChange >= lfc_threshold, 'darkgreen', keyvals)\n",
    "  keyvals <- ifelse(df$log2FoldChange >= lfc_threshold & df$padj <= padj_threshold, 'green', keyvals)\n",
    "  \n",
    "  keyvals[is.na(keyvals)] <- 'black'\n",
    "  names(keyvals)[keyvals == 'darkgreen'] <- condition1\n",
    "  names(keyvals)[keyvals == 'green'] <- paste(condition1, '(significant)', sep=' ')\n",
    "  names(keyvals)[keyvals == 'black'] <- 'Not DEG'\n",
    "  names(keyvals)[keyvals == 'darkred'] <- condition2\n",
    "  names(keyvals)[keyvals == 'red'] <- paste(condition2, '(significant)', sep=' ')\n",
    "  \n",
    "  plt <- EnhancedVolcano(df, \n",
    "                         x = 'log2FoldChange', \n",
    "                         y = 'padj', \n",
    "                         xlab = \"Log2FoldChange\",\n",
    "                         ylab = \"-Log(adjusted p-value)\",\n",
    "                         caption = paste0(\"Total = \", nrow(df), \" genes\\n\", \n",
    "                                          condition1, \" = \", nrow(subset(df, log2FoldChange >= lfc_threshold)), ' DEGs\\n',\n",
    "                                          condition2, \" = \", nrow(subset(df, log2FoldChange <= (0-lfc_threshold))), ' DEGS'\n",
    "                         ),\n",
    "                         colCustom = keyvals,\n",
    "                         lab = rownames(df),\n",
    "                         title = paste(condition1, ' vs ', condition2, sep=''),\n",
    "                         subtitle = subtitle,\n",
    "                         pCutoff = padj_threshold,\n",
    "                         FCcutoff = lfc_threshold,\n",
    "                         cutoffLineType = 'dashed',\n",
    "                         pointSize = 2.0,\n",
    "                         legendLabels=c('Not sig.','Log2FC','p-value','p-value & Log2FC'),\n",
    "                         labSize = 3,\n",
    "                         legendPosition = 'top',\n",
    "                         legendLabSize = 6,\n",
    "  )\n",
    "  return(plt)\n",
    "}"
   ]
  },
  {
   "cell_type": "code",
   "execution_count": null,
   "id": "ffd459be",
   "metadata": {
    "vscode": {
     "languageId": "r"
    }
   },
   "outputs": [],
   "source": [
    "make_heatmapplot <- function(res, condition1, condition2, n = 50, subtitle=''){\n",
    "  df <- as.data.frame(head(res, n=n))\n",
    "  df$Condition <- ifelse(df$log2FoldChange > 0, condition1, condition2)\n",
    "  plt <- ggplot(df, aes(x = Condition, \n",
    "                        y = rownames(df), \n",
    "                        fill = log2FoldChange),\n",
    "  ) +\n",
    "    geom_tile() +\n",
    "    ggtitle(paste(\"Top\", n, \"DEGs\", sep=' '), subtitle=subtitle) +\n",
    "    xlab(\"Condition\") +\n",
    "    ylab(\"Gene\") \n",
    "  return(plt)\n",
    "}"
   ]
  },
  {
   "cell_type": "code",
   "execution_count": null,
   "id": "3ea527a3",
   "metadata": {
    "vscode": {
     "languageId": "r"
    }
   },
   "outputs": [],
   "source": [
    "# Heatmaps of top genes in GO/KEGG pathways\n",
    "make_pheatmapplot <- function(anno, res, anno_type=\"GO\", assembly='mm10', heat_colour=\"PiYG\", num_terms=25, num_genes=50, lfc=0.6, dendro=TRUE, sort_genes=TRUE, title=\"\", xlabel=\"Gene\", ylabel=\"Term\"){\n",
    "  \n",
    "  # colour should be \"Reds\", \"Greens\", \"Blues\", or \"PiYG\"\n",
    "  if (\"ONTOLOGY\" %in% colnames(anno)){\n",
    "    anno$Description <- paste(anno$ONTOLOGY, anno$Description, sep=' - ')\n",
    "  }\n",
    "  \n",
    "  # Take top n terms (most significant, already sorted by padj)\n",
    "  df <- head(anno[order(anno$p.adjust, decreasing=FALSE), ], n=num_terms)\n",
    "  \n",
    "  # Re-format y-axis labels to not squish graph\n",
    "  for (d in 1:length(df$Description)){\n",
    "    i <- 1\n",
    "    s <- df$Description[d]\n",
    "    if (length(strsplit(s, ' ')[[1]]) > 1){\n",
    "      \n",
    "      df$Description[d] <- \"\"\n",
    "      while (i < length(strsplit(s, ' ')[[1]])){\n",
    "        df$Description[d] <- paste(df$Description[d], paste(strsplit(s, ' ')[[1]][i:(i+5)], collapse = ' '), sep='\\n')\n",
    "        i <- (i+6)\n",
    "      }\n",
    "      df$Description[d] <- gsub(\" NA\", \"\", df$Description[d])\n",
    "      df$Description[d] <- substring(df$Description[d], 2, nchar(df$Description[d]))\n",
    "    }\n",
    "  }\n",
    "  \n",
    "  # Create dataframe (matrix) of annotation terms vs genes with gene's associated log2FoldChange\n",
    "  d <- data.frame()\n",
    "  for (a in df$Description){\n",
    "    gene_group <- strsplit(df[df$Description == a, ]$SYMBOL, '/')[[1]]\n",
    "    # # For KEGG to convert EntrezID to gene Symbol\n",
    "    # if (anno_type == \"KEGG\" | anno_type == \"DAVID\"){\n",
    "    #   if (assembly == \"hg19\" | assembly == \"hg38\"){\n",
    "    #     gene_group <- mapIds(org.Hs.eg.db, keys = gene_group, column = \"SYMBOL\", keytype = \"ENTREZID\")\n",
    "    #   }else if (assembly == \"mm9\" | assembly == \"mm10\"){\n",
    "    #     gene_group <- mapIds(org.Mm.eg.db, keys = gene_group, column = \"SYMBOL\", keytype = \"ENTREZID\")\n",
    "    #   }else if (assembly == \"rn6\"){\n",
    "    #     gene_group <- mapIds(org.Rn.eg.db, keys = gene_group, column = \"SYMBOL\", keytype = \"ENTREZID\")\n",
    "    #   }\n",
    "    # }\n",
    "    d[gene_group, a] <- res[gene_group, ]$log2FoldChange\n",
    "  }\n",
    "  # Sort by genes instead of by term (i.e. number of times gene found in all top terms)\n",
    "  if (sort_genes){\n",
    "    d <- d[names(sort(rowSums(is.na(d)))), ]\n",
    "    xlabel <- paste(xlabel, \"(Most Frequent in Top Terms)\")\n",
    "  }\n",
    "  # Set NA to 0\n",
    "  d[is.na(d)] <- 0\n",
    "  \n",
    "  range_max <- round(max(apply(d, 2, max)))\n",
    "  range_min <- round(min(apply(d, 2, min)))\n",
    "  #breaks <- seq( -round(2^lfc), round(2^lfc), length.out = 101)\n",
    "  breaks <- seq( -abs((max(range_min, -round(lfc)))), min(range_max, round(lfc)), length.out = 101)\n",
    "  #breaks <- seq( -abs((max(range_min, -round(2^lfc)))), min(range_max, round(2^lfc)), length.out = 101)\n",
    "  if (range_max == 0){\n",
    "    color <- rev(colorRampPalette(brewer.pal(n = 11, name = heat_colour))(101))\n",
    "  }else{\n",
    "    color <- colorRampPalette(brewer.pal(n = 11, name = heat_colour))(101)\n",
    "  }\n",
    "  \n",
    "  # Plot\n",
    "  setHook(\"grid.newpage\", function() pushViewport(viewport(x=0,y=0.05,width=0.95, height=0.95, name=\"vp\", just=c(\"left\",\"bottom\"))), action=\"prepend\")\n",
    "  pheatmap(t(head(d, n=num_genes)), \n",
    "           border_color = \"grey90\",\n",
    "           color = color, # \"Reds, Greens, Blues, RdYlGn for DEGs\n",
    "           fontsize_row = 6,\n",
    "           fontsize_col = 6,\n",
    "           na_col = \"white\",\n",
    "           breaks = breaks,\n",
    "           cluster_rows = dendro,\n",
    "           cluster_cols = dendro,\n",
    "           main = title,\n",
    "  ) \n",
    "  setHook(\"grid.newpage\", NULL, \"replace\")\n",
    "  grid.text(\"log2FoldChange\", x=0.95, y=0.875, gp=gpar(fontsize=8))\n",
    "  grid.text(xlabel, y=0, gp=gpar(fontsize=14))\n",
    "  grid.text(ylabel, x=1, y=0.35,  rot=270, gp=gpar(fontsize=14))\n",
    "  plt <- grid.grab()\n",
    "  \n",
    "  return(plt)\n",
    "}"
   ]
  },
  {
   "cell_type": "code",
   "execution_count": null,
   "id": "b4673262",
   "metadata": {
    "vscode": {
     "languageId": "r"
    }
   },
   "outputs": [],
   "source": [
    "change_dirs <- function(res_dir, method, subfolder){\n",
    "  if ((method == 'DESeq2')){\n",
    "    method_dir <- paste(res_dir, 'DESeq2/', sep='')\n",
    "    if (!file.exists(paste(method_dir, subfolder, '/', sep=''))) {\n",
    "      dir.create(paste(method_dir, subfolder, '/', sep=''))\n",
    "    }\n",
    "  }else if ((method == 'edgeR')){\n",
    "    method_dir <- paste(res_dir, 'edgeR/', sep='')\n",
    "    if (!file.exists(paste(method_dir, subfolder, '/', sep=''))) {\n",
    "      dir.create(paste(method_dir, subfolder, '/', sep=''))\n",
    "    }\n",
    "  }else{\n",
    "    method_dir <- paste(res_dir, method, '/', sep='')\n",
    "    if (!file.exists(paste(method_dir, subfolder, '/', sep=''))) {\n",
    "      dir.create(paste(method_dir, subfolder, '/', sep=''))\n",
    "    }\n",
    "  }\n",
    "  return(paste(method_dir, subfolder, '/', sep=''))\n",
    "}"
   ]
  },
  {
   "cell_type": "markdown",
   "id": "85d9e80e",
   "metadata": {},
   "source": [
    "__________________________________________________________________________\n",
    "### <center> Generate Count Matrix <br>(Skip if already provided)</center>"
   ]
  },
  {
   "cell_type": "markdown",
   "id": "37fff17e",
   "metadata": {},
   "source": [
    "###  First, put all .bam (and .bai) files into a directory, e.g. \"bams/\", then run the following cells"
   ]
  },
  {
   "cell_type": "code",
   "execution_count": null,
   "id": "b3571555",
   "metadata": {
    "vscode": {
     "languageId": "r"
    }
   },
   "outputs": [],
   "source": [
    "# Read in bam filenames from directory path\n",
    "bam_files <- list.files(path=\"bams/\", full.names=TRUE)[c(TRUE, FALSE)]"
   ]
  },
  {
   "cell_type": "code",
   "execution_count": null,
   "id": "bb9a67b6",
   "metadata": {
    "vscode": {
     "languageId": "r"
    }
   },
   "outputs": [],
   "source": [
    "# Count gene alignments (select appropriate assembly, mm10, hg38, etc...and check featureCount parameters) \n",
    "bamcounts <- featureCounts(bam_files, \n",
    "                           annot.inbuilt = \"mm10\",          # can be mm9, mm10, hg38, hg19\n",
    "                           annot.ext = NULL,                # Path to external assembly annotation file if used (i.e. not using above inbuilt assembly)\n",
    "                           isGTFAnnotationFile = FALSE,     # Set TRUE if using external assembly file and is .gtf formatted\n",
    "                           countMultiMappingReads = FALSE,  # Set TRUE if want to include multi-mapped reads\n",
    "                           ignoreDup = FALSE,           # Set TRUE if want to ignore duplicates (typically include duplicates for RNAseq data)\n",
    "                           isPairedEnd = FALSE,         # Set TRUE if pair-end reads\n",
    "                           strandSpecific = 0,          # 0 for not strand specific, 1 for counting forward reads only, 2 for counting reverse reads only\n",
    "                           nthreads = 4,            # threads to speed up computation\n",
    "                           verbose = TRUE)"
   ]
  },
  {
   "cell_type": "code",
   "execution_count": null,
   "id": "2c4face4",
   "metadata": {
    "vscode": {
     "languageId": "r"
    }
   },
   "outputs": [],
   "source": [
    "# Map gene NCBI Entrez IDs to Gene Symbols\n",
    "library(org.Mm.eg.db)           # Load appropriate library for organism (mouse = org.Mm.eg.db, human = org.Hs.eg.db)\n",
    "assembly_db <- org.Mm.eg.db     # Set to appropriate organism (mouse = org.Mm.eg.db, human = org.Hs.eg.db)\n",
    "rownames(bamcounts$counts) <- mapIds(assembly_db, keys = rownames(bamcounts$counts), column = \"SYMBOL\", keytype = \"ENTREZID\")"
   ]
  },
  {
   "cell_type": "code",
   "execution_count": null,
   "id": "1763eb86",
   "metadata": {
    "vscode": {
     "languageId": "r"
    }
   },
   "outputs": [],
   "source": [
    "# Drop any unmapped genes\n",
    "bamcounts$counts <- bamcounts$counts[!(is.na(rownames(bamcounts$counts))), ]"
   ]
  },
  {
   "cell_type": "code",
   "execution_count": null,
   "id": "4515083e",
   "metadata": {
    "vscode": {
     "languageId": "r"
    }
   },
   "outputs": [],
   "source": [
    "# Write featureCounts output to file in current directory\n",
    "for (n in names(bamcounts)){\n",
    "  write.table(bamcounts[[n]], file=paste(getwd(), \"/\", n, \".csv\", sep=\"\"), sep=\",\", quote=F, col.names=NA)\n",
    "}"
   ]
  },
  {
   "cell_type": "markdown",
   "id": "368e0c18",
   "metadata": {},
   "source": [
    "#### Open counts.csv and modify header columns to names that will match your Sample column in your sampleinfo.csv file as mentioned above"
   ]
  },
  {
   "cell_type": "markdown",
   "id": "b7081102",
   "metadata": {},
   "source": [
    "### Check output files to ensure counts matrix was successfully created before proceeding."
   ]
  },
  {
   "cell_type": "markdown",
   "id": "f1a3dfee",
   "metadata": {},
   "source": [
    "---"
   ]
  },
  {
   "cell_type": "markdown",
   "id": "bf056baf",
   "metadata": {},
   "source": [
    "## <center> ======= Define Input Parameters ======= </center>"
   ]
  },
  {
   "cell_type": "code",
   "execution_count": null,
   "id": "6f31e366",
   "metadata": {
    "vscode": {
     "languageId": "r"
    }
   },
   "outputs": [],
   "source": [
    "# ======= Get command-line optional arguments =======\n",
    "option_list = list(\n",
    "  make_option(c(\"-c\", \"--countsfile\"), type=\"character\", help=\"Count matrix file\", metavar=\"character\"),\n",
    "  make_option(c(\"-s\", \"--sampleinfo\"), type=\"character\", help=\"File containing samples and their experimental conditions info (row names must match matrix file column names)\", metavar=\"character\"),\n",
    "  make_option(c(\"-a\", \"--assembly\"), type=\"character\", default=\"mm10\", help=\"Assembly to annotate genes/peaks (e.g. hg19, hg38, mm9, mm10, rn6)\", metavar=\"character\"),\n",
    "  make_option(c(\"-d\", \"--database\"), type=\"character\", default=\"ucsc\", help=\"Database reference for peaks gene annotations, ucsc (default) or ensembl\", metavar=\"character\"),\n",
    "  make_option(c(\"-r\", \"--result_dir\"), type=\"character\", default=\"DEG_Analysis/\", help=\"Directory name for saving output results\", metavar=\"character\"),\n",
    "  make_option(c(\"-m\", \"--method\"), type=\"character\", default=\"all\", help=\"Method to analyze data, ('deseq2', 'edger', 'limma', default: 'all')\", metavar=\"character\"), \n",
    "  make_option(c(\"-f\", \"--filter\"), action=\"store_true\", type=\"logical\", default=FALSE, help=\"Flag to filter read counts (removes genes < min_count from raw matrix, then removes genes < min_baseMean after normalizing\", metavar=\"logical\"),\n",
    "  make_option(c(\"--min_count\"), type=\"integer\", default=1, help=\"Minimum counts to include if filtering\", metavar=\"integer\"),\n",
    "  make_option(c(\"--min_basemean\"), type=\"double\", default=10, help=\"Minimum baseMean of normalized counts to include if filtering\", metavar=\"integer\"),\n",
    "  make_option(c(\"--lfc\"), type=\"double\", default=0.585, help=\"Magnitude of log2foldchange to define significant up/down regulation of genes\", metavar=\"double\"),\n",
    "  make_option(c(\"--pvalue\"), type=\"double\", default=0.05, help=\"Significance threshold for DEGs (pvalue instead of p.adjusted for case where small sample set results in p.adjust=NA)\", metavar=\"double\"),\n",
    "  make_option(c(\"--david_user\"), type=\"character\", default=\"earezza@ohri.ca\", help=\"User email for DAVID web tools (must be registered, https://david.ncifcrf.gov/content.jsp?file=DAVID_WebService.html)\", metavar=\"character\"),\n",
    "  make_option(c(\"--minGSSize\"), type=\"integer\", default=10, help=\"minimal size of genes annotated for testing\", metavar=\"integer\"),\n",
    "  make_option(c(\"--maxGSSize\"), type=\"integer\", default=500, help=\"maximal size of genes annotated for testing\", metavar=\"integer\")\n",
    ");\n",
    "opt_parser = OptionParser(option_list=option_list);\n",
    "opt = parse_args(opt_parser);\n",
    "\n",
    "cat(\"Command-line options:\\n\")\n",
    "for (i in which(names(opt) != \"help\")) {\n",
    "  cat(names(opt)[i], '=', paste(opt)[i], \"\\n\")\n",
    "}\n",
    "cat(\"log2FC of\", opt$lfc, \"equates to FC of\", 2^opt$lfc)"
   ]
  },
  {
   "cell_type": "markdown",
   "id": "67cdb752",
   "metadata": {},
   "source": [
    "#### Manually set parameters (if different from defaults)"
   ]
  },
  {
   "cell_type": "code",
   "execution_count": null,
   "id": "3d81a18a",
   "metadata": {
    "vscode": {
     "languageId": "r"
    }
   },
   "outputs": [],
   "source": [
    "opt$countsfile <- \"\"\n",
    "opt$sampleinfo <- \"\"\n",
    "opt$assembly <- \"mm10\"\n",
    "opt$filter <- TRUE"
   ]
  },
  {
   "cell_type": "markdown",
   "id": "5bd67c88",
   "metadata": {},
   "source": [
    "#### View current parameters"
   ]
  },
  {
   "cell_type": "code",
   "execution_count": null,
   "id": "85a221e6",
   "metadata": {
    "vscode": {
     "languageId": "r"
    }
   },
   "outputs": [],
   "source": [
    "# View variables\n",
    "for (i in which(names(opt) != \"help\")) {\n",
    "  cat(names(opt)[i], '=', paste(opt)[i], \"\\n\")\n",
    "}"
   ]
  },
  {
   "cell_type": "markdown",
   "id": "487fcdb5",
   "metadata": {},
   "source": [
    "# <center> ========= START DIFFERENTIAL EXPRESSION ANALYSIS ========= </center>\n",
    "In this analysis, three commonly used tools (DESeq2, edgeR, and Limma) are implemented to perform the same task with similar steps grouped sequentially after each other.  As with many bioinformatics analyses, different tools may produce different results; however, if multiple tools produce confluent results then you can be more confident in your findings.  \n",
    "With that in mind, feel free to run one, two, or all three of the tools on your data to achieve your investigation goals.  "
   ]
  },
  {
   "cell_type": "markdown",
   "id": "6b9a8166",
   "metadata": {},
   "source": [
    "#### Load Input Files and Annotation Info"
   ]
  },
  {
   "cell_type": "code",
   "execution_count": null,
   "id": "e2621c47",
   "metadata": {
    "vscode": {
     "languageId": "r"
    }
   },
   "outputs": [],
   "source": [
    "anno_ref <- load_annotation(opt$assembly, opt$database)\n",
    "count_mtx <- as.matrix(read.csv(opt$countsfile, sep=\",\", row.names=1, check.names=FALSE))\n",
    "sampleinfo <- read.csv(opt$sampleinfo, row.names=1)\n",
    "# change to R syntactically correct names\n",
    "sampleinfo$Condition <- gsub('-', '_', sampleinfo$Condition)\n",
    "# Use only counts for samples listed in sample info file\n",
    "count_mtx <- count_mtx[, rownames(sampleinfo)]\n",
    "if (!all(colnames(count_mtx) == rownames(sampleinfo))){\n",
    "  cat(\"Check that column names in counts file matches row names in sample info file.\\n\")\n",
    "  q()\n",
    "}"
   ]
  },
  {
   "cell_type": "markdown",
   "id": "471deb64",
   "metadata": {},
   "source": [
    "View some counts to verify input"
   ]
  },
  {
   "cell_type": "code",
   "execution_count": null,
   "id": "04404bcd",
   "metadata": {
    "vscode": {
     "languageId": "r"
    }
   },
   "outputs": [],
   "source": [
    "head(as.data.frame(count_mtx))"
   ]
  },
  {
   "cell_type": "markdown",
   "id": "6d067735",
   "metadata": {},
   "source": [
    "View sample info"
   ]
  },
  {
   "cell_type": "code",
   "execution_count": null,
   "id": "a5380ede",
   "metadata": {
    "vscode": {
     "languageId": "r"
    }
   },
   "outputs": [],
   "source": [
    "sampleinfo"
   ]
  },
  {
   "cell_type": "markdown",
   "id": "54f607d3",
   "metadata": {},
   "source": [
    "Create output directory if doesn't exist"
   ]
  },
  {
   "cell_type": "code",
   "execution_count": null,
   "id": "cc50ee69",
   "metadata": {
    "vscode": {
     "languageId": "r"
    }
   },
   "outputs": [],
   "source": [
    "# Create output file directory and set as working directory\n",
    "if (!file.exists(opt$result_dir)) {\n",
    "  dir.create(opt$result_dir)\n",
    "}\n",
    "cat(\"Output files will be in\", opt$result_dir, \"\\n\")"
   ]
  },
  {
   "cell_type": "markdown",
   "id": "573b83c6",
   "metadata": {},
   "source": [
    "## <center> =========== Run Analysis ============ </center>"
   ]
  },
  {
   "cell_type": "markdown",
   "id": "aa0bf981",
   "metadata": {},
   "source": [
    "### PCA plot of all samples (DESeq2)"
   ]
  },
  {
   "cell_type": "code",
   "execution_count": null,
   "id": "4131a4a6",
   "metadata": {
    "vscode": {
     "languageId": "r"
    }
   },
   "outputs": [],
   "source": [
    "# DESeq2\n",
    "if (opt$method == 'deseq2' | opt$method == 'all') {\n",
    "  output_prefix <- change_dirs(opt$result_dir, 'DESeq2', '')\n",
    "  dds <- DESeqDataSetFromMatrix(countData = count_mtx,\n",
    "                                colData = sampleinfo,\n",
    "                                design = ~ Condition)\n",
    "  cat(\"\\nGenes and samples raw:\", dim(dds), \"\\n\")\n",
    "  cat(\"DESEq2 genes count sums over all samples:\\n\")\n",
    "  show(summary(rowSums(counts(dds))))\n",
    "  show(quantile(rowSums(counts(dds)), probs = c(0.1, 0.25, 0.5, 0.75, 0.9, 0.95)))\n",
    "  if (opt$filter) {\n",
    "    cat(\"Filtering counts...\\n\")\n",
    "    # Remove 0 counts (sum of all samples' counts) to avoid 0-bias and disregard irrelevant genes\n",
    "    keep_dds <- rowSums(counts(dds)) >= opt$min_count\n",
    "    dds <- dds[keep_dds, ]\n",
    "    cat(\"\\nGenes and samples after removing genes with <\", opt$min_count, \"total counts:\", dim(dds), \"\\n\")\n",
    "    show(summary(rowSums(counts(dds))))\n",
    "    show(quantile(rowSums(counts(dds)), probs = c(0.1, 0.25, 0.5, 0.75, 0.9, 0.95)))\n",
    "    \n",
    "    # Remove bottom 10 percentile counts from remaining\n",
    "    low_counts <- quantile(rowSums(counts(dds)), probs = c(0.10))\n",
    "    keep_dds <- rowSums(counts(dds)) > low_counts\n",
    "    dds <- dds[keep_dds, ]\n",
    "    cat(\"\\nGenes and samples after removing bottom 10% genes with <\", low_counts, \"total counts:\", dim(dds), \"\\n\")\n",
    "    show(summary(rowSums(counts(dds))))\n",
    "    show(quantile(rowSums(counts(dds)), probs = c(0.1, 0.25, 0.5, 0.75, 0.9, 0.95)))\n",
    "  }\n",
    "  dds <- DESeq(dds)\n",
    "  \n",
    "  vsd <- vst(dds, blind=FALSE)\n",
    "  plt <- plotPCA(vsd, intgroup=c(\"Condition\")) + \n",
    "    geom_text(aes(label = rownames(vsd@colData)), nudge_y = 0.2, size = 3)\n",
    "  invisible(capture.output(ggsave(paste(output_prefix, \"PCAplot.png\", sep=''), plot=plt)))\n",
    "}"
   ]
  },
  {
   "cell_type": "markdown",
   "id": "b820e99f",
   "metadata": {},
   "source": [
    "### PCA plot of all samples (edgeR)"
   ]
  },
  {
   "cell_type": "code",
   "execution_count": null,
   "id": "e68ecf1d",
   "metadata": {
    "vscode": {
     "languageId": "r"
    }
   },
   "outputs": [],
   "source": [
    "# edgeR\n",
    "if (opt$method == 'edger' | opt$method == 'all') {\n",
    "  output_prefix <- change_dirs(opt$result_dir, 'edgeR', '')\n",
    "  edge <- DGEList(counts=count_mtx, \n",
    "                  group=sampleinfo$Condition, \n",
    "                  remove.zeros=FALSE)\n",
    "  cat(\"\\nGenes and samples raw:\", dim(edge), \"\\n\")\n",
    "  cat(\"EdgeR genes count sums over all samples:\\n\")\n",
    "  show(summary(rowSums(edge$counts)))\n",
    "  show(quantile(rowSums(edge$counts), probs = c(0.1, 0.25, 0.5, 0.75, 0.9, 0.95)))\n",
    "  if (opt$filter) {\n",
    "    cat(\"Filtering counts...\\n\")\n",
    "    # Remove 0 counts (sum of all samples' counts) to avoid 0-bias and disregard irrelevant genes\n",
    "    keep_edge <- rowSums(edge$counts) >= opt$min_count\n",
    "    edge <- edge[keep_edge, ]\n",
    "    cat(\"\\nGenes and samples after removing genes with <\", opt$min_count, \"total counts:\", dim(edge), \"\\n\")\n",
    "    show(summary(rowSums(edge$counts)))\n",
    "    show(quantile(rowSums(edge$counts), probs = c(0.1, 0.25, 0.5, 0.75, 0.9, 0.95)))\n",
    "    \n",
    "    # Remove bottom 10 percentile counts from remaining\n",
    "    low_counts <- quantile(rowSums(edge$counts), probs = c(0.10))\n",
    "    keep_edge <- rowSums(edge$counts) > low_counts\n",
    "    edge <- edge[keep_edge, ]\n",
    "    cat(\"\\nGenes and samples after removing bottom 10% genes with <\", low_counts, \"total counts:\", dim(edge), \"\\n\")\n",
    "    show(summary(rowSums(edge$counts)))\n",
    "    show((quantile(rowSums(edge$counts), probs = c(0.1, 0.25, 0.5, 0.75, 0.9, 0.95))))\n",
    "  }\n",
    "  edge <- calcNormFactors(edge, method=\"TMM\")\n",
    "  normalized_count_mtx_edge <- cpm(edge, normalized.lib.sizes=TRUE) \n",
    "  edge <- DGEList(counts = normalized_count_mtx_edge, group=sampleinfo$Condition, remove.zeros=FALSE, norm.factors = edge$samples$norm.factors)\n",
    "  \n",
    "  # Plot PCA\n",
    "  png(paste(output_prefix, 'MDSplot.png', sep=''))\n",
    "  plotMDS(edge, col=as.numeric(edge$samples$group), plot=TRUE)\n",
    "  invisible(capture.output(dev.off()))\n",
    "}"
   ]
  },
  {
   "cell_type": "markdown",
   "id": "6002c926",
   "metadata": {},
   "source": [
    "### PCA plot of all samples (Limma)"
   ]
  },
  {
   "cell_type": "code",
   "execution_count": null,
   "id": "0d1b5ba1",
   "metadata": {
    "vscode": {
     "languageId": "r"
    }
   },
   "outputs": [],
   "source": [
    "# Limma\n",
    "if (opt$method == 'limma' | opt$method == 'all') {\n",
    "  output_prefix <- change_dirs(opt$result_dir, 'Limma', '')\n",
    "  lim <- DGEList(count_mtx)\n",
    "  lim$samples$group <- sampleinfo$Group[which(rownames(sampleinfo) == rownames(lim$samples))]\n",
    "  lim <- calcNormFactors(lim)\n",
    "  cat(\"\\nGenes and samples raw:\", dim(lim), \"\\n\")\n",
    "  cat(\"Limma genes count sums over all samples:\\n\")\n",
    "  show(summary(rowSums(lim$counts)))\n",
    "  show(quantile(rowSums(lim$counts), probs = c(0.1, 0.25, 0.5, 0.75, 0.9, 0.95)))\n",
    "  \n",
    "  if (opt$filter) {\n",
    "    cat(\"Filtering counts...\\n\")\n",
    "    # Remove 0 counts (sum of all samples' counts) to avoid 0-bias and disregard irrelevant genes\n",
    "    keep_lim <- rowSums(lim$counts) >= opt$min_count\n",
    "    lim <- lim[keep_lim,]\n",
    "    cat(\"\\nGenes and samples after removing genes with <\", opt$min_count, \"total counts:\", dim(lim), \"\\n\")\n",
    "    show(summary(rowSums(lim$counts)))\n",
    "    show(quantile(rowSums(lim$counts), probs = c(0.1, 0.25, 0.5, 0.75, 0.9, 0.95)))\n",
    "    \n",
    "    # Remove bottom 10 percentile counts from remaining\n",
    "    low_counts <- quantile(rowSums(lim$counts), probs = c(0.10))\n",
    "    keep_lim <- rowSums(lim$counts) > low_counts\n",
    "    lim <- lim[keep_lim, ]\n",
    "    cat(\"\\nGenes and samples after removing bottom 10% genes with <\", low_counts, \"total counts:\", dim(lim), \"\\n\")\n",
    "    show(summary(rowSums(lim$counts)))\n",
    "    show(quantile(rowSums(lim$counts), probs = c(0.1, 0.25, 0.5, 0.75, 0.9, 0.95)))\n",
    "  }\n",
    "  # Plot PCA\n",
    "  png(paste(output_prefix, 'MDSplot.png', sep=''))\n",
    "  plotMDS(lim, col=as.numeric(lim$samples$group), plot=TRUE)\n",
    "  invisible(capture.output(dev.off()))\n",
    "}"
   ]
  },
  {
   "cell_type": "markdown",
   "id": "f63dd98b",
   "metadata": {},
   "source": [
    "### Obtain pair-wise combinations of sample conditions to compare"
   ]
  },
  {
   "cell_type": "code",
   "execution_count": null,
   "id": "5bdda8ed",
   "metadata": {
    "vscode": {
     "languageId": "r"
    }
   },
   "outputs": [],
   "source": [
    "combs <- as.data.frame(combn(unique(sampleinfo$Condition), 2))\n",
    "combs"
   ]
  },
  {
   "cell_type": "code",
   "execution_count": null,
   "id": "0c147385",
   "metadata": {
    "vscode": {
     "languageId": "r"
    }
   },
   "outputs": [],
   "source": [
    "# Iterate through condition combinations to compare DEG\n",
    "for (c in colnames(combs)){\n",
    "  \n",
    "  comparison <- paste(combs[[c]][1], combs[[c]][2], sep=\"_vs_\")\n",
    "  cat(\"\\n==========\", comparison, \"==========\\n\")\n",
    "  # Isolate matrix for relevant samples\n",
    "  samples1 <- rownames(sampleinfo[sampleinfo$Condition == combs[[c]][1], ])\n",
    "  samples2 <- rownames(sampleinfo[sampleinfo$Condition == combs[[c]][2], ])\n",
    "  mtx <- count_mtx[, c(samples1, samples2)]\n",
    "  mtx_info <- sampleinfo[c(samples1, samples2), ]\n",
    "  mtx_info$Condition <- factor(mtx_info$Condition)\n",
    "  \n",
    "  # Check that matrix columns are same order as sample info\n",
    "  if (!all(rownames(mtx_info) == colnames(mtx))) {\n",
    "    break\n",
    "  }\n",
    "  \n",
    "  # Create DESeqDataSet object from input\n",
    "  dds <- DESeqDataSetFromMatrix(countData = mtx,\n",
    "                                colData = mtx_info,\n",
    "                                design = ~ Condition)\n",
    "  \n",
    "  # Create directory for output files of current comparison\n",
    "  if (!file.exists(comparison)) {\n",
    "    dir.create(comparison)\n",
    "  }\n",
    "  \n",
    "  # Set output filenames prefix\n",
    "  output_prefix <- paste(getwd(), \"/\", comparison, \"/\", sep=\"\")\n",
    "  \n",
    "  cat(\"Genes and samples:\\n\", dim(dds), \"\\n\")\n",
    "  \n",
    "  # =========== Filter Count Matrix ============\n",
    "  if (opt$filter) {\n",
    "    \n",
    "    # Get percentile ranges of counts\n",
    "    cat(\"Percentiles of genes count sums over all samples:\\n\")\n",
    "    cat(quantile(rowSums(counts(dds)), probs = c(0, 0.1, 0.25, 0.5, 0.75, 0.9, 1)), \"\\n\")\n",
    "    \n",
    "    # Remove 0 counts to avoid 0-bias and disregard irrelevant genes\n",
    "    keep <- rowSums(counts(dds)) >= opt$min_count\n",
    "    dds <- dds[keep,]\n",
    "    cat(\"Percentiles after removing genes with sum(counts) <\", opt$min_count, \"\\n\")\n",
    "    quantile(rowSums(counts(dds)), probs = c(0, 0.1, 0.25, 0.5, 0.75, 0.9, 1))\n",
    "    # Get relevant percentiles\n",
    "    quant <- quantile(rowSums(counts(dds)), probs = c(0, 0.1, 0.25, 0.5, 0.75, 0.9, 1))\n",
    "    # Remove genes with <= 0.1 percentile counts\n",
    "    cat(\"Removing genes with sum(counts) <=\", quant[[2]])\n",
    "    keep <- rowSums(counts(dds)) > quant[[2]]\n",
    "    dds <- dds[keep,]\n",
    "    # Keep genes only where there are at least 3 samples having at least that count\n",
    "    cat(\"Removing genes with sum(counts) <=\", quant[[2]], \"in at least\", round(length(colnames(dds))/4), \"samples\\n\")\n",
    "    keep <- rowSums(counts(dds) > quant[[2]]) >= round(length(colnames(dds))/4)\n",
    "    dds <- dds[keep,]\n",
    "    \n",
    "    cat(\"Genes and samples after filtering raw counts:\\n\", dim(dds), \"\\n\")\n",
    "  }\n",
    "  \n",
    "  # ========== Normalize and Compute DEG Stats =============\n",
    "  # Create DESeq object\n",
    "  dds <- DESeq(dds)\n",
    "  \n",
    "  # Write filtered count matrix to file\n",
    "  write.table(counts(dds), file=paste(output_prefix, \"count_mtx_filtered.csv\", sep=\"\"), sep=\",\", quote=F, col.names=NA)\n",
    "  \n",
    "  # Write normalized values to file\n",
    "  normalized_count_mtx <- counts(dds, normalized=TRUE)\n",
    "  write.table(normalized_count_mtx, file=paste(output_prefix, \"count_mtx_normalized.csv\", sep=\"\"), sep=\",\", quote=F, col.names=NA)\n",
    "  \n",
    "  # Obtain DEG results and output to file\n",
    "  res <- results(dds, contrast=c(\"Condition\", combs[[c]][1], combs[[c]][2]))\n",
    "  res[['FoldChange']] <- 2^abs(res[['log2FoldChange']])*(res[['log2FoldChange']]/abs(res[['log2FoldChange']]))\n",
    "  write.table(res[order(res$log2FoldChange, decreasing=TRUE), ], file=paste(output_prefix, \"DESeq2_FullResult_\", comparison, \".csv\", sep=\"\"), sep=\",\", quote=F, col.names=NA)\n",
    "  \n",
    "  #resLFC <- lfcShrink(dds, coef=resultsNames(dds)[-1], type=\"apeglm\")\n",
    "  \n",
    "  # Filter out normalized low-expressed genes (bottom 10th percentile) by baseMean\n",
    "  cat(\"Genes and samples before filtering normalized genes:\\n\", dim(res), \"\\n\")\n",
    "  quant <- quantile(res$baseMean, probs = c(0, 0.1, 0.25, 0.5, 0.75, 0.9, 1))\n",
    "  cat(\"Removing genes with baseMean expression in bottom 10th percentile <=\", quant[[2]], \"\\n\")\n",
    "  res <- res[res$baseMean >= quant[[2]], ]\n",
    "  cat(\"Genes and samples after filtering normalized genes:\\n\", dim(res), \"\\n\")\n",
    "  \n",
    "  # Generate plots\n",
    "  png(paste(output_prefix, 'MAplot.png', sep=''))\n",
    "  plotMA(res)\n",
    "  abline(h=c((0-opt$lfc), opt$lfc), col=\"red\", lwd=2)\n",
    "  invisible(capture.output(dev.off()))\n",
    "  \n",
    "  #png(paste(output_prefix, 'resLFC_MAplot.png', sep=''))\n",
    "  #plotMA(resLFC, ylim=c(-2,2))\n",
    "  #invisible(capture.output(dev.off()))\n",
    "  \n",
    "  #png(paste(output_prefix, 'res_genecount_minpadj.png', sep=''))\n",
    "  #plotCounts(dds, gene=which.min(res$padj), intgroup=\"Condition\")\n",
    "  #invisible(capture.output(dev.off()))\n",
    "  \n",
    "  vsd <- vst(dds, blind=FALSE)\n",
    "  png(paste(output_prefix, 'PCAplot.png', sep=''))\n",
    "  plotPCA(vsd, intgroup=c(\"Condition\"))\n",
    "  invisible(capture.output(dev.off()))\n",
    "  \n",
    "  # ========== Organize DEGs ==============\n",
    "  # Remove any NAs\n",
    "  #res <- res[rowSums(is.na(res)) == 0, ]\n",
    "  \n",
    "  # Get significantly Upregulated (log2FoldChange > 0)\n",
    "  res_up <- res[res$log2FoldChange >= opt$lfc ,]\n",
    "  res_up_sorted <- res_up[order(res_up$log2FoldChange, decreasing=TRUE),]\n",
    "  write.table(res_up_sorted, file=paste(output_prefix, \"DESeq2_Result_\", combs[[c]][1], \".csv\", sep=\"\"), sep=\",\", quote=F, col.names=NA)\n",
    "  \n",
    "  # Get significantly Downregulated (log2FoldChange < 0)\n",
    "  res_down <- res[res$log2FoldChange <= (0 - opt$lfc) ,]\n",
    "  res_down_sorted <- res_down[order(res_down$log2FoldChange, decreasing=TRUE),]\n",
    "  write.table(res_down[order(res_down$log2FoldChange, decreasing=FALSE),], file=paste(output_prefix, \"DESeq2_Result_\", combs[[c]][2], \".csv\", sep=\"\"), sep=\",\", quote=F, col.names=NA)\n",
    "  \n",
    "  # Get all significantly changed genes\n",
    "  res_changed <- res[(res$log2FoldChange >= opt$lfc | res$log2FoldChange <= (0 - opt$lfc)),]\n",
    "  res_changed_sorted <- res_changed[order(abs(res_changed$log2FoldChange), decreasing=TRUE),]\n",
    "  write.table(res_changed_sorted, file=paste(output_prefix, \"DESeq2_Result_DEGs\", \".csv\", sep=\"\"), sep=\",\", quote=F, col.names=NA)\n",
    "  \n",
    "  genes <- list()\n",
    "  genes[[combs[[c]][1]]] <- rownames(res_up_sorted)\n",
    "  genes[[combs[[c]][2]]] <- rownames(res_down_sorted)\n",
    "  genes[[\"DEGs\"]] <- rownames(res_changed_sorted)\n",
    "  \n",
    "  genes_entrez <- list()\n",
    "  for (n in names(genes)){\n",
    "    if (tolower(opt$organism) == \"human\"){\n",
    "      genes_entrez[[n]] <- mapIds(org.Hs.eg.db, keys = genes[[n]], column = \"ENTREZID\", keytype = \"SYMBOL\")\n",
    "    }else if (tolower(opt$organism) == \"mouse\"){\n",
    "      genes_entrez[[n]] <- mapIds(org.Mm.eg.db, keys = genes[[n]], column = \"ENTREZID\", keytype = \"SYMBOL\")\n",
    "    }\n",
    "  }\n",
    "  \n",
    "  # ============= GO and KEGG Annotations ==============\n",
    "  for (n in names(genes)){\n",
    "    \n",
    "    # GO Annotation\n",
    "    tryCatch(\n",
    "      {\n",
    "        compGO <- compareCluster(geneCluster=genes[n],\n",
    "                                 OrgDb=annoDb,\n",
    "                                 fun=\"enrichGO\",\n",
    "                                 keyType=\"SYMBOL\", #ENSEMBL\n",
    "                                 pvalueCutoff=0.05,\n",
    "                                 pAdjustMethod=\"BH\",\n",
    "                                 readable=TRUE\n",
    "        ) # Check https://www.genome.jp/kegg/catalog/org_list.html for organism hsa=human mmu=mouse\n",
    "        if (!is.null(compGO)){\n",
    "          plt <- dotplot(compGO, showCategory = 8, title = paste(\"GO -\", n, sep=\"\"))\n",
    "          invisible(capture.output(ggsave(filename=paste(output_prefix, 'GO_annotation_', n, '.png', sep=''), plot=plt, dpi=320)))\n",
    "          # Write annotations to csv\n",
    "          write.table(as.data.frame(compGO), file=paste(output_prefix, 'GO_annotation_', n, '.tsv', sep=''), sep=\"\\t\", quote=F, row.names=F, col.names=T)\n",
    "        }\n",
    "      },error = function(e)\n",
    "      {\n",
    "        message(e)\n",
    "      }\n",
    "    )\n",
    "    \n",
    "    # KEGG Annotation\n",
    "    tryCatch(\n",
    "      {\n",
    "        # fun is \"groupGO\", \"enrichGO\", \"enrichKEGG\", \"enrichDO\" or \"enrichPathway\" \n",
    "        compKEGG <- compareCluster(geneCluster=genes_entrez[n],\n",
    "                                   fun=\"enrichKEGG\",\n",
    "                                   pvalueCutoff=0.05,\n",
    "                                   pAdjustMethod=\"BH\",\n",
    "                                   organism=keggOrg\n",
    "        ) # Check https://www.genome.jp/kegg/catalog/org_list.html for organism hsa=human mmu=mouse\n",
    "        if (!is.null(compKEGG)){\n",
    "          plt <- dotplot(compKEGG, showCategory = 8, title = paste(\"KEGG -\", n, sep=\"\"))\n",
    "          invisible(capture.output(ggsave(filename=paste(output_prefix, 'KEGG_annotation_', n, '.png', sep=''), plot=plt, dpi=320)))\n",
    "          \n",
    "          # Write annotations to csv\n",
    "          write.table(as.data.frame(compKEGG), file=paste(output_prefix, 'KEGG_annotation_', n, '.tsv', sep=''), sep=\"\\t\", quote=F, row.names=F, col.names=T)\n",
    "        }\n",
    "      },error = function(e)\n",
    "      {\n",
    "        message(e)\n",
    "      }\n",
    "    ) \n",
    "    \n",
    "    # GSEA\n",
    "    tryCatch(\n",
    "      {\n",
    "        original_gene_list <- res[genes[[n]],]$log2FoldChange\n",
    "        names(original_gene_list) <- rownames(res[genes[[n]],])\n",
    "        gene_list <- na.omit(original_gene_list)\n",
    "        \n",
    "        gsea <- gseGO(geneList=gene_list, \n",
    "                      ont =\"ALL\", \n",
    "                      keyType = \"SYMBOL\", \n",
    "                      nPerm = 10000, \n",
    "                      minGSSize = 3, \n",
    "                      maxGSSize = 800, \n",
    "                      pvalueCutoff = 0.05, \n",
    "                      verbose = TRUE, \n",
    "                      OrgDb = annoDb, \n",
    "                      pAdjustMethod = \"BH\"\n",
    "        )\n",
    "        if (!is.null(gsea)){\n",
    "          plt <- dotplot(gsea, showCategory = 8, title = paste(\"GSEA -\", n, sep=\"\"))\n",
    "          invisible(capture.output(ggsave(filename=paste(output_prefix, 'GSEA_annotation_', n, '.png', sep=''), plot=plt, dpi=320)))\n",
    "          \n",
    "          # Write annotations to csv\n",
    "          write.table(as.data.frame(compKEGG), file=paste(output_prefix, 'GSEA_annotation_', n, '.tsv', sep=''), sep=\"\\t\", quote=F, row.names=F, col.names=T)\n",
    "        }\n",
    "      },error = function(e)\n",
    "      {\n",
    "        message(e)\n",
    "      }\n",
    "    ) \n",
    "  }\n",
    "  \n",
    "}"
   ]
  },
  {
   "cell_type": "markdown",
   "id": "d4d367e0",
   "metadata": {},
   "source": [
    "## <center> =========== END ============ </center>"
   ]
  }
 ],
 "metadata": {
  "kernelspec": {
   "display_name": "R",
   "language": "R",
   "name": "ir"
  },
  "language_info": {
   "codemirror_mode": "r",
   "file_extension": ".r",
   "mimetype": "text/x-r-source",
   "name": "R",
   "pygments_lexer": "r",
   "version": "4.2.2"
  }
 },
 "nbformat": 4,
 "nbformat_minor": 5
}
