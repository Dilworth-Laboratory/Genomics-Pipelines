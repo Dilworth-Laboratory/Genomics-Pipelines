{
 "cells": [
  {
   "cell_type": "markdown",
   "id": "f10c1ed7",
   "metadata": {},
   "source": [
    "# <center> Peaks Differential Gene Expression Notebook </center>"
   ]
  },
  {
   "cell_type": "markdown",
   "id": "2aa91750",
   "metadata": {},
   "source": [
    "## <center>Preface</center>  \n",
    "<p><center>This Notebook provides an interactive way to process, analyze, and view differential gene expressions from next-generation sequencing data, in particular from ChIP-Seq, CUTandTag, ATAC-Seq, etc....For RNA-Seq data, please refer to the RNA-Seq DEG Notebook<br>The following steps serve as a guide, however, care should be taken when executing and interpreting results.</center><br>This notebook uses the following R packages: \n",
    "    <li> \n",
    "        - <a href=\"https://bioconductor.org/packages/release/bioc/html/DiffBind.html\"><strong>DiffBind</strong></a> to compare peaksets (.bed files), determine overlaps, establish consensus peaksets, and count reads.<br> \n",
    "        - <a href=\"https://bioconductor.org/packages/release/bioc/html/DESeq2.html\"><strong>DESeq2</strong></a> to process the count matrix and produce differential gene expression statistics. <br> \n",
    "        - <a href=\"https://bioconductor.org/packages/release/bioc/html/edgeR.html\"><strong>edgeR</strong></a> to process the count matrix and produce differential gene expression statistics. <br> \n",
    "        - <a href=\"https://bioconductor.org/packages/release/bioc/html/clusterProfiler.html\">\n",
    "  <strong>clusterProfiler</strong></a> to annotate genes (GO, GSEA, KEGG) using database packages for mappings.<br> \n",
    "        <p>Additional packages can be found in Renv_packages.txt</p>\n",
    "    </li>\n",
    "    <center><br><em>Note that despite following the framework below, it is up to <strong>you</strong> to determine which steps or values to change or ignore based on your knowledge of experimental details in obtaining data and your analysis goals.</em></center></p>"
   ]
  },
  {
   "cell_type": "markdown",
   "id": "a0563cf6",
   "metadata": {},
   "source": [
    "### sessionInfo()"
   ]
  },
  {
   "cell_type": "markdown",
   "id": "5ef8bc78",
   "metadata": {},
   "source": [
    "R version 4.2.2 Patched (2022-11-10 r83330)\n",
    "Platform: x86_64-pc-linux-gnu (64-bit)\n",
    "Running under: Ubuntu 22.04.1 LTS\n",
    "\n",
    "Matrix products: default\n",
    "BLAS:   /usr/lib/x86_64-linux-gnu/blas/libblas.so.3.10.0\n",
    "LAPACK: /usr/lib/x86_64-linux-gnu/lapack/liblapack.so.3.10.0\n",
    "\n",
    "locale:\n",
    " [1] LC_CTYPE=en_US.UTF-8       LC_NUMERIC=C               LC_TIME=en_US.UTF-8        LC_COLLATE=en_US.UTF-8    \n",
    " [5] LC_MONETARY=en_US.UTF-8    LC_MESSAGES=en_US.UTF-8    LC_PAPER=en_US.UTF-8       LC_NAME=C                 \n",
    " [9] LC_ADDRESS=C               LC_TELEPHONE=C             LC_MEASUREMENT=en_US.UTF-8 LC_IDENTIFICATION=C       \n",
    "\n",
    "attached base packages:\n",
    "[1] stats4    grid      stats     graphics  grDevices utils     datasets  methods   base     \n",
    "\n",
    "other attached packages:\n",
    " [1] optparse_1.7.3                            org.Mm.eg.db_3.16.0                      \n",
    " [3] org.Hs.eg.db_3.16.0                       TxDb.Hsapiens.UCSC.hg38.knownGene_3.16.0 \n",
    " [5] TxDb.Hsapiens.UCSC.hg19.knownGene_3.2.2   TxDb.Mmusculus.UCSC.mm10.knownGene_3.10.0\n",
    " [7] GenomicFeatures_1.50.3                    AnnotationDbi_1.60.0                     \n",
    " [9] ggplot2_3.4.0                             clusterProfiler_4.6.0                    \n",
    "[11] DESeq2_1.38.3                             SummarizedExperiment_1.28.0              \n",
    "[13] Biobase_2.58.0                            MatrixGenerics_1.10.0                    \n",
    "[15] matrixStats_0.63.0                        GenomicRanges_1.50.2                     \n",
    "[17] GenomeInfoDb_1.34.6                       IRanges_2.32.0                           \n",
    "[19] S4Vectors_0.36.1                          Rsubread_2.12.2                          \n",
    "[21] Rgraphviz_2.42.0                          graph_1.76.0                             \n",
    "[23] BiocGenerics_0.44.0                      \n",
    "\n",
    "loaded via a namespace (and not attached):\n",
    "  [1] shadowtext_0.1.2         fastmatch_1.1-3          BiocFileCache_2.6.0      plyr_1.8.8              \n",
    "  [5] igraph_1.3.5             lazyeval_0.2.2           splines_4.2.2            BiocParallel_1.32.5     \n",
    "  [9] digest_0.6.31            yulab.utils_0.0.6        GOSemSim_2.24.0          viridis_0.6.2           \n",
    " [13] GO.db_3.16.0             fansi_1.0.4              magrittr_2.0.3           memoise_2.0.1           \n",
    " [17] Biostrings_2.66.0        annotate_1.76.0          graphlayouts_0.8.4       enrichplot_1.18.3       \n",
    " [21] prettyunits_1.1.1        colorspace_2.1-0         blob_1.2.3               rappdirs_0.3.3          \n",
    " [25] ggrepel_0.9.2            dplyr_1.0.10             crayon_1.5.2             RCurl_1.98-1.9          \n",
    " [29] jsonlite_1.8.4           scatterpie_0.1.8         ape_5.6-2                glue_1.6.2              \n",
    " [33] polyclip_1.10-4          gtable_0.3.1             zlibbioc_1.44.0          XVector_0.38.0          \n",
    " [37] DelayedArray_0.24.0      scales_1.2.1             DOSE_3.24.2              DBI_1.1.3               \n",
    " [41] Rcpp_1.0.10              viridisLite_0.4.1        xtable_1.8-4             progress_1.2.2          \n",
    " [45] gridGraphics_0.5-1       tidytree_0.4.2           bit_4.0.5                getopt_1.20.3           \n",
    " [49] httr_1.4.4               fgsea_1.24.0             RColorBrewer_1.1-3       ellipsis_0.3.2          \n",
    " [53] pkgconfig_2.0.3          XML_3.99-0.13            farver_2.1.1             dbplyr_2.3.0            \n",
    " [57] locfit_1.5-9.7           utf8_1.2.2               ggplotify_0.1.0          tidyselect_1.2.0        \n",
    " [61] rlang_1.0.6              reshape2_1.4.4           munsell_0.5.0            tools_4.2.2             \n",
    " [65] cachem_1.0.6             downloader_0.4           cli_3.6.0                generics_0.1.3          \n",
    " [69] RSQLite_2.2.20           gson_0.0.9               stringr_1.5.0            fastmap_1.1.0           \n",
    " [73] yaml_2.3.7               ggtree_3.6.2             bit64_4.0.5              tidygraph_1.2.2         \n",
    " [77] purrr_1.0.1              KEGGREST_1.38.0          ggraph_2.1.0             nlme_3.1-161            \n",
    " [81] aplot_0.1.9              xml2_1.3.3               biomaRt_2.54.0           compiler_4.2.2          \n",
    " [85] rstudioapi_0.14          filelock_1.0.2           curl_5.0.0               png_0.1-8               \n",
    " [89] treeio_1.22.0            tibble_3.1.8             tweenr_2.0.2             geneplotter_1.76.0      \n",
    " [93] stringi_1.7.12           lattice_0.20-45          Matrix_1.5-1             vctrs_0.5.2             \n",
    " [97] pillar_1.8.1             lifecycle_1.0.3          data.table_1.14.6        cowplot_1.1.1           \n",
    "[101] bitops_1.0-7             patchwork_1.1.2          rtracklayer_1.58.0       qvalue_2.30.0           \n",
    "[105] R6_2.5.1                 BiocIO_1.8.0             gridExtra_2.3            codetools_0.2-18        \n",
    "[109] MASS_7.3-58              assertthat_0.2.1         rjson_0.2.21             withr_2.5.0             \n",
    "[113] GenomicAlignments_1.34.0 Rsamtools_2.14.0         GenomeInfoDbData_1.2.9   parallel_4.2.2          \n",
    "[117] hms_1.1.2                ggfun_0.0.9              tidyr_1.3.0              HDO.db_0.99.1           \n",
    "[121] ggforce_0.4.1            restfulr_0.0.15 "
   ]
  },
  {
   "cell_type": "markdown",
   "id": "2f24f257",
   "metadata": {},
   "source": [
    "### Required:\n",
    "<br><strong>1) A <u>DIFFBIND SAMPLESHEET</u> manually created as a comma-separated (.csv) to indicate sample info, example formatted as follows:</strong><br>\n",
    "<table style=’float:left;’>\n",
    "    <tr>\n",
    "        <th>SampleID</th>\n",
    "        <th>Condition</th>\n",
    "        <th>Replicate</th>\n",
    "        <th>Peaks</th>\n",
    "        <th>PeakCaller</th>\n",
    "        <th>PeakFormat</th>\n",
    "        <th>bamReads</th>\n",
    "        <th>Factor</th>\n",
    "    </tr>\n",
    "    <tr>\n",
    "        <td>sample1-1</td>\n",
    "        <td>control</td>\n",
    "        <td>1</td>\n",
    "        <td>sample1-1_peaks.narrowPeak</td>\n",
    "        <td>bed</td>\n",
    "        <td>bed</td>\n",
    "        <td>sample1-1.bam</td>\n",
    "        <td>MACS</td>\n",
    "    </tr>\n",
    "    <tr>\n",
    "        <td>sample1-2</td>\n",
    "        <td>control</td>\n",
    "        <td>2</td>\n",
    "        <td>sample1-2_peaks.bed</td>\n",
    "        <td>bed</td>\n",
    "        <td>bed</td>\n",
    "        <td>sample1-2.bam</td>\n",
    "        <td>SEACR</td>\n",
    "    </tr>\n",
    "    <tr>\n",
    "        <td>sample2-1</td>\n",
    "        <td>experiment</td>\n",
    "        <td>1</td>\n",
    "        <td>sample2-1_peaks.narrowPeak</td>\n",
    "        <td>bed</td>\n",
    "        <td>bed</td>\n",
    "        <td>sample2-1.bam</td>\n",
    "        <td>MACS</td>\n",
    "    </tr>\n",
    "    <tr>\n",
    "        <td>sample2-2</td>\n",
    "        <td>experiment</td>\n",
    "        <td>2</td>\n",
    "        <td>sample2-2_peaks.bed</td>\n",
    "        <td>bed</td>\n",
    "        <td>bed</td>\n",
    "        <td>sample2-2.bam</td>\n",
    "        <td>SEACR</td>\n",
    "    </tr>\n",
    "</table><br>\n",
    "&emsp;<strong>SampleID must be unique for all rows.</strong><br>\n",
    "&emsp;<strong>At least 2 replicates in each sample are required for DiffBind affinity analysis.</strong><br>\n",
    "&emsp;<strong>Be sure to put the full path for the peaks and bam files.</strong><br>\n",
    "&emsp;<strong>Factor column may be omitted if one peak caller was used for .bed files.</strong><br>\n",
    "<center><strong>---This file must be produced manually prior to running the complete script.---</strong></center>"
   ]
  },
  {
   "cell_type": "markdown",
   "id": "2964963f",
   "metadata": {},
   "source": [
    "## <center> ======= Load Packages ======= </center>"
   ]
  },
  {
   "cell_type": "code",
   "execution_count": null,
   "id": "7e76db7f",
   "metadata": {},
   "outputs": [],
   "source": [
    "suppressWarnings(suppressPackageStartupMessages({\n",
    "  library(DiffBind)\n",
    "  library(tidyverse)\n",
    "  #library(profileplyr)\n",
    "  library(ChIPseeker)\n",
    "  library(TxDb.Mmusculus.UCSC.mm10.knownGene)\n",
    "  library(TxDb.Hsapiens.UCSC.hg19.knownGene)\n",
    "  #library(ensembldb)\n",
    "  library(EnsDb.Hsapiens.v86)\n",
    "  library(EnsDb.Mmusculus.v79)\n",
    "  library(org.Hs.eg.db)\n",
    "  library(org.Mm.eg.db)\n",
    "  #library(reshape2)\n",
    "  library(ReactomePA)\n",
    "  library(clusterProfiler)\n",
    "  library(vulcan)\n",
    "  library(UpSetR)\n",
    "  library(dplyr)\n",
    "  library(VennDiagram)\n",
    "  library(eulerr)\n",
    "  require(gridExtra)\n",
    "  library(optparse)\n",
    "}))"
   ]
  },
  {
   "cell_type": "markdown",
   "id": "4d8a525e",
   "metadata": {},
   "source": [
    "---"
   ]
  },
  {
   "cell_type": "markdown",
   "id": "bf056baf",
   "metadata": {},
   "source": [
    "## <center> ======= Define Variables ======= </center>"
   ]
  },
  {
   "cell_type": "code",
   "execution_count": null,
   "id": "6f31e366",
   "metadata": {},
   "outputs": [],
   "source": [
    "# ======= Get command-line optional arguments (defaults) =======\n",
    "option_list = list(\n",
    "  make_option(c(\"-f\", \"--file\"), type=\"character\", default=NULL, help=\"DiffBind-formatted sample sheet\", metavar=\"character\"),\n",
    "  make_option(c(\"-s\", \"--fragmentsizes\"), type=\"character\", default=NULL, help=\"File with bam fragment sizes generated from bamPEFragmentSize, otherwise determined via vulcan\", metavar=\"character\"),\n",
    "  make_option(c(\"-o\", \"--organism\"), type=\"character\", default=\"mouse\", help=\"Organism to annotate genes at peaks, human or mouse (default)\", metavar=\"character\"),\n",
    "  make_option(c(\"-r\", \"--result_dir\"), type=\"character\", default=\"Peaks_Analysis/\", help=\"Directory name for saving output results\", metavar=\"character\"),\n",
    "  make_option(c(\"-d\", \"--database\"), type=\"character\", default=\"ucsc\", help=\"Database reference formatting for peaks gene annotations, ucsc (default) or ensembl\", metavar=\"character\")\n",
    ");\n",
    "opt_parser = OptionParser(option_list=option_list);\n",
    "opt = parse_args(opt_parser);\n",
    "\n",
    "# View variables\n",
    "cat(\"Command-line options:\\n\")\n",
    "for (i in which(names(opt) != \"help\")) {\n",
    "  cat(names(opt)[i], '=', paste(opt)[i], \"\\n\")\n",
    "}"
   ]
  },
  {
   "cell_type": "code",
   "execution_count": null,
   "id": "85d94823",
   "metadata": {},
   "outputs": [],
   "source": [
    "# Put samplesheet file path and directory path name ending in '/' for saving results\n",
    "opt$file <- \"\"\n",
    "opt$result_dir <- \"\""
   ]
  },
  {
   "cell_type": "code",
   "execution_count": null,
   "id": "3d81a18a",
   "metadata": {},
   "outputs": [],
   "source": [
    "# Re-define options (skip if defaults are desired)\n",
    "opt$organism <- \"\" # human or mouse (default)\n",
    "opt$database <- \"\" # ensemble or ucsc (default)\n",
    "opt$fragmentsizes <- \"\" # default is fine"
   ]
  },
  {
   "cell_type": "code",
   "execution_count": null,
   "id": "85a221e6",
   "metadata": {},
   "outputs": [],
   "source": [
    "# View variables\n",
    "for (i in which(names(opt) != \"help\")) {\n",
    "  cat(names(opt)[i], '=', paste(opt)[i], \"\\n\")\n",
    "}"
   ]
  },
  {
   "cell_type": "markdown",
   "id": "6b9a8166",
   "metadata": {},
   "source": [
    "## <center> =========== Load Input Files and Prep Run ============ </center>"
   ]
  },
  {
   "cell_type": "code",
   "execution_count": null,
   "id": "846f7710",
   "metadata": {},
   "outputs": [],
   "source": [
    "# Set samplesheet\n",
    "samplesheet <- opt$file"
   ]
  },
  {
   "cell_type": "code",
   "execution_count": null,
   "id": "d6f099a4",
   "metadata": {},
   "outputs": [],
   "source": [
    "# Get mean fragmentSize for samples from deepTools bamPEFragmentSize function (if obtained prior to this Rscript)\n",
    "# Note: Assumes order of samples matches the samplesheet\n",
    "if (is.null(opt$fragmentsizes)){\n",
    "  fragment_size <- 125 # default\n",
    "} else{\n",
    "  fragment_sizes <- read.table(opt$fragmentsizes, header=TRUE, sep='\\t')[,c( \"X\", \"Frag..Len..Mean\")]\n",
    "  fragment_size <- round(fragment_sizes[\"Frag..Len..Mean\"], 0)[,1]\n",
    "  fragment_size <- round(mean(fragment_size))\n",
    "}"
   ]
  },
  {
   "cell_type": "code",
   "execution_count": null,
   "id": "bdcfc471",
   "metadata": {},
   "outputs": [],
   "source": [
    "# ========= Get database references for annotations =========\n",
    "if (opt$organism == \"mouse\"){\n",
    "  annoDb <- \"org.Mm.eg.db\"\n",
    "  keggOrg <- \"mmu\"\n",
    "  if (opt$database == \"ucsc\"){\n",
    "    txdb <- TxDb.Mmusculus.UCSC.mm10.knownGene\n",
    "  }else if (opt$database == \"ensemble\"){\n",
    "    txdb <- EnsDb.Mmusculus.v79\n",
    "    seqlevelsStyle(txdb) <- \"UCSC\" # format ensembl genes using UCSC style\n",
    "  }\n",
    "  else{\n",
    "    stop(\"Invalid choice of annotation database\")\n",
    "  }\n",
    "} else if (opt$organism == \"human\"){\n",
    "  annoDb <- \"org.Hs.eg.db\"\n",
    "  keggOrg <- \"hsa\"\n",
    "  if (opt$database == \"ucsc\"){\n",
    "    txdb <- TxDb.Hsapiens.UCSC.hg19.knownGene\n",
    "  }else if (opt$database == \"ensemble\"){\n",
    "    txdb <- EnsDb.Hsapiens.v86\n",
    "    seqlevelsStyle(txdb) <- \"UCSC\" # format ensembl genes using UCSC style\n",
    "  }\n",
    "  else{\n",
    "    stop(\"Invalid choice of annotation database\")\n",
    "  }\n",
    "} else{\n",
    "  stop(\"Invalid choice of organism\")\n",
    "}"
   ]
  },
  {
   "cell_type": "code",
   "execution_count": null,
   "id": "9426556b",
   "metadata": {},
   "outputs": [],
   "source": [
    "# Get promoter regions from database\n",
    "promoters <- getPromoters(TxDb=txdb, upstream=3000, downstream=3000)"
   ]
  },
  {
   "cell_type": "markdown",
   "id": "573b83c6",
   "metadata": {},
   "source": [
    "## <center> =========== Start Occupancy Analysis ============ </center>\n",
    " Here, peaks declared by peak caller(s) are used to identify\n",
    " differential expression between conditions. Overlapping peaks \n",
    " between replicates/conditions are determined by the range of the peaks. \n",
    " In this case, using occupancy alone for DE provides a less conservative\n",
    " analysis for DE by simply considering where peaks exist, not considering amount of those gene's expression.\n",
    "\n",
    " Following this, affinity analysis below can provide a more conservative\n",
    " result for DE since the read counts (amount of expression) are accounted for as well as peak locations."
   ]
  },
  {
   "cell_type": "code",
   "execution_count": null,
   "id": "631f9fd8",
   "metadata": {},
   "outputs": [],
   "source": [
    "# Load peaksets\n",
    "setwd(dirname(samplesheet))\n",
    "samplesheet <- basename(samplesheet)"
   ]
  },
  {
   "cell_type": "code",
   "execution_count": null,
   "id": "ad796e31",
   "metadata": {},
   "outputs": [],
   "source": [
    "# Create/set output directories\n",
    "if (!file.exists(opt$result_dir)) {\n",
    "  dir.create(opt$result_dir)\n",
    "}\n",
    "cat(\"Output files will be in\", opt$result_dir, \"\\n\")"
   ]
  },
  {
   "cell_type": "code",
   "execution_count": null,
   "id": "1e0d4eef",
   "metadata": {},
   "outputs": [],
   "source": [
    "# Create/set occupancy analysis output directory\n",
    "result_dir <- paste(opt$result_dir, \"Occupancy_Analysis/\", sep='')\n",
    "if (!file.exists(result_dir)) {\n",
    "  dir.create(result_dir)\n",
    "}"
   ]
  },
  {
   "cell_type": "code",
   "execution_count": null,
   "id": "ae1cd587",
   "metadata": {},
   "outputs": [],
   "source": [
    "# Define output filename prefix (default below uses samplesheet name without '.csv' or 'diffbind_samplesheet_')\n",
    "output_prefix <- gsub('.csv', '_', paste(result_dir, samplesheet, sep=\"\"))\n",
    "output_prefix <- gsub(\"diffbind_samplesheet_\", \"\", output_prefix)"
   ]
  },
  {
   "cell_type": "code",
   "execution_count": null,
   "id": "2b2f2a69",
   "metadata": {},
   "outputs": [],
   "source": [
    "# Use average fragment size from samples (plots sizes for each sample, view before moving forward)\n",
    "fragment_size <- 1:length(read.csv(samplesheet)$SampleID)\n",
    "for (b in unique(read.csv(samplesheet)$Condition)){\n",
    "  for (r in unique(read.csv(samplesheet)$Replicate)){\n",
    "    png(paste(output_prefix, 'fragment_length_', b, '-', r, '.png', sep=\"\"))\n",
    "    mean_fragment_size <- average_fragment_length(read.csv(samplesheet)$bamReads[[which(read.csv(samplesheet)$Condition == b)[1]]], plot=TRUE)\n",
    "    for (i in which(read.csv(samplesheet)$Condition == b & read.csv(samplesheet)$Replicate == r)){\n",
    "      fragment_size[i] <- mean_fragment_size\n",
    "    }\n",
    "    invisible(capture.output(dev.off())) \n",
    "  }\n",
    "}"
   ]
  },
  {
   "cell_type": "code",
   "execution_count": null,
   "id": "bb909881",
   "metadata": {},
   "outputs": [],
   "source": [
    "# OR just define manually (125 is default)\n",
    "fragment_size <- 125"
   ]
  },
  {
   "cell_type": "code",
   "execution_count": null,
   "id": "a870b9a5",
   "metadata": {},
   "outputs": [],
   "source": [
    "# Create DiffBind object\n",
    "dbObj <- dba(sampleSheet=samplesheet, minOverlap=1,\n",
    "             config=data.frame(th=0.05,\n",
    "                               #DataType=DBA_DATA_GRANGES, \n",
    "                               RunParallel=TRUE,\n",
    "                               minQCth=15, \n",
    "                               fragmentSize=fragment_size,\n",
    "                               reportInit=\"DBA\",\n",
    "                               bUsePval=FALSE\n",
    "             )\n",
    ")\n",
    "cat(\"Raw peaksets:\\n\")\n",
    "dbObj"
   ]
  },
  {
   "cell_type": "code",
   "execution_count": null,
   "id": "138e1c04",
   "metadata": {},
   "outputs": [],
   "source": [
    "# Colour codes for consistency in plots (add more/change colours if desired)\n",
    "colours <- c(\"#00BFC4\", \"#F8766D\", \"#7CAE00\", \"#C77CFF\", \"#e69e02\")\n",
    "conditions_colour_code <- list()\n",
    "for (i in 1:length(unique(dbObj$samples$Condition))) {\n",
    "  conditions_colour_code[[unique(dbObj$samples$Condition)[i]]] <- colours[i]\n",
    "}"
   ]
  },
  {
   "cell_type": "markdown",
   "id": "935076a6",
   "metadata": {},
   "source": [
    "### Plots for raw peaksets"
   ]
  },
  {
   "cell_type": "code",
   "execution_count": null,
   "id": "27d0f8c3",
   "metadata": {},
   "outputs": [],
   "source": [
    "# Heatmap correlation between samples\n",
    "png(paste(output_prefix, 'raw_heatmap.png', sep=\"\"))\n",
    "dba.plotHeatmap(dbObj)\n",
    "invisible(capture.output(dev.off()))"
   ]
  },
  {
   "cell_type": "code",
   "execution_count": null,
   "id": "6216efb1",
   "metadata": {},
   "outputs": [],
   "source": [
    "# Show overlap rates for each condition\n",
    "cat(\"Peak overlaps in at least (1, 2, ...) replicates/callers for each condition:\\n\")\n",
    "png(paste(output_prefix, \"raw_overlap_rates.png\", sep=\"\"))\n",
    "par(mfrow=c(length(unique(dbObj$samples$Condition)), 1), mar = c(2, 4, 4, 2))\n",
    "for (c in unique(dbObj$samples$Condition)) {\n",
    "  cat('\\n', c, '\\n')\n",
    "  olap.rate <- dba.overlap(dbObj, dba.mask(dbObj, attribute=DBA_CONDITION, value=c, combine='or'), mode=DBA_OLAP_RATE)\n",
    "  cat(olap.rate)\n",
    "  cat('\\n')\n",
    "  plot(olap.rate, type='l', xlim=c(0.75, length(olap.rate)), ylab='# overlapping peaks', xlab='# peaksets (replicates and peak callers)', col=conditions_colour_code[[c]])\n",
    "  text(x=1:length(olap.rate), y=olap.rate, olap.rate, cex=0.75)\n",
    "  axis(side=1, at=1:length(olap.rate))\n",
    "  title(main=c(\"Overlap Rate\", c))\n",
    "}\n",
    "invisible(capture.output(dev.off()))"
   ]
  },
  {
   "cell_type": "markdown",
   "id": "be832487",
   "metadata": {},
   "source": [
    "### Remove Blacklisted Regions"
   ]
  },
  {
   "cell_type": "code",
   "execution_count": null,
   "id": "614ab761",
   "metadata": {},
   "outputs": [],
   "source": [
    "# Remove blacklisted regions to ignore irrelevant peaks (blacklisted regions from ENCODE, genome selected is based on prediction from bam files)\n",
    "dbObj.noblacklist <- dba.blacklist(dbObj, blacklist=TRUE, greylist=FALSE)\n",
    "blacklisted_peaks <- dba.blacklist(dbObj.noblacklist, Retrieve=DBA_BLACKLISTED_PEAKS)\n",
    "cat(\"After blacklist applied:\\n\")\n",
    "dbObj.noblacklist"
   ]
  },
  {
   "cell_type": "markdown",
   "id": "4b41dfcc",
   "metadata": {},
   "source": [
    "### Plots for blacklist-removed peaksets"
   ]
  },
  {
   "cell_type": "code",
   "execution_count": null,
   "id": "7dacd32a",
   "metadata": {},
   "outputs": [],
   "source": [
    "png(paste(output_prefix, 'raw_noblacklist_heatmap.png', sep=\"\"))\n",
    "dba.plotHeatmap(dbObj.noblacklist)\n",
    "invisible(capture.output(dev.off()))\n",
    "\n",
    "# Show overlap rates for each condition\n",
    "cat(\"Peak overlaps in at least (1, 2, ...) replicates/callers for each condition:\\n\")\n",
    "png(paste(output_prefix, \"raw_noblacklist_overlap_rates.png\", sep=\"\"))\n",
    "par(mfrow=c(length(unique(dbObj$samples$Condition)), 1), mar = c(2, 4, 4, 2))\n",
    "for (c in unique(dbObj$samples$Condition)) {\n",
    "  cat('\\n', c, '\\n')\n",
    "  olap.rate <- dba.overlap(dbObj, dba.mask(dbObj.noblacklist, attribute=DBA_CONDITION, value=c, combine='or'), mode=DBA_OLAP_RATE)\n",
    "  cat(olap.rate)\n",
    "  cat('\\n')\n",
    "  plot(olap.rate, type='l', xlim=c(0.75, length(olap.rate)), ylab='# overlapping peaks', xlab='# peaksets (replicates and peak callers)', col=conditions_colour_code[[c]])\n",
    "  text(x=1:length(olap.rate), y=olap.rate, olap.rate, cex=0.75)\n",
    "  axis(side=1, at=1:length(olap.rate))\n",
    "  title(main=c(\"Overlap Rate\", c))\n",
    "}\n",
    "invisible(capture.output(dev.off()))"
   ]
  },
  {
   "cell_type": "markdown",
   "id": "f5410d6b",
   "metadata": {},
   "source": [
    "### Obtain consensus peaksets"
   ]
  },
  {
   "cell_type": "code",
   "execution_count": null,
   "id": "ef7da800",
   "metadata": {},
   "outputs": [],
   "source": [
    "# ========= Get Consensus Peaks =========\n",
    "# If using peaks from multiple peak callers (defined in Factor column of samplesheet)\n",
    "if (length(unique(dbObj$samples$Factor)) > 1){\n",
    "  # Get consensus overlaps in peaksets for each condition (peaks must be overlapping in 2/3rds of peak callers)\n",
    "  dbObj.total <- dba.peakset(dbObj.noblacklist, consensus=c(DBA_CONDITION, DBA_REPLICATE), minOverlap=0.66)\n",
    "  # resulting consensus between callers\n",
    "  dbObj.caller_consensus <- dba(dbObj.total, mask=dbObj.total$masks$Consensus, minOverlap=1)\n",
    "  if (length(unique(dbObj$samples$Replicate)) > 1){\n",
    "    # Get consensus between replicates for each condition (peaks must be overlapping in at least 2 replicates)\n",
    "    dbObj.final <- dba.peakset(dbObj.caller_consensus, consensus=c(DBA_CONDITION), minOverlap=2)\n",
    "    maskname <- names(dbObj.final$masks)[grepl('Replicate.1-2', names(dbObj.final$masks))]\n",
    "    # resulting consensus between replicates\n",
    "    if (length(maskname) == 1){\n",
    "      dbObj.consensus <- dba(dbObj.final, mask=dbObj.final$masks[[maskname]], minOverlap=1)\n",
    "    }else if (length(maskname) == 2){\n",
    "      dbObj.consensus <- dba(dbObj.final, mask=(dbObj.final$masks[[maskname[1]]] | dbObj.final$masks[[maskname[2]]]), minOverlap=1)\n",
    "    }\n",
    "  }else{\n",
    "    dbObj.consensus <- dbObj.caller_consensus\n",
    "  }\n",
    "}else{\n",
    "  # consensus between replicates\n",
    "  dbObj.total <- dba.peakset(dbObj.noblacklist, consensus=c(DBA_CONDITION), minOverlap=2)\n",
    "  maskname <- names(dbObj.total$masks)[grepl('Replicate.1-2', names(dbObj.total$masks))]\n",
    "  if (length(maskname) == 1){\n",
    "    dbObj.consensus <- dba(dbObj.total, mask=dbObj.total$masks[[maskname]], minOverlap=1)\n",
    "  }else if (length(maskname) == 2){\n",
    "    dbObj.consensus <- dba(dbObj.total, mask=(dbObj.total$masks[[maskname[1]]] | dbObj.total$masks[[maskname[2]]]), minOverlap=1)\n",
    "  }\n",
    "}\n",
    "dbObj.consensus"
   ]
  },
  {
   "cell_type": "markdown",
   "id": "71599f42",
   "metadata": {},
   "source": [
    "Re-sort colour code"
   ]
  },
  {
   "cell_type": "code",
   "execution_count": null,
   "id": "fd1ac8c8",
   "metadata": {},
   "outputs": [],
   "source": [
    "# Re-sort colours if condition orders changed after consensus (occurs when one condition has only 1 replicate, consensus must be added manually...)\n",
    "# dbObj.consensus <- dba(dbObj.final, mask=(dbObj.final$masks$`Replicate.1-2` | dbObj.final$masks$CONDITION_WITH_ONE_REPLICATE), minOverlap=1)\n",
    "temp <- list()\n",
    "for (i in 1:length(conditions_colour_code)){\n",
    "  temp[names(conditions_colour_code[which(names(conditions_colour_code) == dba.show(dbObj.consensus)$Condition[i])])] <- conditions_colour_code[which(names(conditions_colour_code) == dba.show(dbObj.consensus)$Condition[i])]\n",
    "}\n",
    "conditions_colour_code <- temp"
   ]
  },
  {
   "cell_type": "markdown",
   "id": "696d674c",
   "metadata": {},
   "source": [
    "### Obtain differential peaksets"
   ]
  },
  {
   "cell_type": "code",
   "execution_count": null,
   "id": "3de1a167",
   "metadata": {},
   "outputs": [],
   "source": [
    "# Consensus peaks from all conditions (all relevant peaks)\n",
    "consensus_peaks <- dba.peakset(dbObj.consensus, bRetrieve=TRUE)\n",
    "\n",
    "# Differentially bound peaks between conditions (peaks unique to each condition)\n",
    "differential_peaks <- dba.overlap(dbObj.consensus, dbObj.consensus$masks$All, DataType=DBA_DATA_GRANGES)\n",
    "unique_peaks <- list()\n",
    "for (c in unique(dba.show(dbObj.consensus)$Condition)){\n",
    "  unique_peaks[[c]] <- differential_peaks[[which(unique(dba.show(dbObj.consensus)$Condition) == c)]]\n",
    "  cat(\"\\n\", c, \"has\", length(unique_peaks[[c]]), \"unique peaks.\\n\")\n",
    "}\n",
    "# Peaks shared between all conditions\n",
    "shared_peaks <- list()\n",
    "shared_peaks[[\"Shared\"]] <- differential_peaks$inAll\n",
    "cat(\"\\n\", length(shared_peaks[[\"Shared\"]]), \"shared peaks.\\n\")"
   ]
  },
  {
   "cell_type": "markdown",
   "id": "dcb4d02a",
   "metadata": {},
   "source": [
    "### Plots for differential peaks"
   ]
  },
  {
   "cell_type": "code",
   "execution_count": null,
   "id": "d5e352b7",
   "metadata": {},
   "outputs": [],
   "source": [
    "# Venn diagram\n",
    "if (length(unique(dba.show(dbObj.consensus)$Condition)) == 2){\n",
    "  png(paste(output_prefix, 'raw_consensus_peaks.png', sep=\"\"))\n",
    "  grid.newpage()\n",
    "  g = draw.pairwise.venn(area1=length(unique_peaks[[names(unique_peaks)[1]]])+length(shared_peaks[[names(shared_peaks)[1]]]), \n",
    "                         area2=length(unique_peaks[[names(unique_peaks)[2]]])+length(shared_peaks[[names(shared_peaks)[1]]]),\n",
    "                         cross.area=length(shared_peaks[[names(shared_peaks)[1]]]),\n",
    "                         category=names(unique_peaks),\n",
    "                         fill=unname(unlist(conditions_colour_code)),\n",
    "                         col=NA,\n",
    "                         #cat.pos=c(0,0),\n",
    "                         cat.dist = c(0,0))\n",
    "  grid.arrange(gTree(children=g), top=\"Binding Site Overlaps\", bottom=gsub('/', '', opt$result_dir))\n",
    "  invisible(capture.output(dev.off()))\n",
    "}else if (length(unique(dba.show(dbObj.consensus)$Condition)) == 3){\n",
    "  e = c(\n",
    "    \"A\"=length(unique_peaks[[names(unique_peaks)[1]]]), \n",
    "    \"B\"=length(unique_peaks[[names(unique_peaks)[2]]]),\n",
    "    \"C\"=length(unique_peaks[[names(unique_peaks)[3]]]),\n",
    "    \"A&B\"=length(differential_peaks$notC),\n",
    "    \"B&C\"=length(differential_peaks$notA),\n",
    "    \"A&C\"=length(differential_peaks$notB),\n",
    "    \"A&B&C\"=length(shared_peaks[[names(shared_peaks)[1]]])\n",
    "  )\n",
    "  names(e) = c(names(unique_peaks)[1], names(unique_peaks)[2], names(unique_peaks)[3],\n",
    "               paste(names(unique_peaks)[1] , '&' , names(unique_peaks)[2], sep=''),\n",
    "               paste(names(unique_peaks)[2] , '&' , names(unique_peaks)[3], sep=''),\n",
    "               paste(names(unique_peaks)[1] , '&' , names(unique_peaks)[3], sep=''),\n",
    "               paste(names(unique_peaks)[1] , '&' , names(unique_peaks)[2] , '&' , names(unique_peaks)[3], sep='')\n",
    "  )\n",
    "  \n",
    "  png(paste(output_prefix, 'raw_consensus_peaks.png', sep=\"\"))\n",
    "  plt = plot(euler(e), main=gsub('/', '', opt$result_dir), quantities=TRUE, fills=unname(unlist(conditions_colour_code)))\n",
    "  invisible(capture.output(ggsave(filename=paste(output_prefix, 'raw_consensus_peaks.png', sep=''), plot=plt)))\n",
    "  invisible(capture.output(dev.off()))\n",
    "}"
   ]
  },
  {
   "cell_type": "code",
   "execution_count": null,
   "id": "a3c701a0",
   "metadata": {},
   "outputs": [],
   "source": [
    "# Correlation heatmap\n",
    "png(paste(output_prefix, 'raw_consensus_heatmap.png', sep=\"\"))\n",
    "dba.plotHeatmap(dbObj.consensus)\n",
    "invisible(capture.output(dev.off()))"
   ]
  },
  {
   "cell_type": "code",
   "execution_count": null,
   "id": "9742572b",
   "metadata": {},
   "outputs": [],
   "source": [
    "# PCA plot\n",
    "png(paste(output_prefix, 'raw_pca_condition.png', sep=\"\"))\n",
    "dba.plotPCA(dbObj, masks=!dbObj.total$masks$Consensus, attributes=DBA_CONDITION, label=DBA_ID, vColors=(colours))\n",
    "invisible(capture.output(dev.off()))\n",
    "if(length(unique(dbObj$samples$Factor)) > 1){\n",
    "  png(paste(output_prefix, 'raw_pca_factor.png', sep=\"\"))\n",
    "  dba.plotPCA(dbObj, masks=!dbObj.total$masks$Consensus, attributes=DBA_FACTOR, label=DBA_ID)\n",
    "  invisible(capture.output(dev.off()))\n",
    "}"
   ]
  },
  {
   "cell_type": "code",
   "execution_count": null,
   "id": "8f99950a",
   "metadata": {},
   "outputs": [],
   "source": [
    "# Plot peaks over genome\n",
    "plt <- covplot(c(unique_peaks, shared_peaks), title=\"Peaks over Genome\") + \n",
    "  scale_color_manual(values=rev(c(unlist(unname(conditions_colour_code[1:length(unique_peaks)])), 'grey'))) + \n",
    "  scale_fill_manual(values=rev(c(unlist(unname(conditions_colour_code[1:length(unique_peaks)])), 'grey')))\n",
    "invisible(capture.output(ggsave(filename=paste(output_prefix, 'genome_peaks.png', sep=''), plot=plt, dpi=320)))\n",
    "plt <- plt + facet_grid(chr ~ .id)\n",
    "invisible(capture.output(ggsave(filename=paste(output_prefix, 'genome_peaks_split.png', sep=''), plot=plt, dpi=320)))"
   ]
  },
  {
   "cell_type": "code",
   "execution_count": null,
   "id": "5260a17e",
   "metadata": {},
   "outputs": [],
   "source": [
    "# Plot peaks related to TSS sites heatmap\n",
    "tagMatrices <- list()\n",
    "png(paste(output_prefix, 'raw_TSS_heatmap_peaks.png', sep=''))\n",
    "par(mfrow=c(1, length(unique(dba.show(dbObj.consensus)$Condition))), mar = c(2, 4, 4, 2))\n",
    "par(mar=c(5,4,4,2) + 0.1)\n",
    "for (p in names(unique_peaks)){\n",
    "  tagMatrix <- getTagMatrix(unique_peaks[[p]], windows=promoters)\n",
    "  if (length(tagMatrix) == 0){\n",
    "    cat(\"No peaks at promoter sites for\", p, \"\\n\")\n",
    "    break\n",
    "  }else{\n",
    "    tagMatrices[[p]] <- tagMatrix\n",
    "    cat(dim(tagMatrix)[[1]], \"peaks at promoter sites for\", p, \"\\n\")\n",
    "    tagHeatmap(tagMatrix, xlim=c(-3000, 3000), xlab=\"bp at TSS\", ylab=\"Peaks\",\n",
    "               color=conditions_colour_code[[p]]) \n",
    "    title(main=paste('Peaks at Promoters', p, sep=\" - \"), \n",
    "          sub=paste(dim(tagMatrix)[[1]], \"peaks\", sep=' '))\n",
    "  }\n",
    "}\n",
    "invisible(capture.output(dev.off()))"
   ]
  },
  {
   "cell_type": "code",
   "execution_count": null,
   "id": "5d24b9aa",
   "metadata": {},
   "outputs": [],
   "source": [
    "# Plot TSS profile of peaks\n",
    "plt <- plotAvgProf(tagMatrices, xlim=c(-3000, 3000), conf=0.95, resample=1000) +\n",
    "  scale_color_manual(values=unname(unlist(conditions_colour_code[names(tagMatrices)]))) +\n",
    "  scale_fill_manual(values=unname(unlist(conditions_colour_code[names(tagMatrices)])))\n",
    "invisible(capture.output(ggsave(paste(output_prefix, 'raw_TSS_profile_peaks.png', sep=''), plot=plt, dpi=320)))"
   ]
  },
  {
   "cell_type": "markdown",
   "id": "f97a109e",
   "metadata": {},
   "source": [
    "### Output differential peaks to files"
   ]
  },
  {
   "cell_type": "code",
   "execution_count": null,
   "id": "591e568c",
   "metadata": {},
   "outputs": [],
   "source": [
    "peaks <- c(unique_peaks, shared_peaks)\n",
    "\n",
    "# Output to bed files\n",
    "for (p in names(peaks)){\n",
    "  write.table(as.data.frame(peaks[[p]]), file=paste(output_prefix, p, '.bed', sep=''), sep=\"\\t\", quote=F, row.names=F, col.names=T)\n",
    "}"
   ]
  },
  {
   "cell_type": "markdown",
   "id": "2e3d8dca",
   "metadata": {},
   "source": [
    "### Get annotations for peaks"
   ]
  },
  {
   "cell_type": "code",
   "execution_count": null,
   "id": "7266541d",
   "metadata": {},
   "outputs": [],
   "source": [
    "# Annotate peaks and write to files\n",
    "peakAnnoList <- list()\n",
    "for (p in names(peaks)){\n",
    "  cat(\"\\nAnnotating\", p)\n",
    "  anno <- annotatePeak(peaks[[p]], \n",
    "                       TxDb=txdb,\n",
    "                       annoDb=annoDb)\n",
    "  peakAnnoList[[p]] <- anno\n",
    "  \n",
    "  # Write annotation to file\n",
    "  write.table(anno, file=paste(output_prefix, 'annotated_', p, '.tsv', sep=''), sep=\"\\t\", quote=F, row.names=F, col.names=T)\n",
    "}"
   ]
  },
  {
   "cell_type": "markdown",
   "id": "f9f73cdd",
   "metadata": {},
   "source": [
    "### Plot distribution of features"
   ]
  },
  {
   "cell_type": "code",
   "execution_count": null,
   "id": "b9f6e358",
   "metadata": {},
   "outputs": [],
   "source": [
    "png(paste(output_prefix, 'peaks_annotation_distribution.png', sep=''))\n",
    "plotAnnoBar(peakAnnoList)\n",
    "invisible(capture.output(dev.off()))"
   ]
  },
  {
   "cell_type": "code",
   "execution_count": null,
   "id": "52d378e7",
   "metadata": {},
   "outputs": [],
   "source": [
    "png(paste(output_prefix, 'peaks_annotation_TSS_distribution.png', sep=''))\n",
    "plotDistToTSS(peakAnnoList)\n",
    "invisible(capture.output(dev.off()))"
   ]
  },
  {
   "cell_type": "code",
   "execution_count": null,
   "id": "44c88153",
   "metadata": {},
   "outputs": [],
   "source": [
    "# Get gene list from annotations\n",
    "genes = lapply(peakAnnoList, function(i) as.data.frame(i)$geneId)\n",
    "names(genes) = sub(\"_\", \"\\n\", names(genes))"
   ]
  },
  {
   "cell_type": "markdown",
   "id": "7338a79f",
   "metadata": {},
   "source": [
    "### Annotate GO"
   ]
  },
  {
   "cell_type": "code",
   "execution_count": null,
   "id": "31f04ae3",
   "metadata": {},
   "outputs": [],
   "source": [
    "tryCatch(\n",
    "  {\n",
    "    compGO <- compareCluster(geneCluster=genes,\n",
    "                             OrgDb=annoDb,\n",
    "                             fun=\"enrichGO\",\n",
    "                             pvalueCutoff=0.05,\n",
    "                             pAdjustMethod=\"BH\",\n",
    "                             readable=TRUE\n",
    "    ) # Check https://www.genome.jp/kegg/catalog/org_list.html for organism hsa=human mmu=mouse\n",
    "    if (!is.null(compGO)){\n",
    "      plt <- dotplot(compGO, showCategory = 10, title = \"GO Pathway Enrichment Analysis\")\n",
    "      invisible(capture.output(ggsave(filename=paste(output_prefix, 'annotated_go_analysis.png', sep=''), plot=plt, dpi=320)))\n",
    "      # Write annotations to csv\n",
    "      write.table(as.data.frame(compGO), file=paste(output_prefix, 'annotated_GO.tsv', sep=''), sep=\"\\t\", quote=F, row.names=F, col.names=T)\n",
    "    }\n",
    "  },error = function(e)\n",
    "  {\n",
    "    message(e)\n",
    "  }\n",
    ")"
   ]
  },
  {
   "cell_type": "markdown",
   "id": "9b0470e9",
   "metadata": {},
   "source": [
    "### Annotate KEGG"
   ]
  },
  {
   "cell_type": "code",
   "execution_count": null,
   "id": "1377dc8b",
   "metadata": {},
   "outputs": [],
   "source": [
    "tryCatch(\n",
    "  {\n",
    "    # fun is \"groupGO\", \"enrichGO\", \"enrichKEGG\", \"enrichDO\" or \"enrichPathway\" \n",
    "    compKEGG <- compareCluster(geneCluster=genes,\n",
    "                               fun=\"enrichKEGG\",\n",
    "                               pvalueCutoff=0.05,\n",
    "                               pAdjustMethod=\"BH\",\n",
    "                               organism=keggOrg) # Check https://www.genome.jp/kegg/catalog/org_list.html for organism hsa=human mmu=mouse\n",
    "    if (!is.null(compKEGG)){\n",
    "      plt <- dotplot(compKEGG, showCategory = 10, title = \"KEGG Pathway Enrichment Analysis\")\n",
    "      invisible(capture.output(ggsave(filename=paste(output_prefix, 'annotated_kegg_analysis.png', sep=''), plot=plt, dpi=320)))\n",
    "      \n",
    "      # Write annotations to csv\n",
    "      write.table(as.data.frame(compKEGG), file=paste(output_prefix, 'annotated_KEGG.tsv', sep=''), sep=\"\\t\", quote=F, row.names=F, col.names=T)\n",
    "    }\n",
    "  },error = function(e)\n",
    "  {\n",
    "    message(e)\n",
    "  }\n",
    ")"
   ]
  },
  {
   "cell_type": "markdown",
   "id": "0230c7c5",
   "metadata": {},
   "source": [
    "## <center> =========== END OF OCCUPANCY ANALYSIS ============ </center>"
   ]
  },
  {
   "cell_type": "markdown",
   "id": "b103ae5c",
   "metadata": {},
   "source": [
    "___"
   ]
  },
  {
   "cell_type": "markdown",
   "id": "83e6e990",
   "metadata": {},
   "source": [
    "## <center> =========== Start Affinity Analysis ============ </center>\n",
    "The consensus peaks determined above are used here to focus on relevant peak regions only. This way, read\n",
    "counts for consensus peaks are analyzed for significance in DE."
   ]
  },
  {
   "cell_type": "code",
   "execution_count": null,
   "id": "2a7b4061",
   "metadata": {},
   "outputs": [],
   "source": [
    "# Make new directory for affinity analysis\n",
    "result_dir <- paste(opt$result_dir, 'Affinity_Analysis/', sep='')\n",
    "if (!file.exists(result_dir)) {\n",
    "  dir.create(result_dir)\n",
    "}"
   ]
  },
  {
   "cell_type": "code",
   "execution_count": null,
   "id": "dc1c7e5c",
   "metadata": {},
   "outputs": [],
   "source": [
    "# Change output prefix to save in new directory\n",
    "output_prefix <- gsub('.csv', '_', paste(paste(result_dir, sep=''), samplesheet, sep=\"\"))\n",
    "output_prefix <- gsub(\"diffbind_samplesheet_\", \"\", output_prefix)"
   ]
  },
  {
   "cell_type": "markdown",
   "id": "c13f15b7",
   "metadata": {},
   "source": [
    "### Count reads for consensus peaks"
   ]
  },
  {
   "cell_type": "code",
   "execution_count": null,
   "id": "e6ca0d01",
   "metadata": {},
   "outputs": [],
   "source": [
    "#(recommend to use ‘summits=100‘ for ATAC-seq).\n",
    "if (length(unique(dbObj$samples$Factor)) > 1){\n",
    "  dbObj.counted <- dba.count(dbObj.caller_consensus, bUseSummarizeOverlaps=TRUE, \n",
    "                             peaks=consensus_peaks, \n",
    "                             minOverlap=1, \n",
    "                             score=DBA_SCORE_NORMALIZED,\n",
    "                             #fragmentSize=dbObj.caller_consensus$config$fragmentSize,\n",
    "                             #summits=200, filter=1, bRemoveDuplicates=FALSE, bScaleControl=TRUE,\n",
    "                             #bSubControl=is.null(dbObj.noblacklist$greylist),\n",
    "                             #mapQCth=dbObj.noblacklist$config$mapQCth, \n",
    "                             #filterFun=max, minCount=0,\n",
    "                             #bLog=FALSE,\n",
    "                             #readFormat=DBA_READS_DEFAULT, \n",
    "                             #bParallel=dbObj.noblacklist$config$RunParallel\n",
    "  )\n",
    "}else{\n",
    "  dbObj.counted <- dba.count(dbObj.noblacklist, bUseSummarizeOverlaps=TRUE, \n",
    "                             peaks=consensus_peaks, \n",
    "                             minOverlap=1, \n",
    "                             score=DBA_SCORE_NORMALIZED,\n",
    "                             #fragmentSize=dbObj.noblacklist$config$fragmentSize,\n",
    "                             #summits=200, filter=1, bRemoveDuplicates=FALSE, bScaleControl=TRUE,\n",
    "                             #bSubControl=is.null(dbObj.noblacklist$greylist),\n",
    "                             #mapQCth=dbObj.noblacklist$config$mapQCth, \n",
    "                             #filterFun=max, minCount=0,\n",
    "                             #bLog=FALSE,\n",
    "                             #readFormat=DBA_READS_DEFAULT, \n",
    "                             #bParallel=dbObj.noblacklist$config$RunParallel\n",
    "  )\n",
    "}\n",
    "dbObj.counted"
   ]
  },
  {
   "cell_type": "markdown",
   "id": "39d89378",
   "metadata": {},
   "source": [
    "### Normalize counts"
   ]
  },
  {
   "cell_type": "code",
   "execution_count": null,
   "id": "1e88eb9f",
   "metadata": {},
   "outputs": [],
   "source": [
    "tryCatch(\n",
    "  {\n",
    "    # Normalize (\"safest method\")\n",
    "    dbObj.norm <- dba.normalize(dbObj.counted, method=DBA_ALL_METHODS, \n",
    "                                normalize=DBA_NORM_NATIVE,\n",
    "                                background=TRUE, library=DBA_LIBSIZE_DEFAULT,\n",
    "                                spikein=FALSE, offsets=FALSE,\n",
    "                                libFun=mean, bRetrieve=FALSE)\n",
    "  },error = function(e)\n",
    "  { \n",
    "    message(e, \"\\nUsing approximate normalization...\")\n",
    "    # Approximate normalization to above without extra reading of bam files\n",
    "    dbObj.norm <- dba.normalize(dbObj.counted, method=DBA_ALL_METHODS, \n",
    "                                normalize=DBA_NORM_LIB,\n",
    "                                background=FALSE, library=DBA_LIBSIZE_FULL,\n",
    "                                spikein=FALSE, offsets=FALSE,\n",
    "                                libFun=mean, bRetrieve=FALSE)\n",
    "  }\n",
    ")\n",
    "\n",
    "cat(\"After normalizing:\\n\")\n",
    "dbObj.norm"
   ]
  },
  {
   "cell_type": "markdown",
   "id": "83c94e71",
   "metadata": {},
   "source": [
    "### Plots"
   ]
  },
  {
   "cell_type": "code",
   "execution_count": null,
   "id": "6fafc695",
   "metadata": {},
   "outputs": [],
   "source": [
    "# Correlation heatmap\n",
    "png(paste(output_prefix, 'consensus_peaks_counted_normalized_heatmap.png', sep=''))\n",
    "dba.plotHeatmap(dbObj.norm)\n",
    "invisible(capture.output(dev.off()))"
   ]
  },
  {
   "cell_type": "code",
   "execution_count": null,
   "id": "e341e5df",
   "metadata": {},
   "outputs": [],
   "source": [
    "# PCA plot\n",
    "png(paste(output_prefix, 'consensus_peaks_counted_normalized_pca.png', sep=''))\n",
    "dba.plotPCA(dbObj.norm, attributes=DBA_CONDITION, label=DBA_ID, vColors=(colours))\n",
    "invisible(capture.output(dev.off()))"
   ]
  },
  {
   "cell_type": "markdown",
   "id": "ae2b77c1",
   "metadata": {},
   "source": [
    "### Define contrasts for differential comparison"
   ]
  },
  {
   "cell_type": "code",
   "execution_count": null,
   "id": "2ca46fd1",
   "metadata": {},
   "outputs": [],
   "source": [
    "# Define design and contrasts explicitly\n",
    "if (length(unique(dbObj.norm$samples$Replicate)) > 1) {\n",
    "  dbObj.contrast <- dba.contrast(dbObj.norm, design=\"~Condition\", \n",
    "                                 minMembers=2, \n",
    "                                 contrast=c(\"Condition\", unique(dbObj.norm$samples$Condition)))\n",
    "}else{\n",
    "  # Pre-DiffBind version 3 (or if no use of multiple replicates...will not be able to perform analysis in this case)\n",
    "  dbObj.contrast <- dba.contrast(dbObj.norm, design=FALSE, categories=DBA_CONDITION,\n",
    "                                 group1=dbObj.norm$masks[[unique(dbObj.norm$samples$Condition)[1]]], \n",
    "                                 name1=unique(dbObj.norm$samples$Condition)[1],\n",
    "                                 name2=unique(dbObj.norm$samples$Condition)[2],\n",
    "                                 minMembers=2,\n",
    "                                 reorderMeta=list(Condition=unique(dbObj.norm$samples$Condition)[1], \n",
    "                                                  Condition=unique(dbObj.norm$samples$Condition)[2])\n",
    "  )\n",
    "}\n",
    "cat(\"After defining contrast:\\n\")\n",
    "dbObj.contrast"
   ]
  },
  {
   "cell_type": "markdown",
   "id": "92a1178b",
   "metadata": {},
   "source": [
    "### Analyze binding affinities"
   ]
  },
  {
   "cell_type": "code",
   "execution_count": null,
   "id": "8aa23c30",
   "metadata": {},
   "outputs": [],
   "source": [
    "dbObj.analyzed <- dba.analyze(dbObj.contrast, method=DBA_ALL_METHODS)\n",
    "cat(\"After analyzing:\\n\")\n",
    "dbObj.analyzed"
   ]
  },
  {
   "cell_type": "markdown",
   "id": "302125f0",
   "metadata": {},
   "source": [
    "### Plots"
   ]
  },
  {
   "cell_type": "code",
   "execution_count": null,
   "id": "f9a0fd50",
   "metadata": {},
   "outputs": [],
   "source": [
    "# Venn diagram\n",
    "tryCatch(\n",
    "  {\n",
    "    png(paste(output_prefix, 'analyzed_venn.png', sep=''))\n",
    "    dba.plotVenn(main=\"DE Binding Sites Identified by Method\",\n",
    "                 dbObj.analyzed, \n",
    "                 contrast=1, \n",
    "                 method=DBA_ALL_METHODS\n",
    "    )\n",
    "    invisible(capture.output(dev.off()))\n",
    "  }, error=function(e){\n",
    "    message(\"No figure\\n\", e)\n",
    "    invisible(capture.output(dev.off()))\n",
    "    invisible(file.remove(paste(output_prefix, 'analyzed_venn.png', sep='')))\n",
    "  }\n",
    ")\n"
   ]
  },
  {
   "cell_type": "code",
   "execution_count": null,
   "id": "03a79772",
   "metadata": {},
   "outputs": [],
   "source": [
    "# Various plots for results from DESeq2 and edgeR analysis\n",
    "for (m in c(DBA_DESEQ2, DBA_EDGER)){\n",
    "  \n",
    "  tryCatch(\n",
    "    {\n",
    "      #png(paste(output_prefix, 'analyzed_venn_', m, '.png', sep=''))\n",
    "      #dba.plotVenn(dbObj.analyzed, method=m, contrast=1, bDB=TRUE, bGain=TRUE, bLoss=TRUE, bAll=FALSE)\n",
    "      #invisible(capture.output(dev.off()))\n",
    "      v <- dba.plotVenn(dbObj.analyzed, method=m, contrast=1, \n",
    "                        bDB=TRUE, bGain=TRUE, bLoss=TRUE, bAll=FALSE,\n",
    "                        main=paste(\"Binding Sites - \", m, sep=''))\n",
    "      png(paste(output_prefix, 'analyzed_venn_', m, '.png', sep=''))\n",
    "      grid.newpage()\n",
    "      g = draw.pairwise.venn(area1=length(v$onlyA)+length(v$inAll), \n",
    "                             area2=length(v$onlyB)+length(v$inAll),\n",
    "                             cross.area=length(v$inAll),\n",
    "                             category=names(unique_peaks),\n",
    "                             fill=unname(unlist(conditions_colour_code)),\n",
    "                             col=NA, cex=1.5, cat.cex=1.5,\n",
    "                             cat.dist = c(0,0))\n",
    "      grid.arrange(gTree(children=g), top=textGrob(\"Binding Sites\", gp=gpar(cex=1.5, fontface='bold')),\n",
    "                   bottom=textGrob(m, gp=gpar(cex=1.5)))\n",
    "      invisible(capture.output(dev.off()))\n",
    "      \n",
    "      \n",
    "    }, error=function(e){\n",
    "      message(\"No figure\\n\", e)\n",
    "      invisible(capture.output(dev.off()))\n",
    "      invisible(file.remove(paste(output_prefix, 'analyzed_venn_', m, '.png', sep='')))\n",
    "    }\n",
    "  )\n",
    "  tryCatch(\n",
    "    {\n",
    "      png(paste(output_prefix, 'analyzed_volcano_', m, '.png', sep=''))\n",
    "      par(mfrow=c(1,2))\n",
    "      dba.plotVolcano(dbObj.analyzed, method=m)\n",
    "      invisible(capture.output(dev.off()))\n",
    "    }, error=function(e){\n",
    "      message(\"No figure\\n\", e)\n",
    "      invisible(capture.output(dev.off()))\n",
    "      invisible(file.remove(paste(output_prefix, 'analyzed_volcano_', m, '.png', sep='')))\n",
    "    }\n",
    "  )\n",
    "  tryCatch(\n",
    "    {\n",
    "      png(paste(output_prefix, 'analyzed_ma_', m, '.png', sep=''))\n",
    "      dba.plotMA(dbObj.analyzed, method=m)\n",
    "      invisible(capture.output(dev.off()))\n",
    "    }, error=function(e){\n",
    "      message(\"No figure\\n\", e)\n",
    "      invisible(capture.output(dev.off()))\n",
    "      invisible(file.remove(paste(output_prefix, 'analyzed_ma_', m, '.png', sep='')))\n",
    "    }\n",
    "  )\n",
    "  tryCatch(\n",
    "    {\n",
    "      png(paste(output_prefix, 'analyzed_box_', m, '.png', sep=''))\n",
    "      dba.plotBox(dbObj.analyzed, method=m)\n",
    "      invisible(capture.output(dev.off()))\n",
    "    }, error=function(e){\n",
    "      message(\"No figure\\n\", e)\n",
    "      invisible(capture.output(dev.off()))\n",
    "      invisible(file.remove(paste(output_prefix, 'analyzed_box_', m, '.png', sep='')))\n",
    "    }\n",
    "  )\n",
    "}"
   ]
  },
  {
   "cell_type": "code",
   "execution_count": null,
   "id": "be189d94",
   "metadata": {},
   "outputs": [],
   "source": [
    "# Plot profile\n",
    "tryCatch(\n",
    "  {\n",
    "    profile_colors <- list()\n",
    "    for (i in 1:length(unique(dbObj.analyzed$samples$Condition))) {\n",
    "      profile_colors[[unique(dbObj.analyzed$samples$Condition)[i]]] <- c('white', colours[[i]])\n",
    "    }\n",
    "    #profile_colors <- rev(profile_colors)\n",
    "    profiles <- dba.plotProfile(dbObj.analyzed, merge=c(DBA_REPLICATE), normalize=TRUE)\n",
    "    png(paste(output_prefix, 'analyzed_profile.png', sep=''))\n",
    "    #grid.newpage()\n",
    "    g <- dba.plotProfile(profiles, matrices_color=profile_colors, all_color_scales_equal=FALSE, \n",
    "                         decreasing=FALSE, \n",
    "                         #group_anno_color=unlist(unname(conditions_colour_code))\n",
    "    )\n",
    "    #grid.arrange(gTree(children=List(g)), top=textGrob(\"Heatmap-Profiles\", gp=gpar(cex=1.5, fontface='bold')),\n",
    "    #             bottom=textGrob(m, gp=gpar(cex=1.5)))\n",
    "    invisible(capture.output(dev.off()))\n",
    "  }, error=function(e){\n",
    "    message(\"No figure\\n\", e)\n",
    "    invisible(capture.output(dev.off()))\n",
    "    invisible(file.remove(paste(output_prefix, 'analyzed_profile.png', sep='')))\n",
    "  }\n",
    ")"
   ]
  },
  {
   "cell_type": "markdown",
   "id": "b278e69d",
   "metadata": {},
   "source": [
    "### Generate DEGs reports"
   ]
  },
  {
   "cell_type": "code",
   "execution_count": null,
   "id": "e1a322ee",
   "metadata": {},
   "outputs": [],
   "source": [
    "# Reports for DESeq2 and edgeR, including all peaks\n",
    "reports <- list()\n",
    "reports[[\"DESeq2\"]] <- dba.report(dbObj.analyzed, method=DBA_DESEQ2, contrast=1, th=1)\n",
    "reports[[\"edgeR\"]] <- dba.report(dbObj.analyzed, method=DBA_EDGER, contrast=1, th=1)"
   ]
  },
  {
   "cell_type": "markdown",
   "id": "298f48d0",
   "metadata": {},
   "source": [
    "### Output results, plots, and annotations for both reports"
   ]
  },
  {
   "cell_type": "code",
   "execution_count": null,
   "id": "e5b39d18",
   "metadata": {},
   "outputs": [],
   "source": [
    "for (report in names(reports)){\n",
    "  # Report columns are seqnames, start, end, width, strand, Conc, Conc_Group1, Conc_Group2, Fold, p.value, FDR\n",
    "  # Create bed files for each keeping only significant peaks (p<0.05)\n",
    "  # Comparing those whereby Fold > 0 vs Fold < 0, indicating enrichment gain vs loss of group 1 over group 2\n",
    "  \n",
    "  out <- as.data.frame(reports[[report]])\n",
    "  #out <- out[as.data.frame(findOverlaps(both, reports[[report]]))[[\"subjectHits\"]], ]\n",
    "  \n",
    "  cat(\"\\n\", report, \"Report:\\n\")\n",
    "  print(head(out))\n",
    "  print(tail(out))\n",
    "  \n",
    "  \n",
    "  gained <- out %>% \n",
    "    dplyr::filter(FDR < 0.05 & Fold > 0) %>% \n",
    "    dplyr::select(seqnames, start, end)\n",
    "  lost <- out %>% \n",
    "    dplyr::filter(FDR < 0.05 & Fold < 0) %>% \n",
    "    dplyr::select(seqnames, start, end)\n",
    "  \n",
    "  cat('\\n', dim(out)[[1]], 'peaks in', report, 'report:\\n')\n",
    "  cat('\\n\\t', dim(gained)[[1]] + dim(lost)[[1]], 'statistically significant peaks', '( FDR <', dbObj.analyzed$config$th, ')\\n')\n",
    "  cat('\\n\\t', dim(gained)[[1]], 'DE peaks in', dbObj.contrast$contrasts[[1]]$name1, '(Fold-change > 0)', '\\n')\n",
    "  cat('\\n\\t', dim(lost)[[1]], 'DE peaks in', dbObj.contrast$contrasts[[1]]$name2, '(Fold-change < 0)', '\\n')\n",
    "  \n",
    "  # Write complete report to file\n",
    "  write.table(out, file=paste(output_prefix, 'analyzed_report_', report, '.tsv', sep=''), sep=\"\\t\", quote=F, row.names=F)\n",
    "  \n",
    "  # Write DE result to bed files\n",
    "  write.table(gained, file=paste(output_prefix, 'analyzed_report_', report, '_', dbObj.contrast$contrasts[[1]]$name1, '.bed', sep=''), sep=\"\\t\", quote=F, row.names=F, col.names=F)\n",
    "  write.table(lost, file=paste(output_prefix, 'analyzed_report_', report, '_', dbObj.contrast$contrasts[[1]]$name2, '.bed', sep=''), sep=\"\\t\", quote=F, row.names=F, col.names=F)\n",
    "  \n",
    "  \n",
    "  # Plot profile heatmaps for all significant (FDR < 0.05) sites for each method\n",
    "  tryCatch(\n",
    "    {\n",
    "      profile_colors <- list()\n",
    "      for (i in 1:length(unique(dbObj.analyzed$samples$Condition))) {\n",
    "        profile_colors[[unique(dbObj.analyzed$samples$Condition)[i]]] <- c('white', colours[[i]])\n",
    "      }\n",
    "      #profile_colors <- rev(profile_colors)\n",
    "      # Plots all significant sites among both conditions (will include signals)\n",
    "      profiles_significant <- dba.plotProfile(dbObj.analyzed, merge=c(DBA_REPLICATE), normalize=TRUE, \n",
    "                                              sites=GRanges(out %>% dplyr::filter(FDR < 0.05))\n",
    "      )\n",
    "      png(paste(output_prefix, 'analyzed_profiles_', m,'.png', sep=''))\n",
    "      dba.plotProfile(profiles_significant, matrices_color=profile_colors, all_color_scales_equal=FALSE, \n",
    "                      decreasing=FALSE, \n",
    "                      #group_anno_color=unlist(unname(conditions_colour_code))\n",
    "      )\n",
    "      invisible(capture.output(dev.off()))\n",
    "    }, error=function(e){\n",
    "      message(\"No figure\\n\", e)\n",
    "      invisible(capture.output(dev.off()))\n",
    "      invisible(file.remove(paste(output_prefix, 'analyzed_profiles_', m,'.png', sep='')))\n",
    "    }\n",
    "  )\n",
    "  \n",
    "  gained <- out %>% \n",
    "    dplyr::filter(FDR < 0.05 & Fold > 0)\n",
    "  lost <- out %>% \n",
    "    dplyr::filter(FDR < 0.05 & Fold < 0)\n",
    "  \n",
    "  # Write complete DE result to files\n",
    "  write.table(gained, file=paste(output_prefix, 'analyzed_report_', report, '_', dbObj.contrast$contrasts[[1]]$name1, '.tsv', sep=''), sep=\"\\t\", quote=F, row.names=F, col.names=F)\n",
    "  write.table(lost, file=paste(output_prefix, 'analyzed_report_', report, '_', dbObj.contrast$contrasts[[1]]$name2, '.tsv', sep=''), sep=\"\\t\", quote=F, row.names=F, col.names=F)\n",
    "  \n",
    "  # Use absolute fold-change for plotting magnitude\n",
    "  gained$Fold <- abs(gained$Fold)\n",
    "  lost$Fold <- abs(lost$Fold)\n",
    "  \n",
    "  gpeaks <- GenomicRanges::GRangesList(Gained=gained, Lost=lost)\n",
    "  names(gpeaks) <- c(dbObj.contrast$contrasts[[1]]$name1, dbObj.contrast$contrasts[[1]]$name2)\n",
    "  \n",
    "  # Plot peaks gained/lost over genome between conditions\n",
    "  plt <- covplot(gpeaks, title=paste(\"Peaks over Genome\", report, sep=' - '), weightCol='Fold') + \n",
    "    scale_color_manual(values=rev(c(colours[1:length(unique_peaks)]))) + \n",
    "    scale_fill_manual(values=rev(c(colours[1:length(unique_peaks)])))\n",
    "  invisible(capture.output(ggsave(filename=paste(output_prefix, '_', report, '_significant_merged_peaks.png', sep=''), plot=plt, dpi=320)))\n",
    "  plt <- plt + facet_grid(chr ~ .id)\n",
    "  invisible(capture.output(ggsave(filename=paste(output_prefix, '_', report, '_significant_peaks.png', sep=''), plot=plt, dpi=320)))\n",
    "  \n",
    "  \n",
    "  # ========= Get Annotations =========\n",
    "  peakAnnoList <- list()\n",
    "  for (p in names(gpeaks)){\n",
    "    cat(\"\\nAnnotating\", p, \"\\n\")\n",
    "    anno <- annotatePeak(gpeaks[[p]], \n",
    "                         TxDb=txdb,\n",
    "                         annoDb=annoDb)\n",
    "    peakAnnoList[[p]] <- anno\n",
    "    \n",
    "    # Write annotation to file\n",
    "    write.table(anno, file=paste(output_prefix, 'annotated_', report, '_', p, '.tsv', sep=''), sep=\"\\t\", quote=F, row.names=F, col.names=T)\n",
    "  }\n",
    "  \n",
    "  plt <- plotAnnoBar(peakAnnoList)\n",
    "  invisible(capture.output(ggsave(filename=paste(output_prefix, 'peaks_annotation_distribution_', report, '.png', sep=''), plot=plt, dpi=320)))\n",
    "  \n",
    "  plt <- plotDistToTSS(peakAnnoList)\n",
    "  invisible(capture.output(ggsave(filename=paste(output_prefix, 'peaks_annotation_TSS_distribution_', report, '.png', sep=''), plot=plt, dpi=320)))\n",
    "  \n",
    "  \n",
    "  genes = lapply(peakAnnoList, function(i) as.data.frame(i)$geneId)\n",
    "  names(genes) = sub(\"_\", \"\\n\", names(genes))\n",
    "  \n",
    "  tryCatch(\n",
    "    {\n",
    "      # fun is \"groupGO\", \"enrichGO\", \"enrichKEGG\", \"enrichDO\" or \"enrichPathway\" \n",
    "      compKEGG <- compareCluster(geneCluster=genes,\n",
    "                                 fun=\"enrichKEGG\",\n",
    "                                 pvalueCutoff=0.05,\n",
    "                                 pAdjustMethod=\"BH\",\n",
    "                                 organism=keggOrg) # Check https://www.genome.jp/kegg/catalog/org_list.html for organism hsa=human mmu=mouse\n",
    "      \n",
    "      if (!is.null(compKEGG)){\n",
    "        plt <- dotplot(compKEGG, showCategory = 10, title = paste(\"KEGG Pathway Enrichment Analysis\", report, sep=' - '))\n",
    "        invisible(capture.output(ggsave(filename=paste(output_prefix, 'annotated_kegg_analysis_', report, '.png', sep=''), plot=plt, dpi=320)))\n",
    "        # Write annotations to csv\n",
    "        write.table(as.data.frame(compKEGG), file=paste(output_prefix, 'annotated_KEGG_', report, '.tsv', sep=''), sep=\"\\t\", quote=F, row.names=F, col.names=T)\n",
    "      }\n",
    "    },error = function(e)\n",
    "    {\n",
    "      message(e)\n",
    "    }\n",
    "  )\n",
    "  \n",
    "  tryCatch(\n",
    "    {\n",
    "      compGO <- compareCluster(geneCluster=genes,\n",
    "                               OrgDb=annoDb,\n",
    "                               fun=\"enrichGO\",\n",
    "                               pvalueCutoff=0.05,\n",
    "                               pAdjustMethod=\"BH\",\n",
    "                               readable=TRUE\n",
    "      ) # Check https://www.genome.jp/kegg/catalog/org_list.html for organism hsa=human mmu=mouse\n",
    "      \n",
    "      if (!is.null(compGO)){\n",
    "        plt <- dotplot(compGO, showCategory = 10, title = paste(\"GO Pathway Enrichment Analysis\", report, sep=' - '))\n",
    "        invisible(capture.output(ggsave(filename=paste(output_prefix, 'annotated_go_analysis_', report, '.png', sep=''), plot=plt, dpi=320)))\n",
    "        # Write annotations to csv\n",
    "        write.table(as.data.frame(compGO), file=paste(output_prefix, 'annotated_GO_', report, '.tsv', sep=''), sep=\"\\t\", quote=F, row.names=F, col.names=T)\n",
    "      }\n",
    "    },error = function(e)\n",
    "    {\n",
    "      message(e)\n",
    "    }\n",
    "  )\n",
    "}"
   ]
  },
  {
   "cell_type": "markdown",
   "id": "a2d6e624",
   "metadata": {},
   "source": [
    "___"
   ]
  },
  {
   "cell_type": "markdown",
   "id": "dd0e7cf0",
   "metadata": {},
   "source": [
    "### Obtain only DEGs identified by both DESeq2 AND edgeR (very high confidence in DEGs)"
   ]
  },
  {
   "cell_type": "code",
   "execution_count": null,
   "id": "e3a611c4",
   "metadata": {},
   "outputs": [],
   "source": [
    "df_both <- merge(as.data.frame(reports[[\"DESeq2\"]]), as.data.frame(reports[[\"edgeR\"]]), by=c(\"seqnames\", \"start\", \"end\"), suffixes=c(\".DESeq2\", \".edgeR\"))\n",
    "reports[[\"DESeq2_and_edgeR\"]] <- GRanges(df_both)\n",
    "report <- \"DESeq2_and_edgeR\"\n",
    "\n",
    "out <- as.data.frame(reports[[report]])\n",
    "#out <- out[as.data.frame(findOverlaps(both, reports[[report]]))[[\"subjectHits\"]], ]\n",
    "\n",
    "cat(\"\\n\", report, \"Report:\\n\")\n",
    "print(head(out))\n",
    "print(tail(out))\n",
    "\n",
    "gained <- out %>% \n",
    "  dplyr::filter(FDR.DESeq2 < 0.05 & Fold.DESeq2 > 0 & FDR.edgeR < 0.05 & Fold.edgeR > 0) %>% \n",
    "  dplyr::select(seqnames, start, end)\n",
    "lost <- out %>% \n",
    "  dplyr::filter(FDR.DESeq2 < 0.05 & Fold.DESeq2 < 0 & FDR.edgeR < 0.05 & Fold.edgeR < 0) %>% \n",
    "  dplyr::select(seqnames, start, end)\n",
    "\n",
    "cat('\\n', dim(out)[[1]], 'peaks in', report, 'report:\\n')\n",
    "cat('\\n\\t', dim(gained)[[1]] + dim(lost)[[1]], 'statistically significant peaks', '( FDR <', dbObj.analyzed$config$th, ')\\n')\n",
    "cat('\\n\\t', dim(gained)[[1]], 'DE peaks (positive fold-change) in', dbObj.contrast$contrasts[[1]]$name1, '\\n')\n",
    "cat('\\n\\t', dim(lost)[[1]], 'DE peaks (negative fold-change) in', dbObj.contrast$contrasts[[1]]$name2, '\\n')"
   ]
  },
  {
   "cell_type": "markdown",
   "id": "e31d2eda",
   "metadata": {},
   "source": [
    "### Write report to files"
   ]
  },
  {
   "cell_type": "code",
   "execution_count": null,
   "id": "f5eb1a2c",
   "metadata": {},
   "outputs": [],
   "source": [
    "# Write complete report to file\n",
    "write.table(out, file=paste(output_prefix, 'analyzed_report_', report, '.tsv', sep=''), sep=\"\\t\", quote=F, row.names=F)\n",
    "\n",
    "# Write DE result to bed files\n",
    "write.table(gained, file=paste(output_prefix, 'analyzed_report_', report, '_', dbObj.contrast$contrasts[[1]]$name1, '.bed', sep=''), sep=\"\\t\", quote=F, row.names=F, col.names=F)\n",
    "write.table(lost, file=paste(output_prefix, 'analyzed_report_', report, '_', dbObj.contrast$contrasts[[1]]$name2, '.bed', sep=''), sep=\"\\t\", quote=F, row.names=F, col.names=F)\n",
    "\n",
    "gained <- out %>% \n",
    "  dplyr::filter(FDR.DESeq2 < 0.05 & Fold.DESeq2 > 0 & FDR.edgeR < 0.05 & Fold.edgeR > 0)\n",
    "lost <- out %>% \n",
    "  dplyr::filter(FDR.DESeq2 < 0.05 & Fold.DESeq2 < 0 & FDR.edgeR < 0.05 & Fold.edgeR < 0)\n",
    "\n",
    "# Write complete DE result to files\n",
    "write.table(gained, file=paste(output_prefix, 'analyzed_report_', report, '_', dbObj.contrast$contrasts[[1]]$name1, '.tsv', sep=''), sep=\"\\t\", quote=F, row.names=F, col.names=F)\n",
    "write.table(lost, file=paste(output_prefix, 'analyzed_report_', report, '_', dbObj.contrast$contrasts[[1]]$name2, '.tsv', sep=''), sep=\"\\t\", quote=F, row.names=F, col.names=F)"
   ]
  },
  {
   "cell_type": "markdown",
   "id": "7b80ef97",
   "metadata": {},
   "source": [
    "### Plot results"
   ]
  },
  {
   "cell_type": "code",
   "execution_count": null,
   "id": "9ba1335b",
   "metadata": {},
   "outputs": [],
   "source": [
    "gpeaks <- GenomicRanges::GRangesList(Gained=gained, Lost=lost)\n",
    "names(gpeaks) <- c(dbObj.contrast$contrasts[[1]]$name1, dbObj.contrast$contrasts[[1]]$name2)\n",
    "\n",
    "# Plot peaks gained/lost over genome between conditions\n",
    "plt <- covplot(gpeaks, title=paste(\"Peaks over Genome\", report, sep=' - '), ) + #weightCol='Fold') + \n",
    "  scale_color_manual(values=rev(c(colours[1:length(unique_peaks)]))) + \n",
    "  scale_fill_manual(values=rev(c(colours[1:length(unique_peaks)])))\n",
    "invisible(capture.output(ggsave(filename=paste(output_prefix, '_', report, '_significant_merged_peaks.png', sep=''), plot=plt, dpi=320)))\n",
    "plt <- plt + facet_grid(chr ~ .id)\n",
    "invisible(capture.output(ggsave(filename=paste(output_prefix, '_', report, '_significant_peaks.png', sep=''), plot=plt, dpi=320)))"
   ]
  },
  {
   "cell_type": "markdown",
   "id": "bdc056b3",
   "metadata": {},
   "source": [
    "### Annotate DEGs"
   ]
  },
  {
   "cell_type": "code",
   "execution_count": null,
   "id": "85b63c3a",
   "metadata": {},
   "outputs": [],
   "source": [
    "peakAnnoList <- list()\n",
    "for (p in names(gpeaks)){\n",
    "  cat(\"\\nAnnotating\", p, \"\\n\")\n",
    "  anno <- annotatePeak(gpeaks[[p]], \n",
    "                       TxDb=txdb,\n",
    "                       annoDb=annoDb)\n",
    "  peakAnnoList[[p]] <- anno\n",
    "  \n",
    "  # Write annotation to file\n",
    "  write.table(anno, file=paste(output_prefix, 'annotated_', report, '_', p, '.tsv', sep=''), sep=\"\\t\", quote=F, row.names=F, col.names=T)\n",
    "}"
   ]
  },
  {
   "cell_type": "code",
   "execution_count": null,
   "id": "ea846b56",
   "metadata": {},
   "outputs": [],
   "source": [
    "# Plot feature distribution\n",
    "plt <- plotAnnoBar(peakAnnoList)\n",
    "invisible(capture.output(ggsave(filename=paste(output_prefix, 'peaks_annotation_distribution_', report, '.png', sep=''), plot=plt, dpi=320)))"
   ]
  },
  {
   "cell_type": "code",
   "execution_count": null,
   "id": "77103298",
   "metadata": {},
   "outputs": [],
   "source": [
    "# Plot TSS distribution\n",
    "plt <- plotDistToTSS(peakAnnoList)\n",
    "invisible(capture.output(ggsave(filename=paste(output_prefix, 'peaks_annotation_TSS_distribution_', report, '.png', sep=''), plot=plt, dpi=320)))"
   ]
  },
  {
   "cell_type": "markdown",
   "id": "5f472383",
   "metadata": {},
   "source": [
    "### Annotate GO"
   ]
  },
  {
   "cell_type": "code",
   "execution_count": null,
   "id": "a468fdf5",
   "metadata": {},
   "outputs": [],
   "source": [
    "tryCatch(\n",
    "  {\n",
    "    compGO <- compareCluster(geneCluster=genes,\n",
    "                             OrgDb=annoDb,\n",
    "                             fun=\"enrichGO\",\n",
    "                             pvalueCutoff=0.05,\n",
    "                             pAdjustMethod=\"BH\",\n",
    "                             readable=TRUE\n",
    "    ) # Check https://www.genome.jp/kegg/catalog/org_list.html for organism hsa=human mmu=mouse\n",
    "    \n",
    "    if (!is.null(compGO)){\n",
    "      plt <- dotplot(compGO, showCategory = 10, title = paste(\"GO Pathway Enrichment Analysis\", report, sep=' - '))\n",
    "      invisible(capture.output(ggsave(filename=paste(output_prefix, 'annotated_go_analysis_', report, '.png', sep=''), plot=plt, dpi=320)))\n",
    "      # Write annotations to csv\n",
    "      write.table(as.data.frame(compGO), file=paste(output_prefix, 'annotated_GO_', report, '.tsv', sep=''), sep=\"\\t\", quote=F, row.names=F, col.names=T)\n",
    "    }\n",
    "  },error = function(e)\n",
    "  {\n",
    "    message(e)\n",
    "  }\n",
    ")"
   ]
  },
  {
   "cell_type": "markdown",
   "id": "92de94b9",
   "metadata": {},
   "source": [
    "### Annotate KEGG"
   ]
  },
  {
   "cell_type": "code",
   "execution_count": null,
   "id": "7e0b034b",
   "metadata": {},
   "outputs": [],
   "source": [
    "tryCatch(\n",
    "  {\n",
    "    # fun is \"groupGO\", \"enrichGO\", \"enrichKEGG\", \"enrichDO\" or \"enrichPathway\" \n",
    "    compKEGG <- compareCluster(geneCluster=genes,\n",
    "                               fun=\"enrichKEGG\",\n",
    "                               pvalueCutoff=0.05,\n",
    "                               pAdjustMethod=\"BH\",\n",
    "                               organism=keggOrg) # Check https://www.genome.jp/kegg/catalog/org_list.html for organism hsa=human mmu=mouse\n",
    "    \n",
    "    if (!is.null(compKEGG)){\n",
    "      plt <- dotplot(compKEGG, showCategory = 10, title = paste(\"KEGG Pathway Enrichment Analysis\", report, sep=' - '))\n",
    "      invisible(capture.output(ggsave(filename=paste(output_prefix, 'annotated_kegg_analysis_', report, '.png', sep=''), plot=plt, dpi=320)))\n",
    "      # Write annotations to csv\n",
    "      write.table(as.data.frame(compKEGG), file=paste(output_prefix, 'annotated_KEGG_', report, '.tsv', sep=''), sep=\"\\t\", quote=F, row.names=F, col.names=T)\n",
    "    }\n",
    "  },error = function(e)\n",
    "  {\n",
    "    message(e)\n",
    "  }\n",
    ")"
   ]
  },
  {
   "cell_type": "markdown",
   "id": "d4d367e0",
   "metadata": {},
   "source": [
    "## <center> =========== END OF Affinity Analysis ============ </center>"
   ]
  }
 ],
 "metadata": {
  "kernelspec": {
   "display_name": "R",
   "language": "R",
   "name": "ir"
  },
  "language_info": {
   "codemirror_mode": "r",
   "file_extension": ".r",
   "mimetype": "text/x-r-source",
   "name": "R",
   "pygments_lexer": "r",
   "version": "4.2.2"
  }
 },
 "nbformat": 4,
 "nbformat_minor": 5
}
